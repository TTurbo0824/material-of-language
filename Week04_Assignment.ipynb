{
 "cells": [
  {
   "cell_type": "markdown",
   "metadata": {},
   "source": [
    "# Week 04 Assignment\n",
    "By KJ Ha"
   ]
  },
  {
   "cell_type": "markdown",
   "metadata": {},
   "source": [
    "## My Fair Poem\n",
    "\n",
    "Inspired by \"<i>The Rain In Spain</i>\" from <b>My Fair Lady</b>."
   ]
  },
  {
   "cell_type": "code",
   "execution_count": 29,
   "metadata": {},
   "outputs": [],
   "source": [
    "text1 = \"The rain in Spain stays mainly in the plain\"\n",
    "text2 = \"In Hertford, Hereford, and Hampshire, hurricanes hardly happen\"\n",
    "text3 = \"abcdefghijklmnopqrstuvwxyz\""
   ]
  },
  {
   "cell_type": "markdown",
   "metadata": {},
   "source": [
    "Change all the texts in lowercase using <code>lower()</code> function"
   ]
  },
  {
   "cell_type": "code",
   "execution_count": 30,
   "metadata": {},
   "outputs": [
    {
     "data": {
      "text/plain": [
       "'the rain in spain stays mainly in the plain'"
      ]
     },
     "execution_count": 30,
     "metadata": {},
     "output_type": "execute_result"
    }
   ],
   "source": [
    "text1_lower = text1.lower()\n",
    "text1_lower"
   ]
  },
  {
   "cell_type": "code",
   "execution_count": 31,
   "metadata": {},
   "outputs": [
    {
     "data": {
      "text/plain": [
       "'in hertford, hereford, and hampshire, hurricanes hardly happen'"
      ]
     },
     "execution_count": 31,
     "metadata": {},
     "output_type": "execute_result"
    }
   ],
   "source": [
    "text2_lower = text2.lower()\n",
    "text2_lower"
   ]
  },
  {
   "cell_type": "markdown",
   "metadata": {},
   "source": [
    "Accessing UnicodeData database"
   ]
  },
  {
   "cell_type": "code",
   "execution_count": 32,
   "metadata": {},
   "outputs": [
    {
     "name": "stdout",
     "output_type": "stream",
     "text": [
      "  % Total    % Received % Xferd  Average Speed   Time    Time     Time  Current\n",
      "                                 Dload  Upload   Total   Spent    Left  Speed\n",
      "100 1646k  100 1646k    0     0  48907      0  0:00:34 --:--:--  0:00:34 48761  2103k      0 --:--:-- --:--:-- --:--:-- 2100k\n"
     ]
    }
   ],
   "source": [
    "!curl -L -O https://www.unicode.org/Public/9.0.0/ucd/UnicodeData.txt"
   ]
  },
  {
   "cell_type": "code",
   "execution_count": 33,
   "metadata": {},
   "outputs": [],
   "source": [
    "unicode = []\n",
    "for line in open(\"UnicodeData.txt\"):\n",
    "    line = line.strip()\n",
    "    fields = line.split(';')\n",
    "    row = {\n",
    "        'char': chr(int(fields[0], 16)),\n",
    "        'name': fields[1],\n",
    "        'category': fields[2]\n",
    "    }\n",
    "    unicode.append(row)"
   ]
  },
  {
   "cell_type": "code",
   "execution_count": 34,
   "metadata": {},
   "outputs": [
    {
     "name": "stdout",
     "output_type": "stream",
     "text": [
      "['፦', '∯', '𝤔', '𝤕', '𝨇', '𝨈', '𝨉', '💆', '🕐', '🕑', '🕒', '🕓', '🕔', '🕕', '🕖', '🕗', '🕘', '🕙', '🕚', '🕛', '🕜', '🕝', '🕞', '🕟', '🕠', '🕡', '🕢', '🕣', '🕤', '🕥', '🕦', '🕧', '😁', '😂', '😃', '😄', '😅', '😆', '😇', '😈', '😊', '😋', '😍', '😎', '😓', '😘', '😙', '😚', '😛', '😜', '😝', '😤', '😦', '😮', '😰', '😱', '😶', '😷', '😸', '😹', '😺', '😻', '😼', '😽', '🙄', '🙅', '🙆', '🤒', '🤕', '🤠', '🤦'] 71\n"
     ]
    }
   ],
   "source": [
    "faces = [row['char'] for row in unicode if 'FACE ' in row['name']]\n",
    "print(faces, len(faces))"
   ]
  },
  {
   "cell_type": "code",
   "execution_count": 35,
   "metadata": {},
   "outputs": [
    {
     "name": "stdout",
     "output_type": "stream",
     "text": [
      "['😁', '😂', '😃', '😄', '😅', '😆', '😇', '😈', '😊', '😋', '😍', '😎', '😓', '😘', '😙', '😚', '😛', '😜', '😝', '😤', '😦', '😮', '😰', '😱', '😶', '😷', '😸', '😹', '😺', '😻', '😼', '😽', '🙄', '🙅', '🙆', '🤒', '🤕', '🤠']\n"
     ]
    }
   ],
   "source": [
    "s_faces = faces[32:70]\n",
    "print(s_faces)"
   ]
  },
  {
   "cell_type": "markdown",
   "metadata": {},
   "source": [
    "Turning letters into numbers depending on their index numbers. (i.e. a becomes 1, b becomes 2, and etc.)"
   ]
  },
  {
   "cell_type": "code",
   "execution_count": 36,
   "metadata": {},
   "outputs": [
    {
     "name": "stdout",
     "output_type": "stream",
     "text": [
      "[1, 2, 3, 4, 5, 6, 7, 8, 9, 10, 11, 12, 13, 14, 15, 16, 17, 18, 19, 20, 21, 22, 23, 24, 25, 26]\n"
     ]
    }
   ],
   "source": [
    "item3 = [text3.index(item3) + 1 for item3 in text3]\n",
    "print(item3)"
   ]
  },
  {
   "cell_type": "markdown",
   "metadata": {},
   "source": [
    "Then turn numbers into corresponding emojis"
   ]
  },
  {
   "cell_type": "code",
   "execution_count": 37,
   "metadata": {},
   "outputs": [
    {
     "name": "stdout",
     "output_type": "stream",
     "text": [
      "😁😂😃😄😅😆😇😈😊😋😍😎😓😘😙😚😛😜😝😤😦😮😰😱😶😷\n"
     ]
    }
   ],
   "source": [
    "item_e = [s_faces[item_e-1] for item_e in item3]\n",
    "print(''.join(item_e))"
   ]
  },
  {
   "cell_type": "markdown",
   "metadata": {},
   "source": [
    "Listing letters and their corresponding emojis"
   ]
  },
  {
   "cell_type": "code",
   "execution_count": 38,
   "metadata": {},
   "outputs": [
    {
     "name": "stdout",
     "output_type": "stream",
     "text": [
      "😁 a\n",
      "😂 b\n",
      "😃 c\n",
      "😄 d\n",
      "😅 e\n",
      "😆 f\n",
      "😇 g\n",
      "😈 h\n",
      "😊 i\n",
      "😋 j\n",
      "😍 k\n",
      "😎 l\n",
      "😓 m\n",
      "😘 n\n",
      "😙 o\n",
      "😚 p\n",
      "😛 q\n",
      "😜 r\n",
      "😝 s\n",
      "😤 t\n",
      "😦 u\n",
      "😮 v\n",
      "😰 w\n",
      "😱 x\n",
      "😶 y\n",
      "😷 z\n"
     ]
    }
   ],
   "source": [
    "for i in range(0, len(text3)):\n",
    "    print(item_e[i], text3[i])"
   ]
  },
  {
   "cell_type": "markdown",
   "metadata": {},
   "source": [
    "First, turn letters in text1 & text2 into numbers"
   ]
  },
  {
   "cell_type": "code",
   "execution_count": 39,
   "metadata": {},
   "outputs": [
    {
     "name": "stdout",
     "output_type": "stream",
     "text": [
      "[20, 8, 5, -64, 18, 1, 9, 14, -64, 9, 14, -64, 19, 16, 1, 9, 14, -64, 19, 20, 1, 25, 19, -64, 13, 1, 9, 14, 12, 25, -64, 9, 14, -64, 20, 8, 5, -64, 16, 12, 1, 9, 14]\n"
     ]
    }
   ],
   "source": [
    "numbers1 = []\n",
    "\n",
    "for letter1 in text1_lower:\n",
    "  number = ord(letter1) - 96\n",
    "  numbers1.append(number)\n",
    "\n",
    "print(numbers1)"
   ]
  },
  {
   "cell_type": "code",
   "execution_count": 40,
   "metadata": {},
   "outputs": [
    {
     "name": "stdout",
     "output_type": "stream",
     "text": [
      "[9, 14, -64, 8, 5, 18, 20, 6, 15, 18, 4, -52, -64, 8, 5, 18, 5, 6, 15, 18, 4, -52, -64, 1, 14, 4, -64, 8, 1, 13, 16, 19, 8, 9, 18, 5, -52, -64, 8, 21, 18, 18, 9, 3, 1, 14, 5, 19, -64, 8, 1, 18, 4, 12, 25, -64, 8, 1, 16, 16, 5, 14]\n"
     ]
    }
   ],
   "source": [
    "numbers2 = []\n",
    "\n",
    "for letter2 in text2_lower:\n",
    "  number = ord(letter2) - 96\n",
    "  numbers2.append(number)\n",
    "\n",
    "print(numbers2)"
   ]
  },
  {
   "cell_type": "markdown",
   "metadata": {},
   "source": [
    "Change <code>space</code> and <code>comma</code> in to numbers: space => 27, comma => 28"
   ]
  },
  {
   "cell_type": "code",
   "execution_count": 41,
   "metadata": {},
   "outputs": [
    {
     "name": "stdout",
     "output_type": "stream",
     "text": [
      "[20, 8, 5, 27, 18, 1, 9, 14, 27, 9, 14, 27, 19, 16, 1, 9, 14, 27, 19, 20, 1, 25, 19, 27, 13, 1, 9, 14, 12, 25, 27, 9, 14, 27, 20, 8, 5, 27, 16, 12, 1, 9, 14]\n"
     ]
    }
   ],
   "source": [
    "number1_x = [27 if x == -64 else x for x in numbers1]\n",
    "number1_y = [28 if y == -52 else y for y in number1_x]\n",
    "\n",
    "print(number1_y)"
   ]
  },
  {
   "cell_type": "code",
   "execution_count": 42,
   "metadata": {},
   "outputs": [
    {
     "name": "stdout",
     "output_type": "stream",
     "text": [
      "[9, 14, 27, 8, 5, 18, 20, 6, 15, 18, 4, 28, 27, 8, 5, 18, 5, 6, 15, 18, 4, 28, 27, 1, 14, 4, 27, 8, 1, 13, 16, 19, 8, 9, 18, 5, 28, 27, 8, 21, 18, 18, 9, 3, 1, 14, 5, 19, 27, 8, 1, 18, 4, 12, 25, 27, 8, 1, 16, 16, 5, 14]\n"
     ]
    }
   ],
   "source": [
    "number2_x = [27 if x == -64 else x for x in numbers2]\n",
    "number2_y = [28 if y == -52 else y for y in number2_x]\n",
    "\n",
    "print(number2_y)"
   ]
  },
  {
   "cell_type": "markdown",
   "metadata": {},
   "source": [
    "Turn items in text1 and text2 into emjois"
   ]
  },
  {
   "cell_type": "code",
   "execution_count": 43,
   "metadata": {},
   "outputs": [
    {
     "name": "stdout",
     "output_type": "stream",
     "text": [
      "😤 20\n",
      "😈 8\n",
      "😅 5\n",
      "😸 27\n",
      "😜 18\n",
      "😁 1\n",
      "😊 9\n",
      "😘 14\n",
      "😸 27\n",
      "😊 9\n",
      "😘 14\n",
      "😸 27\n",
      "😝 19\n",
      "😚 16\n",
      "😁 1\n",
      "😊 9\n",
      "😘 14\n",
      "😸 27\n",
      "😝 19\n",
      "😤 20\n",
      "😁 1\n",
      "😶 25\n",
      "😝 19\n",
      "😸 27\n",
      "😓 13\n",
      "😁 1\n",
      "😊 9\n",
      "😘 14\n",
      "😎 12\n",
      "😶 25\n",
      "😸 27\n",
      "😊 9\n",
      "😘 14\n",
      "😸 27\n",
      "😤 20\n",
      "😈 8\n",
      "😅 5\n",
      "😸 27\n",
      "😚 16\n",
      "😎 12\n",
      "😁 1\n",
      "😊 9\n",
      "😘 14\n"
     ]
    }
   ],
   "source": [
    "for item in number1_y:\n",
    "    item_new = s_faces[item-1]\n",
    "    print(item_new, item)"
   ]
  },
  {
   "cell_type": "markdown",
   "metadata": {},
   "source": [
    "Final emoji poem for text1: \"The rain in Spain stays mainly in the plain\""
   ]
  },
  {
   "cell_type": "code",
   "execution_count": 44,
   "metadata": {},
   "outputs": [
    {
     "data": {
      "text/plain": [
       "'😤😈😅😸😜😁😊😘😸😊😘😸😝😚😁😊😘😸😝😤😁😶😝😸😓😁😊😘😎😶😸😊😘😸😤😈😅😸😚😎😁😊😘'"
      ]
     },
     "execution_count": 44,
     "metadata": {},
     "output_type": "execute_result"
    }
   ],
   "source": [
    "item_final_1 = [s_faces[item-1] for item in number1_y]\n",
    "item_final1 = ''.join(item_final_1)\n",
    "item_final1"
   ]
  },
  {
   "cell_type": "markdown",
   "metadata": {},
   "source": [
    "Final emoji poem for text2: \"In Hertford, Hereford, and Hampshire, hurricanes hardly happen\""
   ]
  },
  {
   "cell_type": "code",
   "execution_count": 45,
   "metadata": {},
   "outputs": [
    {
     "data": {
      "text/plain": [
       "'😊😘😸😈😅😜😤😆😙😜😄😹😸😈😅😜😅😆😙😜😄😹😸😁😘😄😸😈😁😓😚😝😈😊😜😅😹😸😈😦😜😜😊😃😁😘😅😝😸😈😁😜😄😎😶😸😈😁😚😚😅😘'"
      ]
     },
     "execution_count": 45,
     "metadata": {},
     "output_type": "execute_result"
    }
   ],
   "source": [
    "item_final_2 = [s_faces[item-1] for item in number2_y]\n",
    "item_final2 = ''.join(item_final_2)\n",
    "item_final2"
   ]
  },
  {
   "cell_type": "markdown",
   "metadata": {},
   "source": [
    "### Create html file"
   ]
  },
  {
   "cell_type": "code",
   "execution_count": 46,
   "metadata": {},
   "outputs": [],
   "source": [
    "import random\n",
    "import math"
   ]
  },
  {
   "cell_type": "code",
   "execution_count": 47,
   "metadata": {},
   "outputs": [],
   "source": [
    "from IPython.display import display, HTML\n",
    "def show_html(src):\n",
    "    return display(HTML(src), metadata=dict(isolated=True))"
   ]
  },
  {
   "cell_type": "code",
   "execution_count": 48,
   "metadata": {},
   "outputs": [
    {
     "name": "stdout",
     "output_type": "stream",
     "text": [
      "Register a callback to execute when the button is clicked.\n",
      "\n",
      "        The callback will be called with one argument, the clicked button\n",
      "        widget instance.\n",
      "\n",
      "        Parameters\n",
      "        ----------\n",
      "        remove: bool (optional)\n",
      "            Set to true to remove the callback from the list of callbacks.\n",
      "        \n"
     ]
    }
   ],
   "source": [
    "import ipywidgets as widgets\n",
    "print(widgets.Button.on_click.__doc__)"
   ]
  },
  {
   "cell_type": "code",
   "execution_count": 50,
   "metadata": {},
   "outputs": [],
   "source": [
    "html_tmpl = \"\"\"<!DOCTYPE html>\n",
    "<html lang=\"en\">\n",
    "<head>\n",
    "<style>\n",
    "html {{ margin-left: 30px;}}\n",
    "</style>\n",
    "</head>\n",
    "<body>\n",
    "{title}\n",
    "{content}\n",
    "</body>\n",
    "</html>\"\"\""
   ]
  },
  {
   "cell_type": "code",
   "execution_count": 51,
   "metadata": {},
   "outputs": [],
   "source": [
    "def mkdiv(content, **kwargs):\n",
    "    if 'position' not in kwargs:\n",
    "        kwargs['position'] = 'absolute'\n",
    "    style_str = ' '.join([\": \".join((k.replace('_', '-'), v))+\";\" for k, v in kwargs.items()])\n",
    "    return f\"<div style='{style_str}'>{content}</div>\""
   ]
  },
  {
   "cell_type": "code",
   "execution_count": 52,
   "metadata": {},
   "outputs": [
    {
     "data": {
      "text/html": [
       "<!DOCTYPE html>\n",
       "<html lang=\"en\">\n",
       "<head>\n",
       "<style>\n",
       "html { margin-left: 30px;}\n",
       "</style>\n",
       "</head>\n",
       "<body>\n",
       "My Fair Poem\n",
       "<div style='bottom: 55%; left: 10%; right: 10%; font-size: 17pt; position: absolute;'>😤😈😅😸😜😁😊😘😸😊😘😸😝😚😁😊😘😸😝😤😁😶😝😸😓😁😊😘😎😶😸😊😘😸😤😈😅😸😚😎😁😊😘</div><div style='top: 55%; left: 10%; right: 10%; font-size: 17pt; position: absolute;'>😊😘😸😈😅😜😤😆😙😜😄😹😸😈😅😜😅😆😙😜😄😹😸😁😘😄😸😈😁😓😚😝😈😊😜😅😹😸😈😦😜😜😊😃😁😘😅😝😸😈😁😜😄😎😶😸😈😁😚😚😅😘</div>\n",
       "</body>\n",
       "</html>"
      ],
      "text/plain": [
       "<IPython.core.display.HTML object>"
      ]
     },
     "metadata": {
      "isolated": true
     },
     "output_type": "display_data"
    }
   ],
   "source": [
    "my_divs = [    \n",
    "    # mkdiv(text1, bottom=\"65%\", left=\"10%\", right=\"10%\", font_size=\"12pt\"),\n",
    "    mkdiv(item_final1, bottom=\"55%\", left=\"10%\", right=\"10%\", font_size=\"17pt\"),\n",
    "    # mkdiv(text2, top=\"50%\", left=\"10%\", right=\"10%\", font_size=\"12pt\"),\n",
    "    mkdiv(item_final2, top=\"55%\", left=\"10%\", right=\"10%\", font_size=\"17pt\")\n",
    "]\n",
    "html_src = html_tmpl.format(title=\"My Fair Poem\", content=\"\".join(my_divs))\n",
    "show_html(html_src)"
   ]
  },
  {
   "cell_type": "code",
   "execution_count": 53,
   "metadata": {},
   "outputs": [
    {
     "data": {
      "text/plain": [
       "414"
      ]
     },
     "execution_count": 53,
     "metadata": {},
     "output_type": "execute_result"
    }
   ],
   "source": [
    "open(\"poem.html\", \"w\").write(html_src)"
   ]
  },
  {
   "cell_type": "code",
   "execution_count": 55,
   "metadata": {},
   "outputs": [],
   "source": [
    "!open poem.html"
   ]
  }
 ],
 "metadata": {
  "kernelspec": {
   "display_name": "Python 3",
   "language": "python",
   "name": "python3"
  },
  "language_info": {
   "codemirror_mode": {
    "name": "ipython",
    "version": 3
   },
   "file_extension": ".py",
   "mimetype": "text/x-python",
   "name": "python",
   "nbconvert_exporter": "python",
   "pygments_lexer": "ipython3",
   "version": "3.7.4"
  }
 },
 "nbformat": 4,
 "nbformat_minor": 2
}
