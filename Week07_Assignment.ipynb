{
 "cells": [
  {
   "cell_type": "markdown",
   "metadata": {},
   "source": [
    "This assignment is a continuation from the last week’s notebook.<br>\n",
    "\n",
    "What I found interesting about <i>The Rain In Spain</i> lyrics is the tension or rhythm created by repeating letters (or sounds). My aim for this assignment is to recreate such tension with abstract shapes, which have no semantic associations with preexisting languages."
   ]
  },
  {
   "cell_type": "code",
   "execution_count": 1,
   "metadata": {},
   "outputs": [
    {
     "name": "stdout",
     "output_type": "stream",
     "text": [
      "Requirement already satisfied: flat in /Users/kh/.pyenv/versions/3.7.3/lib/python3.7/site-packages (0.3.1)\r\n"
     ]
    }
   ],
   "source": [
    "!pip install flat"
   ]
  },
  {
   "cell_type": "code",
   "execution_count": 2,
   "metadata": {},
   "outputs": [],
   "source": [
    "from flat import document, shape, rgba"
   ]
  },
  {
   "cell_type": "code",
   "execution_count": 3,
   "metadata": {},
   "outputs": [],
   "source": [
    "from IPython.display import SVG, display\n",
    "def show(page):\n",
    "    display(SVG(page.svg()))"
   ]
  },
  {
   "cell_type": "code",
   "execution_count": 4,
   "metadata": {},
   "outputs": [],
   "source": [
    "import random"
   ]
  },
  {
   "cell_type": "code",
   "execution_count": 5,
   "metadata": {},
   "outputs": [],
   "source": [
    "from scipy.stats import truncnorm\n",
    "def t_normal(a, b, mu, sigma):\n",
    "    tn = truncnorm((a-mu)/sigma, (b-mu)/sigma, loc=mu, scale=sigma)\n",
    "    return tn.rvs(1)[0]"
   ]
  },
  {
   "cell_type": "code",
   "execution_count": 6,
   "metadata": {},
   "outputs": [
    {
     "name": "stdout",
     "output_type": "stream",
     "text": [
      "Collecting https://github.com/aparrish/bezmerizing/archive/master.zip\n",
      "  Using cached https://github.com/aparrish/bezmerizing/archive/master.zip (136 kB)\n",
      "Requirement already satisfied (use --upgrade to upgrade): bezmerizing==0.1.0 from https://github.com/aparrish/bezmerizing/archive/master.zip in /Users/kh/.pyenv/versions/3.7.3/lib/python3.7/site-packages\n",
      "Requirement already satisfied: flat>=0.0.3 in /Users/kh/.pyenv/versions/3.7.3/lib/python3.7/site-packages (from bezmerizing==0.1.0) (0.3.1)\n",
      "Requirement already satisfied: scipy>=1.1.0 in /Users/kh/.pyenv/versions/3.7.3/lib/python3.7/site-packages (from bezmerizing==0.1.0) (1.4.1)\n",
      "Requirement already satisfied: numpy>=1.13.3 in /Users/kh/.pyenv/versions/3.7.3/lib/python3.7/site-packages (from scipy>=1.1.0->bezmerizing==0.1.0) (1.18.1)\n"
     ]
    }
   ],
   "source": [
    "!pip install https://github.com/aparrish/bezmerizing/archive/master.zip"
   ]
  },
  {
   "cell_type": "code",
   "execution_count": 7,
   "metadata": {},
   "outputs": [],
   "source": [
    "from bezmerizing import Polyline"
   ]
  },
  {
   "cell_type": "code",
   "execution_count": 8,
   "metadata": {},
   "outputs": [],
   "source": [
    "text1 = \"The rain in Spain stays mainly in the plain\"\n",
    "text2 = \"In Hertford, Hereford, and Hampshire, hurricanes hardly happen\""
   ]
  },
  {
   "cell_type": "code",
   "execution_count": 9,
   "metadata": {},
   "outputs": [],
   "source": [
    "# Add dot for any punctuation marks or space\n",
    "text3 = \"ABCDEFGHIJKLMNOPQRSTUVWXYZ.\""
   ]
  },
  {
   "cell_type": "markdown",
   "metadata": {},
   "source": [
    "Transfer each letter into its corresponding number of strokes.<br>\n",
    "For example, <b>A</b> becomes <b>3</b>, <b>C</b> becomes <b>1</b>, and so on."
   ]
  },
  {
   "cell_type": "markdown",
   "metadata": {},
   "source": [
    "Listing each letter and its newly assigned number."
   ]
  },
  {
   "cell_type": "code",
   "execution_count": 14,
   "metadata": {},
   "outputs": [
    {
     "data": {
      "text/plain": [
       "27"
      ]
     },
     "execution_count": 14,
     "metadata": {},
     "output_type": "execute_result"
    }
   ],
   "source": [
    "# Add 0 for any punctuation marks or space\n",
    "alpha_s = [3, 3, 1, 2, 4, 4, 2, 3, 3, 2, 3, 2, 4, 3, 1, 2, 2, 3, 1, 2, 1, 2, 4, 2, 3, 3, 0]\n",
    "\n",
    "# Checking the length of array\n",
    "len(alpha_s)"
   ]
  },
  {
   "cell_type": "code",
   "execution_count": 15,
   "metadata": {},
   "outputs": [
    {
     "name": "stdout",
     "output_type": "stream",
     "text": [
      "A 3\n",
      "B 3\n",
      "C 1\n",
      "D 2\n",
      "E 4\n",
      "F 4\n",
      "G 2\n",
      "H 3\n",
      "I 3\n",
      "J 2\n",
      "K 3\n",
      "L 2\n",
      "M 4\n",
      "N 3\n",
      "O 1\n",
      "P 2\n",
      "Q 2\n",
      "R 3\n",
      "S 1\n",
      "T 2\n",
      "U 1\n",
      "V 2\n",
      "W 4\n",
      "X 2\n",
      "Y 3\n",
      "Z 3\n",
      ". 0\n"
     ]
    }
   ],
   "source": [
    "for i in range(0, len(text3)):\n",
    "    print(text3[i], alpha_s[i])"
   ]
  },
  {
   "cell_type": "markdown",
   "metadata": {},
   "source": [
    "Define <code>make_char1</code> function."
   ]
  },
  {
   "cell_type": "code",
   "execution_count": 16,
   "metadata": {},
   "outputs": [],
   "source": [
    "def make_char1(a):\n",
    "    pts = []\n",
    "    for i in range(int(t_normal(2*a+1, 2*a+2, 8, 2))):\n",
    "        x = (random.choice([0, 0.5, 1]))\n",
    "        y = (random.choice([0, 0.5, 1]))\n",
    "        pts.append([x, y])\n",
    "    return Polyline(pts)"
   ]
  },
  {
   "cell_type": "markdown",
   "metadata": {},
   "source": [
    "Creating a new set of alphabet letters based on the number of strokes."
   ]
  },
  {
   "cell_type": "code",
   "execution_count": 17,
   "metadata": {},
   "outputs": [
    {
     "name": "stdout",
     "output_type": "stream",
     "text": [
      "0 7 Polyline([[1.0000, 0.0000], [1.0000, 0.5000], [0.5000, 1.0000], [1.0000, 0.5000], [0.0000, 1.0000], [1.0000, 0.0000], [0.5000, 0.5000]])\n",
      "1 7 Polyline([[0.5000, 1.0000], [0.5000, 1.0000], [0.5000, 1.0000], [0.5000, 1.0000], [1.0000, 1.0000], [1.0000, 0.0000], [0.0000, 0.5000]])\n",
      "2 3 Polyline([[1.0000, 0.5000], [0.0000, 0.5000], [0.0000, 0.5000]])\n",
      "3 5 Polyline([[1.0000, 0.0000], [0.5000, 1.0000], [0.5000, 0.0000], [1.0000, 1.0000], [1.0000, 1.0000]])\n",
      "4 9 Polyline([[1.0000, 0.5000], [0.5000, 1.0000], [0.5000, 0.0000], [0.5000, 0.0000], [0.0000, 0.0000], [0.5000, 0.0000], [0.0000, 0.0000], [1.0000, 0.5000], [0.0000, 0.5000]])\n",
      "5 9 Polyline([[0.5000, 0.0000], [1.0000, 0.0000], [1.0000, 0.0000], [0.5000, 0.0000], [1.0000, 0.0000], [0.0000, 1.0000], [1.0000, 0.5000], [0.5000, 0.0000], [1.0000, 1.0000]])\n",
      "6 5 Polyline([[0.5000, 1.0000], [0.5000, 0.0000], [0.0000, 1.0000], [1.0000, 0.5000], [0.0000, 1.0000]])\n",
      "7 7 Polyline([[0.0000, 0.5000], [0.0000, 0.5000], [0.5000, 0.5000], [0.5000, 0.0000], [0.0000, 0.5000], [1.0000, 0.0000], [0.5000, 1.0000]])\n",
      "8 7 Polyline([[0.5000, 0.5000], [0.0000, 1.0000], [0.0000, 1.0000], [0.5000, 0.0000], [0.0000, 0.5000], [1.0000, 0.5000], [1.0000, 0.5000]])\n",
      "9 5 Polyline([[0.5000, 0.0000], [0.0000, 1.0000], [0.0000, 1.0000], [0.5000, 1.0000], [1.0000, 1.0000]])\n",
      "10 7 Polyline([[0.0000, 0.5000], [1.0000, 1.0000], [1.0000, 1.0000], [0.0000, 1.0000], [0.0000, 1.0000], [0.0000, 1.0000], [0.5000, 1.0000]])\n",
      "11 5 Polyline([[1.0000, 1.0000], [1.0000, 1.0000], [0.0000, 0.5000], [0.0000, 0.0000], [0.5000, 0.5000]])\n",
      "12 9 Polyline([[0.5000, 1.0000], [0.0000, 0.5000], [1.0000, 0.0000], [0.0000, 1.0000], [0.5000, 1.0000], [1.0000, 0.5000], [0.0000, 1.0000], [1.0000, 0.5000], [0.5000, 0.0000]])\n",
      "13 7 Polyline([[0.5000, 0.5000], [1.0000, 0.0000], [1.0000, 0.0000], [1.0000, 1.0000], [0.0000, 1.0000], [1.0000, 1.0000], [1.0000, 0.0000]])\n",
      "14 3 Polyline([[0.0000, 0.0000], [1.0000, 1.0000], [0.5000, 1.0000]])\n",
      "15 5 Polyline([[0.0000, 1.0000], [1.0000, 0.5000], [0.0000, 1.0000], [0.0000, 0.5000], [0.0000, 1.0000]])\n",
      "16 5 Polyline([[0.5000, 0.5000], [0.0000, 0.5000], [1.0000, 1.0000], [0.5000, 0.0000], [1.0000, 0.0000]])\n",
      "17 7 Polyline([[1.0000, 0.0000], [0.5000, 0.5000], [0.5000, 0.0000], [0.5000, 0.0000], [0.0000, 0.0000], [1.0000, 0.0000], [1.0000, 0.5000]])\n",
      "18 3 Polyline([[0.0000, 1.0000], [0.0000, 1.0000], [0.5000, 0.0000]])\n",
      "19 5 Polyline([[1.0000, 0.5000], [0.0000, 0.0000], [0.5000, 1.0000], [1.0000, 1.0000], [1.0000, 1.0000]])\n",
      "20 3 Polyline([[0.5000, 1.0000], [0.0000, 0.5000], [0.5000, 0.0000]])\n",
      "21 5 Polyline([[1.0000, 0.5000], [1.0000, 1.0000], [0.5000, 1.0000], [1.0000, 0.0000], [1.0000, 0.5000]])\n",
      "22 9 Polyline([[0.5000, 0.0000], [0.0000, 1.0000], [1.0000, 1.0000], [1.0000, 0.0000], [1.0000, 0.0000], [0.5000, 0.5000], [1.0000, 0.5000], [0.0000, 1.0000], [0.5000, 0.5000]])\n",
      "23 5 Polyline([[0.0000, 1.0000], [1.0000, 1.0000], [0.0000, 0.5000], [0.5000, 1.0000], [0.5000, 0.5000]])\n",
      "24 7 Polyline([[0.0000, 0.0000], [0.5000, 0.0000], [0.0000, 1.0000], [0.0000, 0.5000], [0.5000, 0.5000], [0.0000, 0.5000], [0.5000, 1.0000]])\n",
      "25 7 Polyline([[1.0000, 1.0000], [0.0000, 1.0000], [0.5000, 0.5000], [0.0000, 0.5000], [0.0000, 1.0000], [1.0000, 0.0000], [0.0000, 0.5000]])\n",
      "26 1 Polyline([[0.5000, 0.5000]])\n"
     ]
    },
    {
     "data": {
      "image/svg+xml": [
       "<svg height=\"850.3937pt\" version=\"1.1\" width=\"425.1969pt\" xmlns=\"http://www.w3.org/2000/svg\" xmlns:xlink=\"http://www.w3.org/1999/xlink\">\n",
       "<title>Untitled</title>\n",
       "<polyline fill=\"none\" points=\"35.2756 14.1732 35.2756 24.7244 24.7244 35.2756 35.2756 24.7244 14.1732 35.2756 35.2756 14.1732 24.7244 24.7244\" stroke=\"rgba(0,0,0,1)\" stroke-linejoin=\"round\" stroke-width=\"2\"/>\n",
       "<polyline fill=\"none\" points=\"24.7244 66.7717 24.7244 66.7717 24.7244 66.7717 24.7244 66.7717 35.2756 66.7717 35.2756 45.6693 14.1732 56.2205\" stroke=\"rgba(0,0,0,1)\" stroke-linejoin=\"round\" stroke-width=\"2\"/>\n",
       "<polyline fill=\"none\" points=\"35.2756 87.7165 14.1732 87.7165 14.1732 87.7165\" stroke=\"rgba(0,0,0,1)\" stroke-linejoin=\"round\" stroke-width=\"2\"/>\n",
       "<polyline fill=\"none\" points=\"35.2756 108.6614 24.7244 129.7638 24.7244 108.6614 35.2756 129.7638 35.2756 129.7638\" stroke=\"rgba(0,0,0,1)\" stroke-linejoin=\"round\" stroke-width=\"2\"/>\n",
       "<polyline fill=\"none\" points=\"35.2756 150.7087 24.7244 161.2598 24.7244 140.1575 24.7244 140.1575 14.1732 140.1575 24.7244 140.1575 14.1732 140.1575 35.2756 150.7087 14.1732 150.7087\" stroke=\"rgba(0,0,0,1)\" stroke-linejoin=\"round\" stroke-width=\"2\"/>\n",
       "<polyline fill=\"none\" points=\"24.7244 171.6535 35.2756 171.6535 35.2756 171.6535 24.7244 171.6535 35.2756 171.6535 14.1732 192.7559 35.2756 182.2047 24.7244 171.6535 35.2756 192.7559\" stroke=\"rgba(0,0,0,1)\" stroke-linejoin=\"round\" stroke-width=\"2\"/>\n",
       "<polyline fill=\"none\" points=\"24.7244 224.252 24.7244 203.1496 14.1732 224.252 35.2756 213.7008 14.1732 224.252\" stroke=\"rgba(0,0,0,1)\" stroke-linejoin=\"round\" stroke-width=\"2\"/>\n",
       "<polyline fill=\"none\" points=\"14.1732 245.1969 14.1732 245.1969 24.7244 245.1969 24.7244 234.6457 14.1732 245.1969 35.2756 234.6457 24.7244 255.748\" stroke=\"rgba(0,0,0,1)\" stroke-linejoin=\"round\" stroke-width=\"2\"/>\n",
       "<polyline fill=\"none\" points=\"24.7244 276.6929 14.1732 287.2441 14.1732 287.2441 24.7244 266.1417 14.1732 276.6929 35.2756 276.6929 35.2756 276.6929\" stroke=\"rgba(0,0,0,1)\" stroke-linejoin=\"round\" stroke-width=\"2\"/>\n",
       "<polyline fill=\"none\" points=\"24.7244 297.6378 14.1732 318.7402 14.1732 318.7402 24.7244 318.7402 35.2756 318.7402\" stroke=\"rgba(0,0,0,1)\" stroke-linejoin=\"round\" stroke-width=\"2\"/>\n",
       "<polyline fill=\"none\" points=\"14.1732 339.685 35.2756 350.2362 35.2756 350.2362 14.1732 350.2362 14.1732 350.2362 14.1732 350.2362 24.7244 350.2362\" stroke=\"rgba(0,0,0,1)\" stroke-linejoin=\"round\" stroke-width=\"2\"/>\n",
       "<polyline fill=\"none\" points=\"35.2756 381.7323 35.2756 381.7323 14.1732 371.1811 14.1732 360.6299 24.7244 371.1811\" stroke=\"rgba(0,0,0,1)\" stroke-linejoin=\"round\" stroke-width=\"2\"/>\n",
       "<polyline fill=\"none\" points=\"24.7244 413.2283 14.1732 402.6772 35.2756 392.126 14.1732 413.2283 24.7244 413.2283 35.2756 402.6772 14.1732 413.2283 35.2756 402.6772 24.7244 392.126\" stroke=\"rgba(0,0,0,1)\" stroke-linejoin=\"round\" stroke-width=\"2\"/>\n",
       "<polyline fill=\"none\" points=\"24.7244 434.1732 35.2756 423.622 35.2756 423.622 35.2756 444.7244 14.1732 444.7244 35.2756 444.7244 35.2756 423.622\" stroke=\"rgba(0,0,0,1)\" stroke-linejoin=\"round\" stroke-width=\"2\"/>\n",
       "<polyline fill=\"none\" points=\"14.1732 455.1181 35.2756 476.2205 24.7244 476.2205\" stroke=\"rgba(0,0,0,1)\" stroke-linejoin=\"round\" stroke-width=\"2\"/>\n",
       "<polyline fill=\"none\" points=\"14.1732 507.7165 35.2756 497.1654 14.1732 507.7165 14.1732 497.1654 14.1732 507.7165\" stroke=\"rgba(0,0,0,1)\" stroke-linejoin=\"round\" stroke-width=\"2\"/>\n",
       "<polyline fill=\"none\" points=\"24.7244 528.6614 14.1732 528.6614 35.2756 539.2126 24.7244 518.1102 35.2756 518.1102\" stroke=\"rgba(0,0,0,1)\" stroke-linejoin=\"round\" stroke-width=\"2\"/>\n",
       "<polyline fill=\"none\" points=\"35.2756 549.6063 24.7244 560.1575 24.7244 549.6063 24.7244 549.6063 14.1732 549.6063 35.2756 549.6063 35.2756 560.1575\" stroke=\"rgba(0,0,0,1)\" stroke-linejoin=\"round\" stroke-width=\"2\"/>\n",
       "<polyline fill=\"none\" points=\"14.1732 602.2047 14.1732 602.2047 24.7244 581.1024\" stroke=\"rgba(0,0,0,1)\" stroke-linejoin=\"round\" stroke-width=\"2\"/>\n",
       "<polyline fill=\"none\" points=\"35.2756 623.1496 14.1732 612.5984 24.7244 633.7008 35.2756 633.7008 35.2756 633.7008\" stroke=\"rgba(0,0,0,1)\" stroke-linejoin=\"round\" stroke-width=\"2\"/>\n",
       "<polyline fill=\"none\" points=\"24.7244 665.1969 14.1732 654.6457 24.7244 644.0945\" stroke=\"rgba(0,0,0,1)\" stroke-linejoin=\"round\" stroke-width=\"2\"/>\n",
       "<polyline fill=\"none\" points=\"35.2756 686.1417 35.2756 696.6929 24.7244 696.6929 35.2756 675.5906 35.2756 686.1417\" stroke=\"rgba(0,0,0,1)\" stroke-linejoin=\"round\" stroke-width=\"2\"/>\n",
       "<polyline fill=\"none\" points=\"24.7244 707.0866 14.1732 728.189 35.2756 728.189 35.2756 707.0866 35.2756 707.0866 24.7244 717.6378 35.2756 717.6378 14.1732 728.189 24.7244 717.6378\" stroke=\"rgba(0,0,0,1)\" stroke-linejoin=\"round\" stroke-width=\"2\"/>\n",
       "<polyline fill=\"none\" points=\"14.1732 759.685 35.2756 759.685 14.1732 749.1339 24.7244 759.685 24.7244 749.1339\" stroke=\"rgba(0,0,0,1)\" stroke-linejoin=\"round\" stroke-width=\"2\"/>\n",
       "<polyline fill=\"none\" points=\"14.1732 770.0787 24.7244 770.0787 14.1732 791.1811 14.1732 780.6299 24.7244 780.6299 14.1732 780.6299 24.7244 791.1811\" stroke=\"rgba(0,0,0,1)\" stroke-linejoin=\"round\" stroke-width=\"2\"/>\n",
       "<polyline fill=\"none\" points=\"35.2756 822.6772 14.1732 822.6772 24.7244 812.126 14.1732 812.126 14.1732 822.6772 35.2756 801.5748 14.1732 812.126\" stroke=\"rgba(0,0,0,1)\" stroke-linejoin=\"round\" stroke-width=\"2\"/>\n",
       "<polyline fill=\"none\" points=\"24.7244 843.622\" stroke=\"rgba(0,0,0,1)\" stroke-linejoin=\"round\" stroke-width=\"2\"/>\n",
       "</svg>"
      ],
      "text/plain": [
       "<IPython.core.display.SVG object>"
      ]
     },
     "metadata": {},
     "output_type": "display_data"
    }
   ],
   "source": [
    "size = 300\n",
    "d = document(150, size, 'mm')\n",
    "page = d.addpage()\n",
    "figure = shape().stroke(rgba(0, 0, 0, 255)).width(2).join('round')\n",
    "grid_n = len(alpha_s)\n",
    "grid_size = size / grid_n\n",
    "for j, k in zip(range(len(alpha_s)), alpha_s):\n",
    "    char_pline = make_char1(k)\n",
    "    curve = figure.polyline(\n",
    "        char_pline.scale(grid_size*0.67).translate(5, 5+j*grid_size))\n",
    "    page.place(curve)\n",
    "    print(j, int(len(char_pline)/2), char_pline)\n",
    "    \n",
    "show(page)"
   ]
  },
  {
   "cell_type": "markdown",
   "metadata": {},
   "source": [
    "### Data Preprocessing"
   ]
  },
  {
   "cell_type": "markdown",
   "metadata": {},
   "source": [
    "Transfer text1 & text2 into the uppercased string using the <code>upper()</code> method"
   ]
  },
  {
   "cell_type": "code",
   "execution_count": 18,
   "metadata": {},
   "outputs": [
    {
     "data": {
      "text/plain": [
       "'THE RAIN IN SPAIN STAYS MAINLY IN THE PLAIN'"
      ]
     },
     "execution_count": 18,
     "metadata": {},
     "output_type": "execute_result"
    }
   ],
   "source": [
    "text1_upper = text1.upper()\n",
    "text1_upper"
   ]
  },
  {
   "cell_type": "code",
   "execution_count": 19,
   "metadata": {},
   "outputs": [
    {
     "data": {
      "text/plain": [
       "'IN HERTFORD, HEREFORD, AND HAMPSHIRE, HURRICANES HARDLY HAPPEN'"
      ]
     },
     "execution_count": 19,
     "metadata": {},
     "output_type": "execute_result"
    }
   ],
   "source": [
    "text2_upper = text2.upper()\n",
    "text2_upper"
   ]
  },
  {
   "cell_type": "code",
   "execution_count": 20,
   "metadata": {},
   "outputs": [
    {
     "name": "stdout",
     "output_type": "stream",
     "text": [
      "THE.RAIN.IN.SPAIN.STAYS.MAINLY.IN.THE.PLAIN\n"
     ]
    }
   ],
   "source": [
    "# Replace space with dot\n",
    "text1_replace = text1_upper.replace(\" \", \".\")\n",
    "print(text1_replace)"
   ]
  },
  {
   "cell_type": "code",
   "execution_count": 21,
   "metadata": {},
   "outputs": [
    {
     "name": "stdout",
     "output_type": "stream",
     "text": [
      "IN.HERTFORD..HEREFORD..AND.HAMPSHIRE..HURRICANES.HARDLY.HAPPEN\n"
     ]
    }
   ],
   "source": [
    "# Replace space and comma with dot\n",
    "text2_replace = text2_upper.replace(\" \", \".\")\n",
    "text2_replace = text2_replace.replace(\",\", \".\")\n",
    "\n",
    "print(text2_replace)"
   ]
  },
  {
   "cell_type": "code",
   "execution_count": 22,
   "metadata": {},
   "outputs": [],
   "source": [
    "def let2num(x):\n",
    "    y = []\n",
    "    for i in x:\n",
    "        number = ord(i) - 64\n",
    "        if (number < 0):\n",
    "            number = 26\n",
    "        y.append(number)\n",
    "    return y"
   ]
  },
  {
   "cell_type": "code",
   "execution_count": 23,
   "metadata": {},
   "outputs": [
    {
     "name": "stdout",
     "output_type": "stream",
     "text": [
      "[20, 8, 5, 26, 18, 1, 9, 14, 26, 9, 14, 26, 19, 16, 1, 9, 14, 26, 19, 20, 1, 25, 19, 26, 13, 1, 9, 14, 12, 25, 26, 9, 14, 26, 20, 8, 5, 26, 16, 12, 1, 9, 14]\n"
     ]
    }
   ],
   "source": [
    "numbers1 = let2num(text1_upper)\n",
    "print(numbers1)"
   ]
  },
  {
   "cell_type": "code",
   "execution_count": 24,
   "metadata": {
    "scrolled": true
   },
   "outputs": [
    {
     "name": "stdout",
     "output_type": "stream",
     "text": [
      "T 20\n",
      "H 8\n",
      "E 5\n",
      ". 26\n",
      "R 18\n",
      "A 1\n",
      "I 9\n",
      "N 14\n",
      ". 26\n",
      "I 9\n",
      "N 14\n",
      ". 26\n",
      "S 19\n",
      "P 16\n",
      "A 1\n",
      "I 9\n",
      "N 14\n",
      ". 26\n",
      "S 19\n",
      "T 20\n",
      "A 1\n",
      "Y 25\n",
      "S 19\n",
      ". 26\n",
      "M 13\n",
      "A 1\n",
      "I 9\n",
      "N 14\n",
      "L 12\n",
      "Y 25\n",
      ". 26\n",
      "I 9\n",
      "N 14\n",
      ". 26\n",
      "T 20\n",
      "H 8\n",
      "E 5\n",
      ". 26\n",
      "P 16\n",
      "L 12\n",
      "A 1\n",
      "I 9\n",
      "N 14\n"
     ]
    }
   ],
   "source": [
    "for i in range(0, len(text1_replace)):\n",
    "    print(text1_replace[i], numbers1[i])"
   ]
  },
  {
   "cell_type": "code",
   "execution_count": 25,
   "metadata": {},
   "outputs": [
    {
     "name": "stdout",
     "output_type": "stream",
     "text": [
      "[9, 14, 26, 8, 5, 18, 20, 6, 15, 18, 4, 26, 26, 8, 5, 18, 5, 6, 15, 18, 4, 26, 26, 1, 14, 4, 26, 8, 1, 13, 16, 19, 8, 9, 18, 5, 26, 26, 8, 21, 18, 18, 9, 3, 1, 14, 5, 19, 26, 8, 1, 18, 4, 12, 25, 26, 8, 1, 16, 16, 5, 14]\n"
     ]
    }
   ],
   "source": [
    "numbers2 = let2num(text2_upper)\n",
    "print(numbers2)"
   ]
  },
  {
   "cell_type": "code",
   "execution_count": 26,
   "metadata": {
    "scrolled": true
   },
   "outputs": [
    {
     "name": "stdout",
     "output_type": "stream",
     "text": [
      "I 9\n",
      "N 14\n",
      ". 26\n",
      "H 8\n",
      "E 5\n",
      "R 18\n",
      "T 20\n",
      "F 6\n",
      "O 15\n",
      "R 18\n",
      "D 4\n",
      ". 26\n",
      ". 26\n",
      "H 8\n",
      "E 5\n",
      "R 18\n",
      "E 5\n",
      "F 6\n",
      "O 15\n",
      "R 18\n",
      "D 4\n",
      ". 26\n",
      ". 26\n",
      "A 1\n",
      "N 14\n",
      "D 4\n",
      ". 26\n",
      "H 8\n",
      "A 1\n",
      "M 13\n",
      "P 16\n",
      "S 19\n",
      "H 8\n",
      "I 9\n",
      "R 18\n",
      "E 5\n",
      ". 26\n",
      ". 26\n",
      "H 8\n",
      "U 21\n",
      "R 18\n",
      "R 18\n",
      "I 9\n",
      "C 3\n",
      "A 1\n",
      "N 14\n",
      "E 5\n",
      "S 19\n",
      ". 26\n",
      "H 8\n",
      "A 1\n",
      "R 18\n",
      "D 4\n",
      "L 12\n",
      "Y 25\n",
      ". 26\n",
      "H 8\n",
      "A 1\n",
      "P 16\n",
      "P 16\n",
      "E 5\n",
      "N 14\n"
     ]
    }
   ],
   "source": [
    "for i in range(0, len(text2_replace)):\n",
    "    print(text2_replace[i], numbers2[i])"
   ]
  },
  {
   "cell_type": "code",
   "execution_count": 27,
   "metadata": {},
   "outputs": [],
   "source": [
    "char_plines = [make_char1(i) for i in (alpha_s)]"
   ]
  },
  {
   "cell_type": "code",
   "execution_count": 28,
   "metadata": {},
   "outputs": [],
   "source": [
    "pline_final1 = [char_plines[item] for item in numbers1]"
   ]
  },
  {
   "cell_type": "code",
   "execution_count": 29,
   "metadata": {},
   "outputs": [
    {
     "data": {
      "image/svg+xml": [
       "<svg height=\"212.5984pt\" version=\"1.1\" width=\"1133.8583pt\" xmlns=\"http://www.w3.org/2000/svg\" xmlns:xlink=\"http://www.w3.org/1999/xlink\">\n",
       "<title>Untitled</title>\n",
       "<polyline fill=\"none\" points=\"2.8346 23.8451 2.8346 14.1732 22.1785 14.1732\" stroke=\"rgba(0,0,0,1)\" stroke-linejoin=\"round\" stroke-width=\"2\"/>\n",
       "<polyline fill=\"none\" points=\"41.378 23.8451 51.0499 14.1732 31.706 14.1732 51.0499 33.5171 51.0499 14.1732 31.706 14.1732 31.706 14.1732\" stroke=\"rgba(0,0,0,1)\" stroke-linejoin=\"round\" stroke-width=\"2\"/>\n",
       "<polyline fill=\"none\" points=\"79.9213 33.5171 70.2493 23.8451 70.2493 23.8451 70.2493 33.5171 70.2493 33.5171 79.9213 33.5171 60.5774 14.1732 70.2493 33.5171 79.9213 33.5171\" stroke=\"rgba(0,0,0,1)\" stroke-linejoin=\"round\" stroke-width=\"2\"/>\n",
       "<polyline fill=\"none\" points=\"108.7927 14.1732\" stroke=\"rgba(0,0,0,1)\" stroke-linejoin=\"round\" stroke-width=\"2\"/>\n",
       "<polyline fill=\"none\" points=\"137.664 14.1732 127.9921 23.8451 137.664 14.1732\" stroke=\"rgba(0,0,0,1)\" stroke-linejoin=\"round\" stroke-width=\"2\"/>\n",
       "<polyline fill=\"none\" points=\"147.1916 23.8451 156.8635 23.8451 156.8635 33.5171 156.8635 23.8451 156.8635 33.5171 166.5354 23.8451 147.1916 33.5171\" stroke=\"rgba(0,0,0,1)\" stroke-linejoin=\"round\" stroke-width=\"2\"/>\n",
       "<polyline fill=\"none\" points=\"185.7349 14.1732 176.063 33.5171 176.063 33.5171 195.4068 14.1732 195.4068 33.5171\" stroke=\"rgba(0,0,0,1)\" stroke-linejoin=\"round\" stroke-width=\"2\"/>\n",
       "<polyline fill=\"none\" points=\"204.9344 33.5171 204.9344 23.8451 204.9344 33.5171\" stroke=\"rgba(0,0,0,1)\" stroke-linejoin=\"round\" stroke-width=\"2\"/>\n",
       "<polyline fill=\"none\" points=\"253.1496 14.1732\" stroke=\"rgba(0,0,0,1)\" stroke-linejoin=\"round\" stroke-width=\"2\"/>\n",
       "<polyline fill=\"none\" points=\"272.3491 14.1732 262.6772 33.5171 262.6772 33.5171 282.021 14.1732 282.021 33.5171\" stroke=\"rgba(0,0,0,1)\" stroke-linejoin=\"round\" stroke-width=\"2\"/>\n",
       "<polyline fill=\"none\" points=\"291.5486 33.5171 291.5486 23.8451 291.5486 33.5171\" stroke=\"rgba(0,0,0,1)\" stroke-linejoin=\"round\" stroke-width=\"2\"/>\n",
       "<polyline fill=\"none\" points=\"339.7638 14.1732\" stroke=\"rgba(0,0,0,1)\" stroke-linejoin=\"round\" stroke-width=\"2\"/>\n",
       "<polyline fill=\"none\" points=\"358.9633 33.5171 368.6352 14.1732 368.6352 33.5171 349.2913 23.8451 368.6352 14.1732\" stroke=\"rgba(0,0,0,1)\" stroke-linejoin=\"round\" stroke-width=\"2\"/>\n",
       "<polyline fill=\"none\" points=\"387.8346 33.5171 397.5066 14.1732 378.1627 14.1732 397.5066 14.1732 387.8346 23.8451\" stroke=\"rgba(0,0,0,1)\" stroke-linejoin=\"round\" stroke-width=\"2\"/>\n",
       "<polyline fill=\"none\" points=\"407.0341 23.8451 416.706 23.8451 416.706 33.5171 416.706 23.8451 416.706 33.5171 426.378 23.8451 407.0341 33.5171\" stroke=\"rgba(0,0,0,1)\" stroke-linejoin=\"round\" stroke-width=\"2\"/>\n",
       "<polyline fill=\"none\" points=\"445.5774 14.1732 435.9055 33.5171 435.9055 33.5171 455.2493 14.1732 455.2493 33.5171\" stroke=\"rgba(0,0,0,1)\" stroke-linejoin=\"round\" stroke-width=\"2\"/>\n",
       "<polyline fill=\"none\" points=\"464.7769 33.5171 464.7769 23.8451 464.7769 33.5171\" stroke=\"rgba(0,0,0,1)\" stroke-linejoin=\"round\" stroke-width=\"2\"/>\n",
       "<polyline fill=\"none\" points=\"512.9921 14.1732\" stroke=\"rgba(0,0,0,1)\" stroke-linejoin=\"round\" stroke-width=\"2\"/>\n",
       "<polyline fill=\"none\" points=\"532.1916 33.5171 541.8635 14.1732 541.8635 33.5171 522.5197 23.8451 541.8635 14.1732\" stroke=\"rgba(0,0,0,1)\" stroke-linejoin=\"round\" stroke-width=\"2\"/>\n",
       "<polyline fill=\"none\" points=\"551.3911 23.8451 551.3911 14.1732 570.7349 14.1732\" stroke=\"rgba(0,0,0,1)\" stroke-linejoin=\"round\" stroke-width=\"2\"/>\n",
       "<polyline fill=\"none\" points=\"580.2625 23.8451 589.9344 23.8451 589.9344 33.5171 589.9344 23.8451 589.9344 33.5171 599.6063 23.8451 580.2625 33.5171\" stroke=\"rgba(0,0,0,1)\" stroke-linejoin=\"round\" stroke-width=\"2\"/>\n",
       "<polyline fill=\"none\" points=\"618.8058 14.1732 628.4777 23.8451 628.4777 33.5171 628.4777 33.5171 628.4777 14.1732 609.1339 23.8451 609.1339 23.8451\" stroke=\"rgba(0,0,0,1)\" stroke-linejoin=\"round\" stroke-width=\"2\"/>\n",
       "<polyline fill=\"none\" points=\"647.6772 33.5171 657.3491 14.1732 657.3491 33.5171 638.0052 23.8451 657.3491 14.1732\" stroke=\"rgba(0,0,0,1)\" stroke-linejoin=\"round\" stroke-width=\"2\"/>\n",
       "<polyline fill=\"none\" points=\"686.2205 14.1732\" stroke=\"rgba(0,0,0,1)\" stroke-linejoin=\"round\" stroke-width=\"2\"/>\n",
       "<polyline fill=\"none\" points=\"705.4199 23.8451 715.0919 14.1732 715.0919 14.1732 705.4199 14.1732 705.4199 14.1732 705.4199 14.1732 695.748 14.1732\" stroke=\"rgba(0,0,0,1)\" stroke-linejoin=\"round\" stroke-width=\"2\"/>\n",
       "<polyline fill=\"none\" points=\"724.6194 23.8451 734.2913 23.8451 734.2913 33.5171 734.2913 23.8451 734.2913 33.5171 743.9633 23.8451 724.6194 33.5171\" stroke=\"rgba(0,0,0,1)\" stroke-linejoin=\"round\" stroke-width=\"2\"/>\n",
       "<polyline fill=\"none\" points=\"763.1627 14.1732 753.4908 33.5171 753.4908 33.5171 772.8346 14.1732 772.8346 33.5171\" stroke=\"rgba(0,0,0,1)\" stroke-linejoin=\"round\" stroke-width=\"2\"/>\n",
       "<polyline fill=\"none\" points=\"782.3622 33.5171 782.3622 23.8451 782.3622 33.5171\" stroke=\"rgba(0,0,0,1)\" stroke-linejoin=\"round\" stroke-width=\"2\"/>\n",
       "<polyline fill=\"none\" points=\"811.2336 33.5171 811.2336 33.5171 830.5774 23.8451 830.5774 14.1732 830.5774 33.5171 811.2336 33.5171 830.5774 23.8451 820.9055 33.5171 820.9055 33.5171\" stroke=\"rgba(0,0,0,1)\" stroke-linejoin=\"round\" stroke-width=\"2\"/>\n",
       "<polyline fill=\"none\" points=\"849.7769 14.1732 859.4488 23.8451 859.4488 33.5171 859.4488 33.5171 859.4488 14.1732 840.105 23.8451 840.105 23.8451\" stroke=\"rgba(0,0,0,1)\" stroke-linejoin=\"round\" stroke-width=\"2\"/>\n",
       "<polyline fill=\"none\" points=\"888.3202 14.1732\" stroke=\"rgba(0,0,0,1)\" stroke-linejoin=\"round\" stroke-width=\"2\"/>\n",
       "<polyline fill=\"none\" points=\"907.5197 14.1732 897.8478 33.5171 897.8478 33.5171 917.1916 14.1732 917.1916 33.5171\" stroke=\"rgba(0,0,0,1)\" stroke-linejoin=\"round\" stroke-width=\"2\"/>\n",
       "<polyline fill=\"none\" points=\"926.7192 33.5171 926.7192 23.8451 926.7192 33.5171\" stroke=\"rgba(0,0,0,1)\" stroke-linejoin=\"round\" stroke-width=\"2\"/>\n",
       "<polyline fill=\"none\" points=\"974.9344 14.1732\" stroke=\"rgba(0,0,0,1)\" stroke-linejoin=\"round\" stroke-width=\"2\"/>\n",
       "<polyline fill=\"none\" points=\"984.4619 23.8451 984.4619 14.1732 1003.8058 14.1732\" stroke=\"rgba(0,0,0,1)\" stroke-linejoin=\"round\" stroke-width=\"2\"/>\n",
       "<polyline fill=\"none\" points=\"1023.0052 23.8451 1032.6772 14.1732 1013.3333 14.1732 1032.6772 33.5171 1032.6772 14.1732 1013.3333 14.1732 1013.3333 14.1732\" stroke=\"rgba(0,0,0,1)\" stroke-linejoin=\"round\" stroke-width=\"2\"/>\n",
       "<polyline fill=\"none\" points=\"1061.5486 33.5171 1051.8766 23.8451 1051.8766 23.8451 1051.8766 33.5171 1051.8766 33.5171 1061.5486 33.5171 1042.2047 14.1732 1051.8766 33.5171 1061.5486 33.5171\" stroke=\"rgba(0,0,0,1)\" stroke-linejoin=\"round\" stroke-width=\"2\"/>\n",
       "<polyline fill=\"none\" points=\"1090.4199 14.1732\" stroke=\"rgba(0,0,0,1)\" stroke-linejoin=\"round\" stroke-width=\"2\"/>\n",
       "<polyline fill=\"none\" points=\"1109.6194 33.5171 1119.2913 14.1732 1099.9475 14.1732 1119.2913 14.1732 1109.6194 23.8451\" stroke=\"rgba(0,0,0,1)\" stroke-linejoin=\"round\" stroke-width=\"2\"/>\n",
       "<polyline fill=\"none\" points=\"1128.8189 33.5171 1128.8189 33.5171 1148.1627 23.8451 1148.1627 14.1732 1148.1627 33.5171 1128.8189 33.5171 1148.1627 23.8451 1138.4908 33.5171 1138.4908 33.5171\" stroke=\"rgba(0,0,0,1)\" stroke-linejoin=\"round\" stroke-width=\"2\"/>\n",
       "<polyline fill=\"none\" points=\"1157.6903 23.8451 1167.3622 23.8451 1167.3622 33.5171 1167.3622 23.8451 1167.3622 33.5171 1177.0341 23.8451 1157.6903 33.5171\" stroke=\"rgba(0,0,0,1)\" stroke-linejoin=\"round\" stroke-width=\"2\"/>\n",
       "<polyline fill=\"none\" points=\"1196.2336 14.1732 1186.5617 33.5171 1186.5617 33.5171 1205.9055 14.1732 1205.9055 33.5171\" stroke=\"rgba(0,0,0,1)\" stroke-linejoin=\"round\" stroke-width=\"2\"/>\n",
       "<polyline fill=\"none\" points=\"1215.4331 33.5171 1215.4331 23.8451 1215.4331 33.5171\" stroke=\"rgba(0,0,0,1)\" stroke-linejoin=\"round\" stroke-width=\"2\"/>\n",
       "</svg>"
      ],
      "text/plain": [
       "<IPython.core.display.SVG object>"
      ]
     },
     "metadata": {},
     "output_type": "display_data"
    }
   ],
   "source": [
    "size = 275\n",
    "d = document(400, 75, 'mm')\n",
    "page = d.addpage()\n",
    "figure = shape().stroke(rgba(0, 0, 0, 255)).width(2).join('round')\n",
    "grid_n = len(alpha_s)\n",
    "grid_size = size / grid_n\n",
    "for i in range(len(pline_final1)):\n",
    "    char_pline = pline_final1[i]\n",
    "    curve = figure.polyline(\n",
    "        char_pline.scale(grid_size*0.67).translate(1+i*grid_size, 5))\n",
    "    page.place(curve)\n",
    "\n",
    "show(page)"
   ]
  },
  {
   "cell_type": "code",
   "execution_count": 30,
   "metadata": {},
   "outputs": [],
   "source": [
    "pline_final2 = [char_plines[item] for item in numbers2]"
   ]
  },
  {
   "cell_type": "code",
   "execution_count": 31,
   "metadata": {},
   "outputs": [
    {
     "data": {
      "image/svg+xml": [
       "<svg height=\"212.5984pt\" version=\"1.1\" width=\"1417.3228pt\" xmlns=\"http://www.w3.org/2000/svg\" xmlns:xlink=\"http://www.w3.org/1999/xlink\">\n",
       "<title>Untitled</title>\n",
       "<polyline fill=\"none\" points=\"12.5066 14.1732 2.8346 33.5171 2.8346 33.5171 22.1785 14.1732 22.1785 33.5171\" stroke=\"rgba(0,0,0,1)\" stroke-linejoin=\"round\" stroke-width=\"2\"/>\n",
       "<polyline fill=\"none\" points=\"31.706 33.5171 31.706 23.8451 31.706 33.5171\" stroke=\"rgba(0,0,0,1)\" stroke-linejoin=\"round\" stroke-width=\"2\"/>\n",
       "<polyline fill=\"none\" points=\"79.9213 14.1732\" stroke=\"rgba(0,0,0,1)\" stroke-linejoin=\"round\" stroke-width=\"2\"/>\n",
       "<polyline fill=\"none\" points=\"99.1207 23.8451 108.7927 14.1732 89.4488 14.1732 108.7927 33.5171 108.7927 14.1732 89.4488 14.1732 89.4488 14.1732\" stroke=\"rgba(0,0,0,1)\" stroke-linejoin=\"round\" stroke-width=\"2\"/>\n",
       "<polyline fill=\"none\" points=\"137.664 33.5171 127.9921 23.8451 127.9921 23.8451 127.9921 33.5171 127.9921 33.5171 137.664 33.5171 118.3202 14.1732 127.9921 33.5171 137.664 33.5171\" stroke=\"rgba(0,0,0,1)\" stroke-linejoin=\"round\" stroke-width=\"2\"/>\n",
       "<polyline fill=\"none\" points=\"166.5354 14.1732 156.8635 23.8451 166.5354 14.1732\" stroke=\"rgba(0,0,0,1)\" stroke-linejoin=\"round\" stroke-width=\"2\"/>\n",
       "<polyline fill=\"none\" points=\"176.063 23.8451 176.063 14.1732 195.4068 14.1732\" stroke=\"rgba(0,0,0,1)\" stroke-linejoin=\"round\" stroke-width=\"2\"/>\n",
       "<polyline fill=\"none\" points=\"224.2782 33.5171 204.9344 23.8451 214.6063 33.5171 224.2782 23.8451 214.6063 33.5171\" stroke=\"rgba(0,0,0,1)\" stroke-linejoin=\"round\" stroke-width=\"2\"/>\n",
       "<polyline fill=\"none\" points=\"243.4777 23.8451 243.4777 14.1732 233.8058 33.5171 243.4777 33.5171 233.8058 23.8451\" stroke=\"rgba(0,0,0,1)\" stroke-linejoin=\"round\" stroke-width=\"2\"/>\n",
       "<polyline fill=\"none\" points=\"282.021 14.1732 272.3491 23.8451 282.021 14.1732\" stroke=\"rgba(0,0,0,1)\" stroke-linejoin=\"round\" stroke-width=\"2\"/>\n",
       "<polyline fill=\"none\" points=\"301.2205 14.1732 301.2205 33.5171 291.5486 23.8451 301.2205 33.5171 301.2205 23.8451 301.2205 14.1732 291.5486 14.1732 310.8924 33.5171 310.8924 14.1732\" stroke=\"rgba(0,0,0,1)\" stroke-linejoin=\"round\" stroke-width=\"2\"/>\n",
       "<polyline fill=\"none\" points=\"339.7638 14.1732\" stroke=\"rgba(0,0,0,1)\" stroke-linejoin=\"round\" stroke-width=\"2\"/>\n",
       "<polyline fill=\"none\" points=\"368.6352 14.1732\" stroke=\"rgba(0,0,0,1)\" stroke-linejoin=\"round\" stroke-width=\"2\"/>\n",
       "<polyline fill=\"none\" points=\"387.8346 23.8451 397.5066 14.1732 378.1627 14.1732 397.5066 33.5171 397.5066 14.1732 378.1627 14.1732 378.1627 14.1732\" stroke=\"rgba(0,0,0,1)\" stroke-linejoin=\"round\" stroke-width=\"2\"/>\n",
       "<polyline fill=\"none\" points=\"426.378 33.5171 416.706 23.8451 416.706 23.8451 416.706 33.5171 416.706 33.5171 426.378 33.5171 407.0341 14.1732 416.706 33.5171 426.378 33.5171\" stroke=\"rgba(0,0,0,1)\" stroke-linejoin=\"round\" stroke-width=\"2\"/>\n",
       "<polyline fill=\"none\" points=\"455.2493 14.1732 445.5774 23.8451 455.2493 14.1732\" stroke=\"rgba(0,0,0,1)\" stroke-linejoin=\"round\" stroke-width=\"2\"/>\n",
       "<polyline fill=\"none\" points=\"484.1207 33.5171 474.4488 23.8451 474.4488 23.8451 474.4488 33.5171 474.4488 33.5171 484.1207 33.5171 464.7769 14.1732 474.4488 33.5171 484.1207 33.5171\" stroke=\"rgba(0,0,0,1)\" stroke-linejoin=\"round\" stroke-width=\"2\"/>\n",
       "<polyline fill=\"none\" points=\"512.9921 33.5171 493.6483 23.8451 503.3202 33.5171 512.9921 23.8451 503.3202 33.5171\" stroke=\"rgba(0,0,0,1)\" stroke-linejoin=\"round\" stroke-width=\"2\"/>\n",
       "<polyline fill=\"none\" points=\"532.1916 23.8451 532.1916 14.1732 522.5197 33.5171 532.1916 33.5171 522.5197 23.8451\" stroke=\"rgba(0,0,0,1)\" stroke-linejoin=\"round\" stroke-width=\"2\"/>\n",
       "<polyline fill=\"none\" points=\"570.7349 14.1732 561.063 23.8451 570.7349 14.1732\" stroke=\"rgba(0,0,0,1)\" stroke-linejoin=\"round\" stroke-width=\"2\"/>\n",
       "<polyline fill=\"none\" points=\"589.9344 14.1732 589.9344 33.5171 580.2625 23.8451 589.9344 33.5171 589.9344 23.8451 589.9344 14.1732 580.2625 14.1732 599.6063 33.5171 599.6063 14.1732\" stroke=\"rgba(0,0,0,1)\" stroke-linejoin=\"round\" stroke-width=\"2\"/>\n",
       "<polyline fill=\"none\" points=\"628.4777 14.1732\" stroke=\"rgba(0,0,0,1)\" stroke-linejoin=\"round\" stroke-width=\"2\"/>\n",
       "<polyline fill=\"none\" points=\"657.3491 14.1732\" stroke=\"rgba(0,0,0,1)\" stroke-linejoin=\"round\" stroke-width=\"2\"/>\n",
       "<polyline fill=\"none\" points=\"666.8766 23.8451 676.5486 23.8451 676.5486 33.5171 676.5486 23.8451 676.5486 33.5171 686.2205 23.8451 666.8766 33.5171\" stroke=\"rgba(0,0,0,1)\" stroke-linejoin=\"round\" stroke-width=\"2\"/>\n",
       "<polyline fill=\"none\" points=\"695.748 33.5171 695.748 23.8451 695.748 33.5171\" stroke=\"rgba(0,0,0,1)\" stroke-linejoin=\"round\" stroke-width=\"2\"/>\n",
       "<polyline fill=\"none\" points=\"734.2913 14.1732 734.2913 33.5171 724.6194 23.8451 734.2913 33.5171 734.2913 23.8451 734.2913 14.1732 724.6194 14.1732 743.9633 33.5171 743.9633 14.1732\" stroke=\"rgba(0,0,0,1)\" stroke-linejoin=\"round\" stroke-width=\"2\"/>\n",
       "<polyline fill=\"none\" points=\"772.8346 14.1732\" stroke=\"rgba(0,0,0,1)\" stroke-linejoin=\"round\" stroke-width=\"2\"/>\n",
       "<polyline fill=\"none\" points=\"792.0341 23.8451 801.706 14.1732 782.3622 14.1732 801.706 33.5171 801.706 14.1732 782.3622 14.1732 782.3622 14.1732\" stroke=\"rgba(0,0,0,1)\" stroke-linejoin=\"round\" stroke-width=\"2\"/>\n",
       "<polyline fill=\"none\" points=\"811.2336 23.8451 820.9055 23.8451 820.9055 33.5171 820.9055 23.8451 820.9055 33.5171 830.5774 23.8451 811.2336 33.5171\" stroke=\"rgba(0,0,0,1)\" stroke-linejoin=\"round\" stroke-width=\"2\"/>\n",
       "<polyline fill=\"none\" points=\"849.7769 23.8451 859.4488 14.1732 859.4488 14.1732 849.7769 14.1732 849.7769 14.1732 849.7769 14.1732 840.105 14.1732\" stroke=\"rgba(0,0,0,1)\" stroke-linejoin=\"round\" stroke-width=\"2\"/>\n",
       "<polyline fill=\"none\" points=\"878.6483 33.5171 888.3202 14.1732 868.9764 14.1732 888.3202 14.1732 878.6483 23.8451\" stroke=\"rgba(0,0,0,1)\" stroke-linejoin=\"round\" stroke-width=\"2\"/>\n",
       "<polyline fill=\"none\" points=\"907.5197 33.5171 917.1916 14.1732 917.1916 33.5171 897.8478 23.8451 917.1916 14.1732\" stroke=\"rgba(0,0,0,1)\" stroke-linejoin=\"round\" stroke-width=\"2\"/>\n",
       "<polyline fill=\"none\" points=\"936.3911 23.8451 946.063 14.1732 926.7192 14.1732 946.063 33.5171 946.063 14.1732 926.7192 14.1732 926.7192 14.1732\" stroke=\"rgba(0,0,0,1)\" stroke-linejoin=\"round\" stroke-width=\"2\"/>\n",
       "<polyline fill=\"none\" points=\"965.2625 14.1732 955.5906 33.5171 955.5906 33.5171 974.9344 14.1732 974.9344 33.5171\" stroke=\"rgba(0,0,0,1)\" stroke-linejoin=\"round\" stroke-width=\"2\"/>\n",
       "<polyline fill=\"none\" points=\"1003.8058 14.1732 994.1339 23.8451 1003.8058 14.1732\" stroke=\"rgba(0,0,0,1)\" stroke-linejoin=\"round\" stroke-width=\"2\"/>\n",
       "<polyline fill=\"none\" points=\"1032.6772 33.5171 1023.0052 23.8451 1023.0052 23.8451 1023.0052 33.5171 1023.0052 33.5171 1032.6772 33.5171 1013.3333 14.1732 1023.0052 33.5171 1032.6772 33.5171\" stroke=\"rgba(0,0,0,1)\" stroke-linejoin=\"round\" stroke-width=\"2\"/>\n",
       "<polyline fill=\"none\" points=\"1061.5486 14.1732\" stroke=\"rgba(0,0,0,1)\" stroke-linejoin=\"round\" stroke-width=\"2\"/>\n",
       "<polyline fill=\"none\" points=\"1090.4199 14.1732\" stroke=\"rgba(0,0,0,1)\" stroke-linejoin=\"round\" stroke-width=\"2\"/>\n",
       "<polyline fill=\"none\" points=\"1109.6194 23.8451 1119.2913 14.1732 1099.9475 14.1732 1119.2913 33.5171 1119.2913 14.1732 1099.9475 14.1732 1099.9475 14.1732\" stroke=\"rgba(0,0,0,1)\" stroke-linejoin=\"round\" stroke-width=\"2\"/>\n",
       "<polyline fill=\"none\" points=\"1148.1627 14.1732 1128.8189 23.8451 1148.1627 33.5171 1138.4908 23.8451 1138.4908 14.1732\" stroke=\"rgba(0,0,0,1)\" stroke-linejoin=\"round\" stroke-width=\"2\"/>\n",
       "<polyline fill=\"none\" points=\"1177.0341 14.1732 1167.3622 23.8451 1177.0341 14.1732\" stroke=\"rgba(0,0,0,1)\" stroke-linejoin=\"round\" stroke-width=\"2\"/>\n",
       "<polyline fill=\"none\" points=\"1205.9055 14.1732 1196.2336 23.8451 1205.9055 14.1732\" stroke=\"rgba(0,0,0,1)\" stroke-linejoin=\"round\" stroke-width=\"2\"/>\n",
       "<polyline fill=\"none\" points=\"1225.105 14.1732 1215.4331 33.5171 1215.4331 33.5171 1234.7769 14.1732 1234.7769 33.5171\" stroke=\"rgba(0,0,0,1)\" stroke-linejoin=\"round\" stroke-width=\"2\"/>\n",
       "<polyline fill=\"none\" points=\"1253.9764 33.5171 1244.3045 33.5171 1253.9764 23.8451 1253.9764 14.1732 1244.3045 23.8451\" stroke=\"rgba(0,0,0,1)\" stroke-linejoin=\"round\" stroke-width=\"2\"/>\n",
       "<polyline fill=\"none\" points=\"1273.1759 23.8451 1282.8478 23.8451 1282.8478 33.5171 1282.8478 23.8451 1282.8478 33.5171 1292.5197 23.8451 1273.1759 33.5171\" stroke=\"rgba(0,0,0,1)\" stroke-linejoin=\"round\" stroke-width=\"2\"/>\n",
       "<polyline fill=\"none\" points=\"1302.0472 33.5171 1302.0472 23.8451 1302.0472 33.5171\" stroke=\"rgba(0,0,0,1)\" stroke-linejoin=\"round\" stroke-width=\"2\"/>\n",
       "<polyline fill=\"none\" points=\"1350.2625 33.5171 1340.5906 23.8451 1340.5906 23.8451 1340.5906 33.5171 1340.5906 33.5171 1350.2625 33.5171 1330.9186 14.1732 1340.5906 33.5171 1350.2625 33.5171\" stroke=\"rgba(0,0,0,1)\" stroke-linejoin=\"round\" stroke-width=\"2\"/>\n",
       "<polyline fill=\"none\" points=\"1369.4619 33.5171 1379.1339 14.1732 1379.1339 33.5171 1359.79 23.8451 1379.1339 14.1732\" stroke=\"rgba(0,0,0,1)\" stroke-linejoin=\"round\" stroke-width=\"2\"/>\n",
       "<polyline fill=\"none\" points=\"1408.0052 14.1732\" stroke=\"rgba(0,0,0,1)\" stroke-linejoin=\"round\" stroke-width=\"2\"/>\n",
       "<polyline fill=\"none\" points=\"1427.2047 23.8451 1436.8766 14.1732 1417.5328 14.1732 1436.8766 33.5171 1436.8766 14.1732 1417.5328 14.1732 1417.5328 14.1732\" stroke=\"rgba(0,0,0,1)\" stroke-linejoin=\"round\" stroke-width=\"2\"/>\n",
       "<polyline fill=\"none\" points=\"1446.4042 23.8451 1456.0761 23.8451 1456.0761 33.5171 1456.0761 23.8451 1456.0761 33.5171 1465.748 23.8451 1446.4042 33.5171\" stroke=\"rgba(0,0,0,1)\" stroke-linejoin=\"round\" stroke-width=\"2\"/>\n",
       "<polyline fill=\"none\" points=\"1494.6194 14.1732 1484.9475 23.8451 1494.6194 14.1732\" stroke=\"rgba(0,0,0,1)\" stroke-linejoin=\"round\" stroke-width=\"2\"/>\n",
       "<polyline fill=\"none\" points=\"1513.8189 14.1732 1513.8189 33.5171 1504.147 23.8451 1513.8189 33.5171 1513.8189 23.8451 1513.8189 14.1732 1504.147 14.1732 1523.4908 33.5171 1523.4908 14.1732\" stroke=\"rgba(0,0,0,1)\" stroke-linejoin=\"round\" stroke-width=\"2\"/>\n",
       "<polyline fill=\"none\" points=\"1533.0184 33.5171 1533.0184 33.5171 1552.3622 23.8451 1552.3622 14.1732 1552.3622 33.5171 1533.0184 33.5171 1552.3622 23.8451 1542.6903 33.5171 1542.6903 33.5171\" stroke=\"rgba(0,0,0,1)\" stroke-linejoin=\"round\" stroke-width=\"2\"/>\n",
       "<polyline fill=\"none\" points=\"1571.5617 14.1732 1581.2336 23.8451 1581.2336 33.5171 1581.2336 33.5171 1581.2336 14.1732 1561.8898 23.8451 1561.8898 23.8451\" stroke=\"rgba(0,0,0,1)\" stroke-linejoin=\"round\" stroke-width=\"2\"/>\n",
       "<polyline fill=\"none\" points=\"1610.105 14.1732\" stroke=\"rgba(0,0,0,1)\" stroke-linejoin=\"round\" stroke-width=\"2\"/>\n",
       "<polyline fill=\"none\" points=\"1629.3045 23.8451 1638.9764 14.1732 1619.6325 14.1732 1638.9764 33.5171 1638.9764 14.1732 1619.6325 14.1732 1619.6325 14.1732\" stroke=\"rgba(0,0,0,1)\" stroke-linejoin=\"round\" stroke-width=\"2\"/>\n",
       "<polyline fill=\"none\" points=\"1648.5039 23.8451 1658.1759 23.8451 1658.1759 33.5171 1658.1759 23.8451 1658.1759 33.5171 1667.8478 23.8451 1648.5039 33.5171\" stroke=\"rgba(0,0,0,1)\" stroke-linejoin=\"round\" stroke-width=\"2\"/>\n",
       "<polyline fill=\"none\" points=\"1687.0472 33.5171 1696.7192 14.1732 1677.3753 14.1732 1696.7192 14.1732 1687.0472 23.8451\" stroke=\"rgba(0,0,0,1)\" stroke-linejoin=\"round\" stroke-width=\"2\"/>\n",
       "<polyline fill=\"none\" points=\"1715.9186 33.5171 1725.5906 14.1732 1706.2467 14.1732 1725.5906 14.1732 1715.9186 23.8451\" stroke=\"rgba(0,0,0,1)\" stroke-linejoin=\"round\" stroke-width=\"2\"/>\n",
       "<polyline fill=\"none\" points=\"1754.4619 33.5171 1744.79 23.8451 1744.79 23.8451 1744.79 33.5171 1744.79 33.5171 1754.4619 33.5171 1735.1181 14.1732 1744.79 33.5171 1754.4619 33.5171\" stroke=\"rgba(0,0,0,1)\" stroke-linejoin=\"round\" stroke-width=\"2\"/>\n",
       "<polyline fill=\"none\" points=\"1763.9895 33.5171 1763.9895 23.8451 1763.9895 33.5171\" stroke=\"rgba(0,0,0,1)\" stroke-linejoin=\"round\" stroke-width=\"2\"/>\n",
       "</svg>"
      ],
      "text/plain": [
       "<IPython.core.display.SVG object>"
      ]
     },
     "metadata": {},
     "output_type": "display_data"
    }
   ],
   "source": [
    "size = 275\n",
    "d = document(500, 75, 'mm')\n",
    "page = d.addpage()\n",
    "figure = shape().stroke(rgba(0, 0, 0, 255)).width(2).join('round')\n",
    "grid_n = len(alpha_s)\n",
    "grid_size = size / grid_n\n",
    "for i in range(len(pline_final2)):\n",
    "    char_pline = pline_final2[i]\n",
    "    curve = figure.polyline(\n",
    "        char_pline.scale(grid_size*0.67).translate(1+i*grid_size, 5))\n",
    "    page.place(curve)\n",
    "\n",
    "show(page)\n"
   ]
  },
  {
   "cell_type": "markdown",
   "metadata": {},
   "source": [
    "Then, I became interested in achieving a more natural representation of written form. The below is another experiment using stroke weight."
   ]
  },
  {
   "cell_type": "code",
   "execution_count": 32,
   "metadata": {},
   "outputs": [],
   "source": [
    "alpha_s2 = [3, 3, 1, 2, 4, 4, 2, 3, 3, 2, 3, 2, 4, 3, 1, 2, 2, 3, 1, 2, 1, 2, 4, 2, 3, 3, 0]"
   ]
  },
  {
   "cell_type": "code",
   "execution_count": 33,
   "metadata": {},
   "outputs": [],
   "source": [
    "def make_char2(a):\n",
    "    pts = []\n",
    "    for i in range(int(t_normal(2*a+4, 2*a+5, 8, 2))):\n",
    "        x = (random.choice([0, 0.5, 1]))\n",
    "        y = (random.choice([0, 0.5, 1]))\n",
    "        pts.append([x, y])\n",
    "    return Polyline(pts)"
   ]
  },
  {
   "cell_type": "code",
   "execution_count": 34,
   "metadata": {},
   "outputs": [],
   "source": [
    "char_plines = [make_char2(i) for i in (alpha_s2)]\n",
    "pline_final1 = [char_plines[item] for item in numbers1]"
   ]
  },
  {
   "cell_type": "code",
   "execution_count": 35,
   "metadata": {},
   "outputs": [
    {
     "data": {
      "image/svg+xml": [
       "<svg height=\"212.5984pt\" version=\"1.1\" width=\"1133.8583pt\" xmlns=\"http://www.w3.org/2000/svg\" xmlns:xlink=\"http://www.w3.org/1999/xlink\">\n",
       "<title>Untitled</title>\n",
       "<polygon fill=\"rgba(0,0,0,1)\" points=\"21.5446 15.4409 20.8972 15.2858 19.6868 15.4305 18.0734 15.9615 16.2104 16.8253 14.2042 17.9356 12.139 19.2023 10.0886 20.5357 8.1219 21.8478 6.3032 23.0524 4.6902 24.0663 3.3191 24.814 3.31 24.7959 2.3146 25.2698 1.5675 25.5782 0.9973 25.7541 0.2693 25.7618 -0.4163 24.1564 0.011 23.6804 0.4163 23.4216 0.9013 23.1903 1.4725 22.9887 2.1207 22.8411 2.8346 22.7822 2.8346 22.7619 3.5751 22.7874 4.3194 22.8886 5.0834 23.0281 5.873 23.1772 6.6873 23.3109 7.5216 23.4058 8.3704 23.4402 9.229 23.3943 10.096 23.2494 10.9748 22.9852 11.8727 22.5775 13.1404 25.1128 11.862 25.6134 10.6152 25.9124 9.4185 26.04 8.286 26.0305 7.2273 25.9195 6.2487 25.7419 5.3553 25.5304 4.5535 25.3162 3.8533 25.1286 3.2714 24.9938 2.8346 24.9284 2.8346 24.9081 2.4586 24.94 2.0713 25.0286 1.716 25.154 1.438 25.286 1.2983 25.3724 1.4531 25.1689 0.822 23.7089 0.53 23.6802 0.8318 23.5836 1.4472 23.3288 2.3593 22.8944 2.3502 22.8763 3.5152 22.1743 5.0268 21.1536 6.7906 19.9129 8.7333 18.5436 10.7886 17.1339 12.8944 15.77 14.9939 14.5368 17.0404 13.5185 19.0095 12.8033 20.9237 12.512 22.8123 12.9055\"/>\n",
       "<polygon fill=\"rgba(0,0,0,1)\" points=\"51.0499 12.7559 52.1176 15.1248 51.7116 15.7577 51.0881 16.6998 50.2784 17.8651 49.3131 19.1683 48.2211 20.525 47.0285 21.8519 45.7553 23.0674 44.4077 24.0902 42.9642 24.827 41.378 25.1216 41.378 25.1088 39.7164 24.7285 38.1937 23.8555 36.7247 22.6658 35.3053 21.267 33.97 19.7632 32.7666 18.2614 31.7479 16.8693 30.9661 15.6903 30.4588 14.7933 30.7184 13.026 32.4999 13.3793 32.4909 13.3884 33.2957 14.2113 34.5674 15.5011 36.2133 17.1651 38.1438 19.1077 40.2693 21.2332 42.4911 23.455 44.7165 25.6804 46.8529 27.8168 48.8077 29.7716 50.4881 31.452 51.8015 32.7654 51.8015 32.7654 52.712 33.6329 53.3159 34.1331 53.5576 34.2919 52.8349 34.3615 52.3401 35.4299 52.3415 35.4633 52.1721 35.2509 51.8971 34.9891 51.5744 34.7607 51.269 34.6197 51.0499 34.5801 51.0499 34.5801 50.3704 34.5801 49.4712 34.5801 48.4121 34.5801 47.253 34.5801 46.054 34.5801 44.875 34.5801 43.7759 34.5801 42.8168 34.5886 42.0574 34.6014 41.5578 34.6142 41.378 32.4071 41.378 32.3943 42.0603 32.5896 42.5326 32.7986 43.255 33.0957 44.1634 33.4262 45.1915 33.7357 46.2686 33.9718 47.3178 34.0867 48.2543 34.046 48.9984 33.8444 49.529 33.4999 49.9196 32.9519 49.9082 32.9462 50.2468 31.8725 50.4905 30.2259 50.6077 28.1988 50.6125 25.9412 50.5283 23.5863 50.3811 21.2608 50.1976 19.0882 50.0051 17.1906 49.8306 15.6892 49.7013 14.7049 51.0499 12.7559 51.0499 15.5906 52.4892 14.3609 52.5962 15.375 52.7487 16.9111 52.9194 18.8503 53.0812 21.074 53.2065 23.4645 53.2676 25.9057 53.236 28.2841 53.0808 30.4935 52.7612 32.4439 52.1916 34.0879 52.1801 34.0822 51.2118 35.3509 49.944 36.1327 48.5699 36.4761 47.1883 36.5081 45.8395 36.3323 44.5586 36.0234 43.3885 35.6426 42.3785 35.2464 41.5822 34.8895 41.0553 34.6262 41.378 34.6398 41.378 34.627 41.5578 32.4199 42.0574 32.4327 42.8168 32.4455 43.7759 32.4541 44.875 32.4541 46.054 32.4541 47.253 32.4541 48.4121 32.4541 49.4712 32.4541 50.3704 32.4541 51.0499 32.4541 51.0499 32.4541 51.9207 32.5961 52.6508 32.9274 53.2547 33.353 53.7426 33.8179 54.1182 34.2958 54.3921 34.8742 53.8428 36.2333 52.6841 36.2302 52.0538 35.844 51.2952 35.2179 50.2982 34.2687 50.2982 34.2687 48.9848 32.9553 47.3044 31.2748 45.3496 29.3201 43.2132 27.1837 40.9878 24.9583 38.766 22.7365 36.6405 20.611 34.6979 18.6805 33.0339 17.0346 31.7441 15.7629 30.9212 14.9581 30.9121 14.9671 32.0542 14.8627 32.5137 13.7675 32.9256 14.4437 33.6625 15.5101 34.6421 16.8067 35.7968 18.2079 37.0592 19.5926 38.3577 20.8389 39.6064 21.822 40.6815 22.4205 41.378 22.5815 41.378 22.5687 42.0589 22.4127 42.977 21.9143 44.0202 21.0913 45.1014 20.0251 46.1615 18.8087 47.155 17.5348 48.0426 16.2947 48.788 15.1783 49.3562 14.2746 49.7133 13.6722 51.0499 15.5906\"/>\n",
       "<polygon fill=\"rgba(0,0,0,1)\" points=\"79.9213 32.0997 79.3491 32.3014 79.6808 31.6537 80.0998 30.3086 80.4684 28.504 80.7392 26.3991 80.8802 24.1315 80.8641 21.8337 80.6681 19.6396 80.2775 17.6887 79.7002 16.1295 78.9963 15.0982 79.0034 15.0911 78.0684 14.4127 76.79 13.9441 75.2021 13.6938 73.3846 13.6506 71.4222 13.7799 69.3937 14.035 67.3718 14.365 65.4242 14.7169 63.6129 15.0374 61.9895 15.2725 60.5774 15.3621 60.5774 15.3521 59.6237 15.3422 58.9424 15.3323 58.5064 15.3223 58.2884 15.3124 58.2612 13.044 58.3974 13.0539 58.6699 13.0639 59.0514 13.0738 59.5147 13.0837 60.0324 13.0937 60.5774 13.1036 60.5774 13.1102 61.1428 13.071 62.0016 12.958 63.049 12.7963 64.2137 12.6138 65.4335 12.4382 66.6519 12.2975 67.8188 12.2206 68.8991 12.2419 69.8935 12.4249 70.8354 12.9819 71.3123 14.1732 71.3123 14.1732 70.8362 15.4354 69.9572 16.3757 68.805 17.3263 67.4541 18.3248 66.0046 19.355 64.5672 20.3875 63.2601 21.3853 62.2103 22.2984 61.5604 23.0324 61.406 23.3189 61.3291 23.0935 61.3291 23.0935 61.7147 23.2167 63.0344 23.355 64.9298 23.3284 67.1871 23.1678 69.6386 22.9244 72.1306 22.6522 74.5166 22.4054 76.6588 22.2387 78.4429 22.2108 79.8696 22.4339 80.9843 23.8451 80.9909 23.8451 80.4088 25.2391 79.2854 26.4023 77.7008 27.6913 75.736 29.0767 73.4965 30.4858 71.0937 31.8374 68.6388 33.0479 66.2383 34.0328 63.9837 34.7054 61.9263 34.9603 60.0502 34.5715 60.0458 34.5804 58.6795 33.3798 57.9407 31.7436 57.6187 29.8649 57.5691 27.7928 57.71 25.5827 57.9789 23.3081 58.3186 21.0528 58.6735 18.907 58.988 16.9669 59.2067 15.3406 59.2793 14.1732 59.2694 14.1732 59.2232 13.4203 59.1627 13.1466 59.4018 13.4635 60.514 13.665 60.9932 13.3382 61.0537 13.2543 61.0596 13.276 61.0646 13.2404 60.9848 13.0424 60.7271 12.8111 60.5774 12.7559 60.5774 15.5906 59.5194 15.3537 58.6985 14.65 58.3462 13.798 58.3149 13.0358 58.4662 12.3672 58.7991 11.7383 59.6235 11.1208 61.099 11.395 61.6651 12.2569 61.8408 13.1095 61.8855 14.1732 61.8755 14.1732 61.7665 15.6327 61.5129 17.3673 61.1734 19.3367 60.8016 21.4636 60.451 23.6591 60.1748 25.8281 60.0251 27.8691 60.0482 29.67 60.2712 31.1013 60.6587 32.0266 61.1091 32.4537 61.1046 32.4626 61.9463 32.6225 63.4858 32.4414 65.4677 31.8677 67.7033 30.9705 70.0445 29.8375 72.3577 28.5586 74.5145 27.2246 76.3865 25.9285 77.8394 24.7723 78.7144 23.9009 78.8516 23.8451 78.8583 23.8451 79.1627 24.4389 78.3549 24.335 76.7745 24.3616 74.7166 24.5219 72.3611 24.7656 69.8646 25.0384 67.3747 25.2855 65.0322 25.4519 62.9637 25.4798 61.2495 25.2911 59.8258 24.5968 59.8258 24.5968 59.291 23.1034 59.8088 21.8275 60.7322 20.7703 61.9278 19.7286 63.3093 18.6736 64.775 17.6206 66.2139 16.598 67.5081 15.6417 68.5287 14.8011 69.1211 14.1791 69.1864 14.1732 69.1864 14.1732 69.3036 14.4562 69.2463 14.45 68.722 14.3605 67.8839 14.3456 66.8527 14.414 65.713 14.5458 64.5348 14.7154 63.3814 14.8962 62.3106 15.0614 61.371 15.1847 60.5774 15.2362 60.5774 15.2428 60.0324 15.2528 59.5147 15.2627 59.0514 15.2726 58.6699 15.2826 58.3974 15.2925 58.2612 15.3025 58.2884 13.0341 58.5064 13.0241 58.9424 13.0142 59.6237 13.0043 60.5774 12.9943 60.5774 12.9844 61.7014 12.8923 63.2026 12.6551 64.9738 12.3216 66.9357 11.9468 69.0195 11.5864 71.162 11.2966 73.3052 11.1352 75.3972 11.1647 77.3918 11.4594 79.2381 12.1171 80.8392 13.2553 80.8462 13.2483 82.0498 14.9347 82.835 16.9725 83.3164 19.258 83.5564 21.7 83.5948 24.1983 83.4633 26.6467 83.1891 28.9381 82.7947 30.9704 82.2872 32.6626 81.5834 34.0134 79.9213 34.9344\"/>\n",
       "<polygon fill=\"rgba(0,0,0,1)\" points=\"107.525 32.8832 107.7949 32.1567 107.8061 30.8938 107.4819 29.2476 106.821 27.37 105.8545 25.3845 104.704 23.3496 103.4311 21.3379 102.0455 19.4575 100.6397 17.7643 99.3062 16.3114 98.1185 15.1754 100.1229 13.171 101.2933 14.5711 102.5576 16.2428 103.8696 18.1321 105.2017 20.1612 106.5266 22.2552 107.7342 24.3913 108.766 26.5115 109.6238 28.5433 110.2189 30.4796 110.4298 32.3413 110.0603 34.1509\"/>\n",
       "<polygon fill=\"rgba(0,0,0,1)\" points=\"137.664 22.4278 137.9246 25.2655 136.9119 25.7379 135.3795 26.4701 133.4476 27.4022 131.2358 28.4741 128.8642 29.6259 126.4526 30.7978 124.121 31.9296 121.9892 32.9616 120.1771 33.8337 118.8046 34.4859 118.7956 34.4678 117.9515 34.9496 117.3934 35.3725 117.0974 35.6837 117.0326 35.7812 117.0269 35.408 116.4293 34.8104 116.0561 34.8047 116.1535 34.7398 116.4648 34.4438 116.8877 33.8858 117.3694 33.0417 117.3513 33.0326 117.9582 31.751 118.7122 30.1751 119.5806 28.3703 120.5308 26.402 121.5301 24.3356 122.5457 22.2364 123.5449 20.17 124.4951 18.2017 125.3636 16.3969 126.1176 14.821 126.7244 13.5394 129.2598 14.8071 128.5986 16.0615 127.7903 17.6103 126.8675 19.3879 125.863 21.3291 124.8094 23.3683 123.7395 25.4403 122.6859 27.4795 121.6814 29.4207 120.7586 31.1983 119.9503 32.7471 119.2891 34.0015 119.271 33.9924 118.6627 35.0559 118.0502 35.8603 117.4349 36.4363 116.7694 36.8074 115.8511 36.8562 114.981 35.9861 115.0298 35.0679 115.401 34.4024 115.977 33.7871 116.7814 33.1746 117.8448 32.5663 117.8358 32.5482 119.1811 31.8416 120.966 30.9152 123.0706 29.8289 125.3751 28.6427 127.7595 27.4165 130.104 26.2104 132.2885 25.0841 134.1933 24.0977 135.6985 23.3112 136.6841 22.7845 137.664 25.2625\"/>\n",
       "<polygon fill=\"rgba(0,0,0,1)\" points=\"156.8635 32.0997 157.3631 32.1767 158.0848 32.3055 159.1539 32.4794 160.4543 32.671 161.8689 32.8529 163.2774 32.998 164.5526 33.08 165.5438 33.0778 165.9958 33.0247 165.5001 33.7184 165.6329 34.4196 165.6419 34.4106 164.9697 33.8373 163.7539 32.9684 162.1418 31.9216 160.2402 30.7685 158.1475 29.5734 155.9601 28.3981 153.7745 27.3043 151.6889 26.3539 149.8072 25.6089 148.2492 25.1314 147.1916 24.9679 147.1916 24.9551 146.7435 25.0646 146.2598 25.5033 145.7856 26.343 145.4335 27.4826 145.2546 28.777 145.2545 30.0815 145.4277 31.2532 145.7394 32.138 146.0719 32.5919 146.2781 32.6864 146.7162 32.5663 146.7162 32.5663 147.9005 31.7712 149.6393 30.304 151.728 28.3495 154.0286 26.0669 156.4151 23.6081 158.7649 21.1225 160.957 18.7583 162.8707 16.6634 164.3857 14.9854 165.3818 13.8716 166.5354 13.1102 166.5354 13.1102 167.0049 15.2889 166.0006 16.5306 164.4755 18.3841 162.5489 20.6756 160.3399 23.2314 157.9668 25.8787 155.5468 28.4454 153.199 30.7681 151.0229 32.6807 149.0758 34.0297 147.1916 34.627 147.1916 34.6398 145.4496 33.883 144.6163 32.3115 144.2898 30.4003 144.2377 28.1794 144.3745 25.7368 144.639 23.1965 144.9754 20.696 145.3285 18.379 145.6429 16.3947 145.862 14.9049 145.928 14.1732 145.9152 14.1732 146.4548 14.9692 147.7839 14.8755 147.679 15.0657 147.4033 15.6746 147.1168 16.544 146.8897 17.5833 146.7758 18.7143 146.8188 19.8628 147.0512 20.9609 147.4973 21.9598 148.1938 22.8429 146.1894 24.8473 145.0693 23.3725 144.389 21.7736 144.0764 20.1539 144.0467 18.5847 144.2235 17.1179 144.5414 15.7991 144.9452 14.6702 145.3962 13.7603 145.9453 13.0313 147.7467 12.7377 148.468 14.1732 148.4552 14.1732 148.3396 15.251 148.0863 16.795 147.7467 18.7746 147.3731 21.0575 147.0192 23.4983 146.7388 25.9465 146.5848 28.2454 146.6055 30.2246 146.8239 31.6779 147.1169 32.3409 147.1916 32.3943 147.1916 32.4071 148.0251 32.1033 149.675 30.9817 151.7353 29.2028 154.0238 26.9621 156.3997 24.4421 158.7427 21.8283 160.93 19.2975 162.8402 17.0256 164.3525 15.1876 165.3465 13.9587 166.5354 15.2362 166.5354 15.2362 166.9697 15.2851 165.9675 16.4058 164.445 18.0922 162.5219 20.1974 160.3176 22.5747 157.9514 25.0777 155.5419 27.5602 153.2063 29.8774 151.0586 31.8869 149.2004 33.4535 147.667 34.4678 147.667 34.4678 146.1068 34.8055 144.7143 34.2279 143.8478 33.1085 143.3601 31.748 143.1337 30.231 143.1336 28.6325 143.3544 27.0383 143.8016 25.5329 144.5264 24.1999 145.6414 23.1671 147.1916 22.7352 147.1916 22.7224 148.7609 22.9186 150.5637 23.4403 152.5914 24.214 154.7787 25.1819 157.0439 26.2863 159.3 27.4691 161.4584 28.6719 163.4298 29.837 165.1277 30.9084 166.4734 31.838 167.429 32.6235 167.438 32.6145 168.0285 34.2241 166.8607 35.481 165.7395 35.7003 164.4853 35.7345 163.0718 35.6711 161.5773 35.5437 160.1034 35.3805 158.7588 35.2087 157.6551 35.0556 156.9053 34.9482 156.8635 34.9344\"/>\n",
       "<polygon fill=\"rgba(0,0,0,1)\" points=\"187.1522 33.5171 186.7485 34.7514 184.3367 34.3562 184.0972 33.652 183.9082 32.7872 183.7401 31.7087 183.6131 30.4535 183.5539 29.0715 183.5915 27.6144 183.7584 26.1337 184.0928 24.6786 184.6445 23.2999 184.6606 23.308 185.4645 22.0516 186.4662 20.8946 187.6022 19.8126 188.8156 18.794 190.0493 17.8355 191.2446 16.9392 192.3401 16.1111 193.2659 15.359 193.9433 14.7071 194.2987 14.2439 194.3438 14.1732 194.3438 14.1732 194.3368 14.2091 194.0767 13.951 193.4994 13.6014 192.6857 13.2784 191.7196 13.0391 190.6785 12.9187 189.6368 12.942 188.667 13.1237 187.8331 13.4656 187.1723 13.9648 186.6857 14.6486 186.6857 14.6486 186.3735 15.7136 186.2252 17.3623 186.2517 19.3993 186.4241 21.6708 186.6849 24.0435 186.9747 26.3942 187.2396 28.6057 187.4249 30.5707 187.471 32.2119 187.2436 33.5931 185.7349 34.7182 185.7349 34.7362 184.1882 33.9942 183.1253 32.7107 181.9978 30.9547 180.7954 28.8136 179.5625 26.4158 178.3535 23.9004 177.2257 21.4094 176.2366 19.0847 175.443 17.0633 174.8964 15.4591 174.6457 14.1732 177.4803 14.1732 177.5892 14.6968 178.0419 16.1264 178.7669 18.069 179.6963 20.344 180.7666 22.7944 181.9157 25.2675 183.0808 27.6112 184.1965 29.6703 185.1872 31.2787 185.9227 32.2297 185.7349 32.2979 185.7349 32.3159 185.0437 32.7217 185.1433 32.1045 185.1349 30.7083 184.9933 28.8364 184.7676 26.6516 184.5124 24.2863 184.2827 21.863 184.1281 19.4984 184.1001 17.2989 184.2788 15.3506 184.7841 13.6978 184.7841 13.6978 185.6564 12.4742 186.7941 11.6108 188.0784 11.0808 189.4267 10.8264 190.783 10.7953 192.0999 10.9474 193.3319 11.253 194.4366 11.6931 195.3781 12.2699 196.1172 13.0473 196.4698 14.1732 196.4698 14.1732 196.1552 15.2798 195.5114 16.1427 194.6702 16.9551 193.6776 17.7944 192.5748 18.6739 191.4122 19.5906 190.2479 20.5397 189.1432 21.5121 188.1609 22.4938 187.3642 23.4623 186.8092 24.3823 186.8253 24.3904 186.4687 25.3697 186.24 26.5125 186.1343 27.7494 186.1356 29.0102 186.2217 30.2259 186.3672 31.3288 186.5443 32.2486 186.7187 32.9025 186.8061 33.1176 184.6305 32.9222 184.3176 33.5171\"/>\n",
       "<polygon fill=\"rgba(0,0,0,1)\" points=\"213.189 33.5171 213.0843 33.1498 212.5413 31.8478 211.6669 30.0581 210.5632 27.9449 209.3225 25.64 208.0337 23.2672 206.7845 20.9469 205.661 18.7967 204.7467 16.9279 204.1185 15.4276 203.8511 14.1732 203.8714 14.1732 205.3305 12.9036 206.3282 13.4933 207.1662 14.3591 208.1505 15.511 209.2571 16.8645 210.4335 18.3129 211.6203 19.7424 212.7529 21.0349 213.7558 22.0643 214.5083 22.6846 214.6063 22.7822 214.6063 22.7619 214.0313 23.0526 214.0369 22.7662 213.9812 21.8522 213.7968 20.6111 213.5276 19.2075 213.2266 17.7692 212.9474 16.4074 212.7427 15.2085 212.6844 14.1431 213.8457 12.6028 215.6085 13.171 213.6041 15.1754 214.5494 15.2859 215.3837 14.4177 215.3799 14.9256 215.5022 15.972 215.7135 17.2989 215.9575 18.7636 216.1788 20.2485 216.3214 21.6525 216.3202 22.9112 215.9988 24.0963 214.6063 24.9284 214.6063 24.9081 213.3454 24.4643 212.2994 23.6131 211.1841 22.4698 209.9987 21.1172 208.7874 19.6583 207.6058 18.2036 206.5143 16.8684 205.5802 15.7749 204.8994 15.0675 204.898 14.9851 205.9974 14.1732 206.0176 14.1732 206.2008 14.6374 206.8079 15.9347 207.7394 17.7029 208.8976 19.7892 210.1917 22.0651 211.5335 24.4083 212.8361 26.6996 214.0141 28.8228 214.9855 30.6701 215.6778 32.1657 216.0236 33.5171\"/>\n",
       "<polygon fill=\"rgba(0,0,0,1)\" points=\"251.8819 32.8832 252.1519 32.1567 252.163 30.8938 251.8388 29.2476 251.178 27.37 250.2114 25.3845 249.0609 23.3496 247.788 21.3379 246.4024 19.4575 244.9967 17.7643 243.6632 16.3114 242.4755 15.1754 244.4799 13.171 245.6502 14.5711 246.9146 16.2428 248.2266 18.1321 249.5587 20.1612 250.8836 22.2552 252.0911 24.3913 253.1229 26.5115 253.9808 28.5433 254.5758 30.4796 254.7868 32.3413 254.4173 34.1509\"/>\n",
       "<polygon fill=\"rgba(0,0,0,1)\" points=\"273.7664 33.5171 273.3627 34.7514 270.9509 34.3562 270.7113 33.652 270.5224 32.7872 270.3543 31.7087 270.2273 30.4535 270.1681 29.0715 270.2057 27.6144 270.3725 26.1337 270.707 24.6786 271.2587 23.2999 271.2748 23.308 272.0787 22.0516 273.0804 20.8946 274.2164 19.8126 275.4298 18.794 276.6635 17.8355 277.8588 16.9392 278.9542 16.1111 279.88 15.359 280.5575 14.7071 280.9129 14.2439 280.958 14.1732 280.958 14.1732 280.9509 14.2091 280.6909 13.951 280.1136 13.6014 279.2999 13.2784 278.3338 13.0391 277.2926 12.9187 276.251 12.942 275.2812 13.1237 274.4472 13.4656 273.7865 13.9648 273.2999 14.6486 273.2999 14.6486 272.9877 15.7136 272.8394 17.3623 272.8659 19.3993 273.0383 21.6708 273.2991 24.0435 273.5889 26.3942 273.8537 28.6057 274.0391 30.5707 274.0852 32.2119 273.8578 33.5931 272.3491 34.7182 272.3491 34.7362 270.8024 33.9942 269.7395 32.7107 268.6119 30.9547 267.4096 28.8136 266.1767 26.4158 264.9677 23.9004 263.8399 21.4094 262.8508 19.0847 262.0572 17.0633 261.5106 15.4591 261.2598 14.1732 264.0945 14.1732 264.2034 14.6968 264.656 16.1264 265.3811 18.069 266.3105 20.344 267.3808 22.7944 268.5299 25.2675 269.695 27.6112 270.8106 29.6703 271.8013 31.2787 272.5369 32.2297 272.3491 32.2979 272.3491 32.3159 271.6579 32.7217 271.7575 32.1045 271.7491 30.7083 271.6074 28.8364 271.3818 26.6516 271.1266 24.2863 270.8969 21.863 270.7422 19.4984 270.7143 17.2989 270.893 15.3506 271.3983 13.6978 271.3983 13.6978 272.2705 12.4742 273.4083 11.6108 274.6926 11.0808 276.0409 10.8264 277.3972 10.7953 278.7141 10.9474 279.9461 11.253 281.0508 11.6931 281.9923 12.2699 282.7314 13.0473 283.084 14.1732 283.084 14.1732 282.7694 15.2798 282.1256 16.1427 281.2844 16.9551 280.2918 17.7944 279.189 18.6739 278.0263 19.5906 276.8621 20.5397 275.7573 21.5121 274.7751 22.4938 273.9784 23.4623 273.4234 24.3823 273.4395 24.3904 273.0828 25.3697 272.8541 26.5125 272.7485 27.7494 272.7498 29.0102 272.8358 30.2259 272.9814 31.3288 273.1584 32.2486 273.3328 32.9025 273.4203 33.1176 271.2446 32.9222 270.9318 33.5171\"/>\n",
       "<polygon fill=\"rgba(0,0,0,1)\" points=\"299.8031 33.5171 299.6985 33.1498 299.1554 31.8478 298.2811 30.0581 297.1774 27.9449 295.9366 25.64 294.6479 23.2672 293.3987 20.9469 292.2751 18.7967 291.3609 16.9279 290.7326 15.4276 290.4653 14.1732 290.4856 14.1732 291.9447 12.9036 292.9424 13.4933 293.7803 14.3591 294.7647 15.511 295.8713 16.8645 297.0477 18.3129 298.2345 19.7424 299.3671 21.0349 300.37 22.0643 301.1225 22.6846 301.2205 22.7822 301.2205 22.7619 300.6454 23.0526 300.651 22.7662 300.5954 21.8522 300.411 20.6111 300.1417 19.2075 299.8408 17.7692 299.5616 16.4074 299.3568 15.2085 299.2986 14.1431 300.4598 12.6028 302.2227 13.171 300.2183 15.1754 301.1636 15.2859 301.9978 14.4177 301.9941 14.9256 302.1164 15.972 302.3277 17.2989 302.5717 18.7636 302.793 20.2485 302.9356 21.6525 302.9344 22.9112 302.613 24.0963 301.2205 24.9284 301.2205 24.9081 299.9596 24.4643 298.9136 23.6131 297.7983 22.4698 296.6128 21.1172 295.4016 19.6583 294.22 18.2036 293.1284 16.8684 292.1944 15.7749 291.5136 15.0675 291.5121 14.9851 292.6115 14.1732 292.6318 14.1732 292.815 14.6374 293.4221 15.9347 294.3536 17.7029 295.5118 19.7892 296.8059 22.0651 298.1477 24.4083 299.4503 26.6996 300.6283 28.8228 301.5996 30.6701 302.2919 32.1657 302.6378 33.5171\"/>\n",
       "<polygon fill=\"rgba(0,0,0,1)\" points=\"338.4961 32.8832 338.7661 32.1567 338.7772 30.8938 338.453 29.2476 337.7921 27.37 336.8256 25.3845 335.6751 23.3496 334.4022 21.3379 333.0166 19.4575 331.6109 17.7643 330.2774 16.3114 329.0897 15.1754 331.0941 13.171 332.2644 14.5711 333.5287 16.2428 334.8407 18.1321 336.1728 20.1612 337.4978 22.2552 338.7053 24.3913 339.7371 26.5115 340.595 28.5433 341.19 30.4796 341.401 32.3413 341.0315 34.1509\"/>\n",
       "<polygon fill=\"rgba(0,0,0,1)\" points=\"358.9633 34.9344 357.2209 33.4902 357.0107 31.8831 357.0567 29.9175 357.2416 27.5866 357.5067 25.0252 357.7971 22.3965 358.0585 19.8741 358.2366 17.6414 358.2812 15.9063 358.1929 14.9984 358.9633 15.3924 358.9633 15.3743 359.156 15.4232 358.3703 16.4803 357.337 18.2457 356.1815 20.4809 354.9774 22.9928 353.7892 25.6 352.6785 28.1247 351.7118 30.3932 350.9552 32.2323 350.4578 33.4622 349.2913 32.4541 349.2913 32.4541 348.4179 32.774 348.803 31.6463 349.4034 29.9513 350.1868 27.8353 351.1212 25.4444 352.1751 22.9235 353.318 20.4166 354.5222 18.0643 355.7669 16.0015 357.0556 14.3494 358.4879 13.2225 358.4879 13.2225 360.0058 12.7944 361.5285 12.9204 362.9633 13.4699 364.3053 14.32 365.5527 15.4019 366.69 16.6604 367.6966 18.0406 368.547 19.4908 369.2123 20.9638 369.6584 22.422 369.8363 23.8451 369.8543 23.8451 369.5566 25.3978 368.797 26.7483 367.7557 27.942 366.5346 29.0322 365.2161 30.0438 363.8831 30.9845 362.6236 31.8519 361.5335 32.6339 360.7245 33.2972 360.3372 33.7276 360.3806 33.5171 357.5459 33.5171 358.0398 32.1294 358.8878 31.2336 359.9246 30.4326 361.1163 29.6232 362.4001 28.7829 363.6976 27.9106 364.9224 27.0148 365.9831 26.1139 366.7875 25.2438 367.2632 24.4689 367.416 23.8451 367.434 23.8451 367.3431 22.9103 367.0262 21.7706 366.4997 20.526 365.7951 19.2584 364.9487 18.0408 364.0005 16.9412 362.9952 16.0248 361.9828 15.3562 361.0269 14.9864 360.1879 14.9126 359.4386 15.124 359.4386 15.124 358.6037 15.8065 357.5308 17.1882 356.3847 19.0893 355.2345 21.3369 354.1248 23.7712 353.0931 26.239 352.1745 28.5895 351.4029 30.6737 350.8115 32.3431 350.4336 33.4498 349.2913 34.5801 349.2913 34.5801 348.4846 32.6709 348.9863 31.4301 349.7485 29.5777 350.7002 27.2828 351.7877 24.7208 352.9574 22.067 354.1513 19.4922 355.3139 17.1639 356.3989 15.2379 357.4117 13.8243 358.9633 12.9721 358.9633 12.9541 360.5511 14.2492 360.7898 15.8119 360.7799 17.7683 360.6311 20.099 360.4019 22.6633 360.1473 25.2957 359.9219 27.8209 359.7798 30.0534 359.7713 31.7793 359.8881 32.6428 358.9633 32.0997\"/>\n",
       "<polygon fill=\"rgba(0,0,0,1)\" points=\"378.1627 34.9344 376.689 34.2964 376.0018 33.2363 375.6377 32.0678 375.4287 30.7743 375.3377 29.3894 375.3557 27.9735 375.4823 26.5945 375.7253 25.3153 376.117 24.1772 376.8019 23.1823 378.1627 22.626 378.1627 22.644 379.3278 22.9918 380.2011 23.6652 381.0077 24.5262 381.8262 25.5408 382.6777 26.6662 383.5659 27.8509 384.4874 29.0384 385.4394 30.1653 386.4133 31.1653 387.3802 31.9842 388.31 32.5663 388.31 32.5663 389.3517 33.0252 390.448 33.3962 391.5625 33.6757 392.6582 33.8617 393.6966 33.9539 394.6372 33.9542 395.4342 33.8688 396.0339 33.7162 396.3766 33.5486 396.4549 33.4793 396.4436 33.5171 396.4436 33.5171 396.4087 33.5355 395.9569 33.0594 395.1135 32.3915 393.9976 31.628 392.7176 30.7903 391.3687 29.8824 390.0365 28.9055 388.8019 27.8515 387.7449 26.6944 386.9634 25.3775 386.6335 23.8451 386.6155 23.8451 386.8232 22.3326 387.3815 20.8263 388.1987 19.3258 389.2126 17.8578 390.3682 16.4642 391.6139 15.1932 392.904 14.0951 394.2085 13.2203 395.5396 12.6278 397.0007 12.465 398.5088 13.171 396.5044 15.1754 396.6536 15.242 396.3162 15.279 395.529 15.6057 394.5154 16.2497 393.4076 17.1499 392.2952 18.237 391.2527 19.4412 390.3482 20.6909 389.6467 21.9082 389.2058 22.9997 389.0538 23.8451 389.0358 23.8451 389.1565 24.4891 389.6102 25.2978 390.3989 26.2044 391.4461 27.1414 392.6573 28.0721 393.9389 28.9772 395.2022 29.8471 396.368 30.6751 397.3704 31.4713 398.1539 32.3214 398.5696 33.5171 398.5696 33.5171 398.2893 34.554 397.6047 35.284 396.7556 35.7159 395.8003 35.963 394.7443 36.0774 393.5993 36.0777 392.3851 35.9701 391.1264 35.7564 389.8502 35.4364 388.5848 35.0081 387.3593 34.4678 387.3593 34.4678 386.1127 33.691 384.9542 32.7115 383.8643 31.5933 382.8252 30.4021 381.8393 29.1916 380.9144 28.0183 380.0582 26.9455 379.2853 26.0416 378.6277 25.3839 378.1749 25.0582 378.1627 25.0463 378.1627 25.0643 378.5244 24.9586 378.41 25.199 378.2021 25.9066 378.0455 26.9091 377.9723 28.0734 377.9903 29.2881 378.0991 30.4465 378.2897 31.4347 378.5252 32.1119 378.6373 32.2872 378.1627 32.0997\"/>\n",
       "<polygon fill=\"rgba(0,0,0,1)\" points=\"416.706 32.0997 417.2057 32.1767 417.9273 32.3055 418.9964 32.4794 420.2969 32.671 421.7114 32.8529 423.1199 32.998 424.3951 33.08 425.3863 33.0778 425.8383 33.0247 425.3426 33.7184 425.4754 34.4196 425.4844 34.4106 424.8122 33.8373 423.5965 32.9684 421.9844 31.9216 420.0827 30.7685 417.99 29.5734 415.8027 28.3981 413.617 27.3043 411.5315 26.3539 409.6497 25.6089 408.0917 25.1314 407.0341 24.9679 407.0341 24.9551 406.586 25.0646 406.1023 25.5033 405.6281 26.343 405.276 27.4826 405.0972 28.777 405.097 30.0815 405.2703 31.2532 405.5819 32.138 405.9145 32.5919 406.1206 32.6864 406.5587 32.5663 406.5587 32.5663 407.743 31.7712 409.4818 30.304 411.5706 28.3495 413.8712 26.0669 416.2576 23.6081 418.6075 21.1225 420.7995 18.7583 422.7132 16.6634 424.2282 14.9854 425.2243 13.8716 426.378 13.1102 426.378 13.1102 426.8475 15.2889 425.8432 16.5306 424.318 18.3841 422.3914 20.6756 420.1824 23.2314 417.8094 25.8787 415.3893 28.4454 413.0416 30.7681 410.8654 32.6807 408.9184 34.0297 407.0341 34.627 407.0341 34.6398 405.2921 33.883 404.4588 32.3115 404.1323 30.4003 404.0803 28.1794 404.217 25.7368 404.4816 23.1965 404.8179 20.696 405.171 18.379 405.4854 16.3947 405.7045 14.9049 405.7705 14.1732 405.7577 14.1732 406.2973 14.9692 407.6264 14.8755 407.5215 15.0657 407.2458 15.6746 406.9593 16.544 406.7323 17.5833 406.6183 18.7143 406.6613 19.8628 406.8937 20.9609 407.3398 21.9598 408.0363 22.8429 406.0319 24.8473 404.9118 23.3725 404.2316 21.7736 403.9189 20.1539 403.8892 18.5847 404.066 17.1179 404.3839 15.7991 404.7877 14.6702 405.2387 13.7603 405.7879 13.0313 407.5892 12.7377 408.3106 14.1732 408.2978 14.1732 408.1821 15.251 407.9289 16.795 407.5893 18.7746 407.2156 21.0575 406.8617 23.4983 406.5813 25.9465 406.4273 28.2454 406.448 30.2246 406.6664 31.6779 406.9595 32.3409 407.0341 32.3943 407.0341 32.4071 407.8676 32.1033 409.5175 30.9817 411.5779 29.2028 413.8663 26.9621 416.2422 24.4421 418.5852 21.8283 420.7725 19.2975 422.6827 17.0256 424.195 15.1876 425.189 13.9587 426.378 15.2362 426.378 15.2362 426.8122 15.2851 425.81 16.4058 424.2875 18.0922 422.3644 20.1974 420.1601 22.5747 417.7939 25.0777 415.3844 27.5602 413.0489 29.8774 410.9011 31.8869 409.0429 33.4535 407.5095 34.4678 407.5095 34.4678 405.9493 34.8055 404.5568 34.2279 403.6903 33.1085 403.2027 31.748 402.9763 30.231 402.9761 28.6325 403.1969 27.0383 403.6441 25.5329 404.369 24.1999 405.4839 23.1671 407.0341 22.7352 407.0341 22.7224 408.6034 22.9186 410.4062 23.4403 412.434 24.214 414.6212 25.1819 416.8864 26.2863 419.1426 27.4691 421.3009 28.6719 423.2724 29.837 424.9702 30.9084 426.316 31.838 427.2715 32.6235 427.2805 32.6145 427.8711 34.2241 426.7032 35.481 425.582 35.7003 424.3278 35.7345 422.9143 35.6711 421.4198 35.5437 419.9459 35.3805 418.6013 35.2087 417.4976 35.0556 416.7478 34.9482 416.706 34.9344\"/>\n",
       "<polygon fill=\"rgba(0,0,0,1)\" points=\"446.9948 33.5171 446.591 34.7514 444.1792 34.3562 443.9397 33.652 443.7507 32.7872 443.5826 31.7087 443.4557 30.4535 443.3964 29.0715 443.434 27.6144 443.6009 26.1337 443.9354 24.6786 444.487 23.2999 444.5031 23.308 445.307 22.0516 446.3087 20.8946 447.4448 19.8126 448.6581 18.794 449.8918 17.8355 451.0872 16.9392 452.1826 16.1111 453.1084 15.359 453.7859 14.7071 454.1412 14.2439 454.1864 14.1732 454.1864 14.1732 454.1793 14.2091 453.9192 13.951 453.342 13.6014 452.5282 13.2784 451.5621 13.0391 450.521 12.9187 449.4793 12.942 448.5095 13.1237 447.6756 13.4656 447.0148 13.9648 446.5282 14.6486 446.5282 14.6486 446.2161 15.7136 446.0677 17.3623 446.0943 19.3993 446.2666 21.6708 446.5274 24.0435 446.8172 26.3942 447.0821 28.6057 447.2674 30.5707 447.3135 32.2119 447.0861 33.5931 445.5774 34.7182 445.5774 34.7362 444.0307 33.9942 442.9678 32.7107 441.8403 30.9547 440.6379 28.8136 439.405 26.4158 438.196 23.9004 437.0682 21.4094 436.0792 19.0847 435.2855 17.0633 434.739 15.4591 434.4882 14.1732 437.3228 14.1732 437.4318 14.6968 437.8844 16.1264 438.6095 18.069 439.5388 20.344 440.6091 22.7944 441.7582 25.2675 442.9233 27.6112 444.039 29.6703 445.0297 31.2787 445.7652 32.2297 445.5774 32.2979 445.5774 32.3159 444.8862 32.7217 444.9858 32.1045 444.9774 30.7083 444.8358 28.8364 444.6101 26.6516 444.3549 24.2863 444.1252 21.863 443.9706 19.4984 443.9427 17.2989 444.1213 15.3506 444.6267 13.6978 444.6267 13.6978 445.4989 12.4742 446.6366 11.6108 447.9209 11.0808 449.2692 10.8264 450.6255 10.7953 451.9424 10.9474 453.1745 11.253 454.2791 11.6931 455.2206 12.2699 455.9597 13.0473 456.3123 14.1732 456.3123 14.1732 455.9978 15.2798 455.354 16.1427 454.5127 16.9551 453.5201 17.7944 452.4174 18.6739 451.2547 19.5906 450.0904 20.5397 448.9857 21.5121 448.0035 22.4938 447.2067 23.4623 446.6517 24.3823 446.6679 24.3904 446.3112 25.3697 446.0825 26.5125 445.9768 27.7494 445.9781 29.0102 446.0642 30.2259 446.2098 31.3288 446.3868 32.2486 446.5612 32.9025 446.6486 33.1176 444.473 32.9222 444.1601 33.5171\"/>\n",
       "<polygon fill=\"rgba(0,0,0,1)\" points=\"473.0315 33.5171 472.9268 33.1498 472.3838 31.8478 471.5094 30.0581 470.4057 27.9449 469.165 25.64 467.8763 23.2672 466.627 20.9469 465.5035 18.7967 464.5893 16.9279 463.961 15.4276 463.6937 14.1732 463.7139 14.1732 465.173 12.9036 466.1708 13.4933 467.0087 14.3591 467.993 15.511 469.0996 16.8645 470.276 18.3129 471.4628 19.7424 472.5954 21.0349 473.5983 22.0643 474.3508 22.6846 474.4488 22.7822 474.4488 22.7619 473.8738 23.0526 473.8794 22.7662 473.8237 21.8522 473.6393 20.6111 473.3701 19.2075 473.0691 17.7692 472.7899 16.4074 472.5852 15.2085 472.527 14.1431 473.6882 12.6028 475.451 13.171 473.4466 15.1754 474.392 15.2859 475.2262 14.4177 475.2225 14.9256 475.3447 15.972 475.556 17.2989 475.8001 18.7636 476.0213 20.2485 476.1639 21.6525 476.1628 22.9112 475.8413 24.0963 474.4488 24.9284 474.4488 24.9081 473.1879 24.4643 472.142 23.6131 471.0266 22.4698 469.8412 21.1172 468.6299 19.6583 467.4483 18.2036 466.3568 16.8684 465.4227 15.7749 464.7419 15.0675 464.7405 14.9851 465.8399 14.1732 465.8601 14.1732 466.0433 14.6374 466.6504 15.9347 467.5819 17.7029 468.7401 19.7892 470.0342 22.0651 471.376 24.4083 472.6786 26.6996 473.8566 28.8228 474.828 30.6701 475.5203 32.1657 475.8661 33.5171\"/>\n",
       "<polygon fill=\"rgba(0,0,0,1)\" points=\"511.7244 32.8832 511.9944 32.1567 512.0055 30.8938 511.6813 29.2476 511.0205 27.37 510.0539 25.3845 508.9034 23.3496 507.6305 21.3379 506.2449 19.4575 504.8392 17.7643 503.5057 16.3114 502.318 15.1754 504.3224 13.171 505.4928 14.5711 506.7571 16.2428 508.0691 18.1321 509.4012 20.1612 510.7261 22.2552 511.9337 24.3913 512.9654 26.5115 513.8233 28.5433 514.4183 30.4796 514.6293 32.3413 514.2598 34.1509\"/>\n",
       "<polygon fill=\"rgba(0,0,0,1)\" points=\"532.1916 34.9344 530.4492 33.4902 530.239 31.8831 530.285 29.9175 530.47 27.5866 530.735 25.0252 531.0254 22.3965 531.2868 19.8741 531.465 17.6414 531.5096 15.9063 531.4213 14.9984 532.1916 15.3924 532.1916 15.3743 532.3843 15.4232 531.5986 16.4803 530.5653 18.2457 529.4099 20.4809 528.2058 22.9928 527.0175 25.6 525.9068 28.1247 524.9402 30.3932 524.1835 32.2323 523.6861 33.4622 522.5197 32.4541 522.5197 32.4541 521.6463 32.774 522.0313 31.6463 522.6317 29.9513 523.4152 27.8353 524.3496 25.4444 525.4034 22.9235 526.5464 20.4166 527.7505 18.0643 528.9952 16.0015 530.2839 14.3494 531.7162 13.2225 531.7162 13.2225 533.2342 12.7944 534.7568 12.9204 536.1917 13.4699 537.5336 14.32 538.781 15.4019 539.9183 16.6604 540.925 18.0406 541.7754 19.4908 542.4406 20.9638 542.8867 22.422 543.0646 23.8451 543.0827 23.8451 542.7849 25.3978 542.0253 26.7483 540.984 27.942 539.7629 29.0322 538.4444 30.0438 537.1114 30.9845 535.8519 31.8519 534.7618 32.6339 533.9529 33.2972 533.5656 33.7276 533.6089 33.5171 530.7743 33.5171 531.2682 32.1294 532.1162 31.2336 533.1529 30.4326 534.3446 29.6232 535.6284 28.7829 536.926 27.9106 538.1508 27.0148 539.2114 26.1139 540.0158 25.2438 540.4916 24.4689 540.6444 23.8451 540.6624 23.8451 540.5714 22.9103 540.2546 21.7706 539.7281 20.526 539.0234 19.2584 538.177 18.0408 537.2288 16.9412 536.2236 16.0248 535.2111 15.3562 534.2553 14.9864 533.4162 14.9126 532.667 15.124 532.667 15.124 531.8321 15.8065 530.7591 17.1882 529.6131 19.0893 528.4628 21.3369 527.3531 23.7712 526.3215 26.239 525.4029 28.5895 524.6312 30.6737 524.0399 32.3431 523.662 33.4498 522.5197 34.5801 522.5197 34.5801 521.7129 32.6709 522.2147 31.4301 522.9768 29.5777 523.9285 27.2828 525.016 24.7208 526.1858 22.067 527.3797 19.4922 528.5423 17.1639 529.6272 15.2379 530.64 13.8243 532.1916 12.9721 532.1916 12.9541 533.7794 14.2492 534.0181 15.8119 534.0082 17.7683 533.8594 20.099 533.6303 22.6633 533.3757 25.2957 533.1502 27.8209 533.0082 30.0534 532.9997 31.7793 533.1165 32.6428 532.1916 32.0997\"/>\n",
       "<polygon fill=\"rgba(0,0,0,1)\" points=\"570.1011 15.4409 569.4536 15.2858 568.2432 15.4305 566.6298 15.9615 564.7668 16.8253 562.7607 17.9356 560.6954 19.2023 558.6451 20.5357 556.6783 21.8478 554.8597 23.0524 553.2466 24.0663 551.8755 24.814 551.8665 24.7959 550.8711 25.2698 550.1239 25.5782 549.5538 25.7541 548.8257 25.7618 548.1401 24.1564 548.5674 23.6804 548.9728 23.4216 549.4577 23.1903 550.0289 22.9887 550.6771 22.8411 551.3911 22.7822 551.3911 22.7619 552.1316 22.7874 552.8758 22.8886 553.6398 23.0281 554.4294 23.1772 555.2437 23.3109 556.0781 23.4058 556.9269 23.4402 557.7855 23.3943 558.6525 23.2494 559.5312 22.9852 560.4291 22.5775 561.6968 25.1128 560.4184 25.6134 559.1717 25.9124 557.9749 26.04 556.8425 26.0305 555.7838 25.9195 554.8051 25.7419 553.9117 25.5304 553.1099 25.3162 552.4097 25.1286 551.8278 24.9938 551.3911 24.9284 551.3911 24.9081 551.0151 24.94 550.6278 25.0286 550.2724 25.154 549.9944 25.286 549.8547 25.3724 550.0095 25.1689 549.3784 23.7089 549.0864 23.6802 549.3882 23.5836 550.0036 23.3288 550.9157 22.8944 550.9066 22.8763 552.0716 22.1743 553.5832 21.1536 555.347 19.9129 557.2897 18.5436 559.3451 17.1339 561.4509 15.77 563.5504 14.5368 565.5968 13.5185 567.5659 12.8033 569.4801 12.512 571.3688 12.9055\"/>\n",
       "<polygon fill=\"rgba(0,0,0,1)\" points=\"589.9344 32.0997 590.434 32.1767 591.1557 32.3055 592.2247 32.4794 593.5252 32.671 594.9397 32.8529 596.3483 32.998 597.6235 33.08 598.6146 33.0778 599.0667 33.0247 598.571 33.7184 598.7037 34.4196 598.7128 34.4106 598.0406 33.8373 596.8248 32.9684 595.2127 31.9216 593.3111 30.7685 591.2184 29.5734 589.031 28.3981 586.8454 27.3043 584.7598 26.3539 582.8781 25.6089 581.3201 25.1314 580.2625 24.9679 580.2625 24.9551 579.8143 25.0646 579.3306 25.5033 578.8565 26.343 578.5043 27.4826 578.3255 28.777 578.3253 30.0815 578.4986 31.2532 578.8102 32.138 579.1428 32.5919 579.3489 32.6864 579.7871 32.5663 579.7871 32.5663 580.9714 31.7712 582.7102 30.304 584.7989 28.3495 587.0995 26.0669 589.486 23.6081 591.8358 21.1225 594.0279 18.7583 595.9415 16.6634 597.4565 14.9854 598.4526 13.8716 599.6063 13.1102 599.6063 13.1102 600.0758 15.2889 599.0715 16.5306 597.5464 18.3841 595.6198 20.6756 593.4108 23.2314 591.0377 25.8787 588.6176 28.4454 586.2699 30.7681 584.0938 32.6807 582.1467 34.0297 580.2625 34.627 580.2625 34.6398 578.5205 33.883 577.6872 32.3115 577.3606 30.4003 577.3086 28.1794 577.4453 25.7368 577.7099 23.1965 578.0463 20.696 578.3993 18.379 578.7137 16.3947 578.9328 14.9049 578.9988 14.1732 578.986 14.1732 579.5257 14.9692 580.8547 14.8755 580.7499 15.0657 580.4742 15.6746 580.1877 16.544 579.9606 17.5833 579.8467 18.7143 579.8897 19.8628 580.122 20.9609 580.5681 21.9598 581.2647 22.8429 579.2603 24.8473 578.1401 23.3725 577.4599 21.7736 577.1473 20.1539 577.1176 18.5847 577.2943 17.1179 577.6123 15.7991 578.0161 14.6702 578.4671 13.7603 579.0162 13.0313 580.8176 12.7377 581.5389 14.1732 581.5261 14.1732 581.4104 15.251 581.1572 16.795 580.8176 18.7746 580.444 21.0575 580.09 23.4983 579.8096 25.9465 579.6557 28.2454 579.6763 30.2246 579.8948 31.6779 580.1878 32.3409 580.2625 32.3943 580.2625 32.4071 581.096 32.1033 582.7459 30.9817 584.8062 29.2028 587.0946 26.9621 589.4705 24.4421 591.8135 21.8283 594.0008 19.2975 595.911 17.0256 597.4234 15.1876 598.4174 13.9587 599.6063 15.2362 599.6063 15.2362 600.0406 15.2851 599.0384 16.4058 597.5159 18.0922 595.5927 20.1974 593.3885 22.5747 591.0223 25.0777 588.6127 27.5602 586.2772 29.8774 584.1295 31.8869 582.2713 33.4535 580.7379 34.4678 580.7379 34.4678 579.1777 34.8055 577.7851 34.2279 576.9187 33.1085 576.431 31.748 576.2046 30.231 576.2044 28.6325 576.4253 27.0383 576.8725 25.5329 577.5973 24.1999 578.7123 23.1671 580.2625 22.7352 580.2625 22.7224 581.8317 22.9186 583.6346 23.4403 585.6623 24.214 587.8495 25.1819 590.1147 26.2863 592.3709 27.4691 594.5292 28.6719 596.5007 29.837 598.1986 30.9084 599.5443 31.838 600.4998 32.6235 600.5089 32.6145 601.0994 34.2241 599.9316 35.481 598.8104 35.7003 597.5561 35.7345 596.1427 35.6711 594.6482 35.5437 593.1742 35.3805 591.8296 35.2087 590.726 35.0556 589.9761 34.9482 589.9344 34.9344\"/>\n",
       "<polygon fill=\"rgba(0,0,0,1)\" points=\"629.1115 32.2494 630.125 32.8223 630.8539 33.3588 631.4135 34.0226 631.5156 35.4494 630.415 36.3349 629.6321 36.34 628.9887 36.1432 628.374 35.7906 627.8034 35.2486 627.3649 34.4786 627.2012 33.5171 627.2141 33.5171 627.2269 32.9285 627.2397 32.2654 627.2525 31.5333 627.2653 30.7376 627.2781 29.8837 627.2909 28.9772 627.3037 28.0235 627.3165 27.0279 627.3293 25.9961 627.3421 24.9333 627.3549 23.8451 627.3677 23.8451 627.3805 22.7115 627.3934 21.5307 627.4062 20.3354 627.4147 19.1582 627.4147 18.0318 627.4147 16.9891 627.4147 16.0626 627.4147 15.285 627.4147 14.6892 627.4147 14.3077 628.4777 13.1102 628.4777 13.1102 629.5333 13.9767 629.661 14.3892 629.8345 15.0215 630.0263 15.8422 630.2085 16.8206 630.3529 17.926 630.4304 19.129 630.4107 20.4 630.2612 21.7101 629.9465 23.0286 629.4285 24.3205 629.4285 24.3205 628.8077 25.4682 628.1106 26.5855 627.3427 27.6678 626.5096 28.7102 625.6164 29.7079 624.6685 30.6558 623.6708 31.549 622.6336 32.3889 621.558 33.1677 620.446 33.8766 619.3022 34.5098 619.3079 34.5213 618.1475 35.0933 616.9313 35.6406 615.6876 36.1362 614.4421 36.5531 613.2159 36.8626 612.0211 37.0308 610.8578 37.0071 609.7282 36.6987 608.7258 35.9761 608.0784 34.8564 607.8702 33.5171 607.8574 33.5171 607.9982 31.9824 608.3926 30.1843 608.9992 28.1499 609.7864 25.9492 610.7237 23.6645 611.781 21.3817 612.9296 19.187 614.1441 17.1649 615.4071 15.3954 616.7246 13.9504 618.1719 12.9055 619.4396 15.4409 618.6198 16.0238 617.5756 17.1403 616.4479 18.6808 615.3079 20.5318 614.2039 22.5881 613.1757 24.7488 612.26 26.9149 611.4921 28.9871 610.907 30.8621 610.5384 32.4248 610.4103 33.5171 610.3975 33.5171 610.4582 34.0852 610.5738 34.3281 610.7631 34.4775 611.1886 34.605 611.8783 34.6358 612.769 34.5315 613.7954 34.296 614.9044 33.9499 616.0514 33.5191 617.1968 33.0308 618.3037 32.5128 618.3094 32.5243 619.3419 31.9803 620.3554 31.363 621.3436 30.6776 622.2974 29.9262 623.2072 29.1117 624.0723 28.2466 624.8868 27.3367 625.6451 26.3881 626.3414 25.4066 626.9705 24.3984 627.5269 23.3698 627.5269 23.3698 627.9173 22.3945 628.1657 21.3513 628.2887 20.2707 628.3053 19.1873 628.2375 18.1376 628.1094 17.1576 627.9464 16.2829 627.7749 15.5486 627.6214 14.9891 627.5129 14.6386 628.4777 15.2362 628.4777 15.2362 629.5407 14.3077 629.5407 14.6892 629.5407 15.285 629.5407 16.0626 629.5407 16.9891 629.5407 18.0318 629.5407 19.1582 629.5492 20.3354 629.562 21.5307 629.5748 22.7115 629.5876 23.8451 629.6004 23.8451 629.6133 24.9333 629.6261 25.9961 629.6389 27.0279 629.6517 28.0235 629.6645 28.9772 629.6773 29.8837 629.6901 30.7376 629.7029 31.5333 629.7157 32.2654 629.7285 32.9285 629.7413 33.5171 629.7541 33.5171 629.7722 33.5546 629.806 33.584 629.8894 33.6415 630.0013 33.6885 630.0483 33.6916 629.8104 33.6967 629.0004 34.3824 629.0298 35.4095 629.0444 35.4738 628.647 35.211 627.8438 34.7848\"/>\n",
       "<polygon fill=\"rgba(0,0,0,1)\" points=\"647.6772 34.9344 645.9348 33.4902 645.7246 31.8831 645.7706 29.9175 645.9555 27.5866 646.2206 25.0252 646.511 22.3965 646.7724 19.8741 646.9506 17.6414 646.9951 15.9063 646.9068 14.9984 647.6772 15.3924 647.6772 15.3743 647.8699 15.4232 647.0842 16.4803 646.0509 18.2457 644.8954 20.4809 643.6913 22.9928 642.5031 25.6 641.3924 28.1247 640.4257 30.3932 639.6691 32.2323 639.1717 33.4622 638.0052 32.4541 638.0052 32.4541 637.1318 32.774 637.5169 31.6463 638.1173 29.9513 638.9007 27.8353 639.8351 25.4444 640.889 22.9235 642.0319 20.4166 643.2361 18.0643 644.4808 16.0015 645.7695 14.3494 647.2018 13.2225 647.2018 13.2225 648.7197 12.7944 650.2424 12.9204 651.6772 13.4699 653.0192 14.32 654.2666 15.4019 655.4039 16.6604 656.4105 18.0406 657.2609 19.4908 657.9262 20.9638 658.3723 22.422 658.5502 23.8451 658.5682 23.8451 658.2705 25.3978 657.5109 26.7483 656.4696 27.942 655.2485 29.0322 653.93 30.0438 652.597 30.9845 651.3375 31.8519 650.2474 32.6339 649.4384 33.2972 649.0511 33.7276 649.0945 33.5171 646.2598 33.5171 646.7537 32.1294 647.6018 31.2336 648.6385 30.4326 649.8302 29.6232 651.114 28.7829 652.4115 27.9106 653.6364 27.0148 654.697 26.1139 655.5014 25.2438 655.9772 24.4689 656.1299 23.8451 656.148 23.8451 656.057 22.9103 655.7401 21.7706 655.2136 20.526 654.509 19.2584 653.6626 18.0408 652.7144 16.9412 651.7091 16.0248 650.6967 15.3562 649.7408 14.9864 648.9018 14.9126 648.1525 15.124 648.1525 15.124 647.3176 15.8065 646.2447 17.1882 645.0987 19.0893 643.9484 21.3369 642.8387 23.7712 641.807 26.239 640.8884 28.5895 640.1168 30.6737 639.5255 32.3431 639.1475 33.4498 638.0052 34.5801 638.0052 34.5801 637.1985 32.6709 637.7003 31.4301 638.4624 29.5777 639.4141 27.2828 640.5016 24.7208 641.6713 22.067 642.8653 19.4922 644.0278 17.1639 645.1128 15.2379 646.1256 13.8243 647.6772 12.9721 647.6772 12.9541 649.265 14.2492 649.5037 15.8119 649.4938 17.7683 649.345 20.099 649.1158 22.6633 648.8612 25.2957 648.6358 27.8209 648.4937 30.0534 648.4852 31.7793 648.602 32.6428 647.6772 32.0997\"/>\n",
       "<polygon fill=\"rgba(0,0,0,1)\" points=\"684.9528 32.8832 685.2227 32.1567 685.2339 30.8938 684.9097 29.2476 684.2488 27.37 683.2823 25.3845 682.1318 23.3496 680.8589 21.3379 679.4733 19.4575 678.0675 17.7643 676.734 16.3114 675.5464 15.1754 677.5508 13.171 678.7211 14.5711 679.9854 16.2428 681.2974 18.1321 682.6295 20.1612 683.9545 22.2552 685.162 24.3913 686.1938 26.5115 687.0517 28.5433 687.6467 30.4796 687.8577 32.3413 687.4882 34.1509\"/>\n",
       "<polygon fill=\"rgba(0,0,0,1)\" points=\"715.0919 12.7559 716.6006 13.0629 717.7787 13.9413 718.4557 15.1325 718.7382 16.417 718.7596 17.7398 718.5924 19.0794 718.2782 20.4049 717.8464 21.676 717.319 22.8492 716.7077 23.8837 715.9944 24.7477 715.9854 24.7387 715.0257 25.4349 713.9258 25.9116 712.721 26.2399 711.4467 26.4469 710.146 26.5425 708.8655 26.5296 707.6504 26.4059 706.5381 26.1602 705.5484 25.7519 704.7034 25.0419 704.2972 23.8451 704.31 23.8451 704.5793 22.7173 705.1548 21.5705 705.9688 20.2835 706.9709 18.8975 708.1056 17.4814 709.3266 16.1194 710.5836 14.8912 711.8376 13.874 713.0852 13.1439 714.4305 12.8361 715.8435 13.4216 715.8435 13.4216 716.5658 14.778 716.8836 16.4732 717.0263 18.5412 717.0449 20.8907 716.9714 23.3936 716.8339 25.9103 716.6601 28.2976 716.4773 30.4103 716.3129 32.1026 716.1939 33.228 715.0919 32.4541 715.0919 32.4541 714.0289 33.1574 714.0289 32.1582 714.0289 30.6395 714.0289 28.7211 714.0289 26.5229 714.0289 24.1649 714.0289 21.7669 714.0203 19.4488 714.0075 17.3306 713.9947 15.5321 713.9819 14.1732 713.9691 14.1732 714.0779 13.0025 714.483 12.0362 715.3051 11.3549 716.3116 11.2365 717.1255 11.5594 717.7162 12.1323 718.0665 12.9469 717.9694 13.9843 717.2808 14.8552 716.2892 15.2994 715.0919 15.4369 715.0919 15.4497 713.6322 15.3633 711.8941 15.1322 709.9205 14.8151 707.7902 14.4658 705.593 14.1379 703.4256 13.8849 701.3918 13.7583 699.6079 13.8037 698.2124 14.0434 697.3546 14.4243 697.0157 14.8071 694.4803 13.5394 695.7691 12.1055 697.4729 11.36 699.3873 11.0547 701.4766 11.0275 703.6938 11.1916 705.9699 11.4836 708.2236 11.846 710.366 12.2234 712.3019 12.5602 713.9246 12.8015 715.0919 12.8968 715.0919 12.9096 715.7112 12.8654 715.8459 12.8373 715.7023 13.0542 715.6779 13.3649 715.7375 13.4891 715.7832 13.517 715.9068 13.5493 716.1866 13.5035 716.3547 13.3672 716.2875 13.5273 716.2146 14.1732 716.2018 14.1732 716.189 15.5321 716.1762 17.3306 716.1634 19.4488 716.1549 21.7669 716.1549 24.1649 716.1549 26.5229 716.1549 28.7211 716.1549 30.6395 716.1549 32.1582 716.1549 33.1574 715.0919 34.5801 715.0919 34.5801 714.0806 32.9959 714.1979 31.8868 714.3604 30.2146 714.541 28.1272 714.7123 25.773 714.8474 23.3012 714.9191 20.8627 714.9015 18.6125 714.7716 16.7165 714.5262 15.3779 714.3402 14.9249 714.3402 14.9249 714.3943 14.9617 713.9412 15.0899 713.0705 15.606 712.0064 16.4709 710.8655 17.5862 709.7285 18.8547 708.665 20.1818 707.7487 21.4772 707.044 22.6354 706.6203 23.5232 706.5299 23.8451 706.5427 23.8451 706.4962 23.6476 706.6504 23.7368 707.1794 23.9281 707.9855 24.082 708.9686 24.1582 710.0461 24.1453 711.1434 24.0411 712.1872 23.8484 713.1005 23.5772 713.7992 23.2545 714.1983 22.9516 714.1893 22.9426 714.566 22.4478 714.9902 21.6837 715.3894 20.7387 715.7205 19.6917 715.9513 18.6192 716.0566 17.6009 716.0235 16.7255 715.87 16.0916 715.6751 15.764 715.4906 15.6433 715.0919 15.5906\"/>\n",
       "<polygon fill=\"rgba(0,0,0,1)\" points=\"734.2913 32.0997 734.791 32.1767 735.5126 32.3055 736.5817 32.4794 737.8822 32.671 739.2967 32.8529 740.7052 32.998 741.9804 33.08 742.9716 33.0778 743.4236 33.0247 742.9279 33.7184 743.0607 34.4196 743.0697 34.4106 742.3975 33.8373 741.1818 32.9684 739.5697 31.9216 737.668 30.7685 735.5753 29.5734 733.388 28.3981 731.2023 27.3043 729.1168 26.3539 727.235 25.6089 725.677 25.1314 724.6194 24.9679 724.6194 24.9551 724.1713 25.0646 723.6876 25.5033 723.2134 26.343 722.8613 27.4826 722.6825 28.777 722.6823 30.0815 722.8556 31.2532 723.1672 32.138 723.4998 32.5919 723.7059 32.6864 724.144 32.5663 724.144 32.5663 725.3283 31.7712 727.0671 30.304 729.1559 28.3495 731.4565 26.0669 733.8429 23.6081 736.1928 21.1225 738.3848 18.7583 740.2985 16.6634 741.8135 14.9854 742.8096 13.8716 743.9633 13.1102 743.9633 13.1102 744.4328 15.2889 743.4285 16.5306 741.9033 18.3841 739.9767 20.6756 737.7677 23.2314 735.3947 25.8787 732.9746 28.4454 730.6269 30.7681 728.4507 32.6807 726.5037 34.0297 724.6194 34.627 724.6194 34.6398 722.8774 33.883 722.0441 32.3115 721.7176 30.4003 721.6656 28.1794 721.8023 25.7368 722.0669 23.1965 722.4032 20.696 722.7563 18.379 723.0707 16.3947 723.2898 14.9049 723.3558 14.1732 723.343 14.1732 723.8826 14.9692 725.2117 14.8755 725.1068 15.0657 724.8311 15.6746 724.5446 16.544 724.3176 17.5833 724.2036 18.7143 724.2466 19.8628 724.479 20.9609 724.9251 21.9598 725.6216 22.8429 723.6172 24.8473 722.4971 23.3725 721.8169 21.7736 721.5042 20.1539 721.4745 18.5847 721.6513 17.1179 721.9692 15.7991 722.373 14.6702 722.824 13.7603 723.3732 13.0313 725.1746 12.7377 725.8959 14.1732 725.8831 14.1732 725.7674 15.251 725.5142 16.795 725.1746 18.7746 724.8009 21.0575 724.447 23.4983 724.1666 25.9465 724.0126 28.2454 724.0333 30.2246 724.2517 31.6779 724.5448 32.3409 724.6194 32.3943 724.6194 32.4071 725.4529 32.1033 727.1028 30.9817 729.1632 29.2028 731.4516 26.9621 733.8275 24.4421 736.1705 21.8283 738.3578 19.2975 740.268 17.0256 741.7803 15.1876 742.7743 13.9587 743.9633 15.2362 743.9633 15.2362 744.3975 15.2851 743.3953 16.4058 741.8728 18.0922 739.9497 20.1974 737.7454 22.5747 735.3792 25.0777 732.9697 27.5602 730.6342 29.8774 728.4864 31.8869 726.6283 33.4535 725.0948 34.4678 725.0948 34.4678 723.5346 34.8055 722.1421 34.2279 721.2756 33.1085 720.788 31.748 720.5616 30.231 720.5614 28.6325 720.7822 27.0383 721.2294 25.5329 721.9543 24.1999 723.0692 23.1671 724.6194 22.7352 724.6194 22.7224 726.1887 22.9186 727.9915 23.4403 730.0193 24.214 732.2065 25.1819 734.4717 26.2863 736.7279 27.4691 738.8862 28.6719 740.8577 29.837 742.5555 30.9084 743.9013 31.838 744.8568 32.6235 744.8658 32.6145 745.4564 34.2241 744.2885 35.481 743.1673 35.7003 741.9131 35.7345 740.4996 35.6711 739.0051 35.5437 737.5312 35.3805 736.1866 35.2087 735.0829 35.0556 734.3331 34.9482 734.2913 34.9344\"/>\n",
       "<polygon fill=\"rgba(0,0,0,1)\" points=\"764.5801 33.5171 764.1763 34.7514 761.7645 34.3562 761.525 33.652 761.336 32.7872 761.1679 31.7087 761.041 30.4535 760.9817 29.0715 761.0193 27.6144 761.1862 26.1337 761.5207 24.6786 762.0723 23.2999 762.0884 23.308 762.8923 22.0516 763.8941 20.8946 765.0301 19.8126 766.2434 18.794 767.4771 17.8355 768.6725 16.9392 769.7679 16.1111 770.6937 15.359 771.3712 14.7071 771.7265 14.2439 771.7717 14.1732 771.7717 14.1732 771.7646 14.2091 771.5045 13.951 770.9273 13.6014 770.1135 13.2784 769.1474 13.0391 768.1063 12.9187 767.0646 12.942 766.0949 13.1237 765.2609 13.4656 764.6001 13.9648 764.1135 14.6486 764.1135 14.6486 763.8014 15.7136 763.653 17.3623 763.6796 19.3993 763.8519 21.6708 764.1127 24.0435 764.4025 26.3942 764.6674 28.6057 764.8527 30.5707 764.8988 32.2119 764.6714 33.5931 763.1627 34.7182 763.1627 34.7362 761.616 33.9942 760.5531 32.7107 759.4256 30.9547 758.2232 28.8136 756.9903 26.4158 755.7813 23.9004 754.6535 21.4094 753.6645 19.0847 752.8708 17.0633 752.3243 15.4591 752.0735 14.1732 754.9081 14.1732 755.0171 14.6968 755.4697 16.1264 756.1948 18.069 757.1241 20.344 758.1944 22.7944 759.3435 25.2675 760.5086 27.6112 761.6243 29.6703 762.615 31.2787 763.3505 32.2297 763.1627 32.2979 763.1627 32.3159 762.4715 32.7217 762.5711 32.1045 762.5627 30.7083 762.4211 28.8364 762.1954 26.6516 761.9402 24.2863 761.7105 21.863 761.5559 19.4984 761.528 17.2989 761.7066 15.3506 762.212 13.6978 762.212 13.6978 763.0842 12.4742 764.2219 11.6108 765.5062 11.0808 766.8545 10.8264 768.2108 10.7953 769.5277 10.9474 770.7598 11.253 771.8644 11.6931 772.8059 12.2699 773.545 13.0473 773.8976 14.1732 773.8976 14.1732 773.5831 15.2798 772.9393 16.1427 772.098 16.9551 771.1054 17.7944 770.0027 18.6739 768.84 19.5906 767.6757 20.5397 766.571 21.5121 765.5888 22.4938 764.792 23.4623 764.237 24.3823 764.2532 24.3904 763.8965 25.3697 763.6678 26.5125 763.5621 27.7494 763.5634 29.0102 763.6495 30.2259 763.7951 31.3288 763.9721 32.2486 764.1465 32.9025 764.2339 33.1176 762.0583 32.9222 761.7454 33.5171\"/>\n",
       "<polygon fill=\"rgba(0,0,0,1)\" points=\"790.6168 33.5171 790.5121 33.1498 789.9691 31.8478 789.0947 30.0581 787.991 27.9449 786.7503 25.64 785.4616 23.2672 784.2123 20.9469 783.0888 18.7967 782.1746 16.9279 781.5463 15.4276 781.279 14.1732 781.2992 14.1732 782.7583 12.9036 783.7561 13.4933 784.594 14.3591 785.5783 15.511 786.6849 16.8645 787.8613 18.3129 789.0481 19.7424 790.1807 21.0349 791.1836 22.0643 791.9361 22.6846 792.0341 22.7822 792.0341 22.7619 791.4591 23.0526 791.4647 22.7662 791.409 21.8522 791.2246 20.6111 790.9554 19.2075 790.6544 17.7692 790.3752 16.4074 790.1705 15.2085 790.1123 14.1431 791.2735 12.6028 793.0363 13.171 791.0319 15.1754 791.9773 15.2859 792.8115 14.4177 792.8078 14.9256 792.93 15.972 793.1413 17.2989 793.3854 18.7636 793.6066 20.2485 793.7492 21.6525 793.7481 22.9112 793.4266 24.0963 792.0341 24.9284 792.0341 24.9081 790.7732 24.4643 789.7273 23.6131 788.6119 22.4698 787.4265 21.1172 786.2152 19.6583 785.0336 18.2036 783.9421 16.8684 783.008 15.7749 782.3272 15.0675 782.3258 14.9851 783.4252 14.1732 783.4454 14.1732 783.6286 14.6374 784.2357 15.9347 785.1672 17.7029 786.3254 19.7892 787.6195 22.0651 788.9613 24.4083 790.2639 26.6996 791.4419 28.8228 792.4133 30.6701 793.1056 32.1657 793.4514 33.5171\"/>\n",
       "<polygon fill=\"rgba(0,0,0,1)\" points=\"830.5774 12.7559 830.7138 15.6247 829.7222 15.9927 828.2131 16.5741 826.3068 17.336 824.1244 18.2451 821.7871 19.2678 819.417 20.3701 817.138 21.5162 815.0769 22.6677 813.3677 23.7774 812.1585 24.7701 812.1515 24.763 811.4387 25.672 810.9846 26.6963 810.7508 27.8158 810.7102 28.9811 810.8284 30.1251 811.0608 31.1746 811.3536 32.0532 811.6375 32.6723 811.7599 32.8809 810.5421 32.7994 810.0448 33.5171 810.0547 33.5171 809.9868 32.8314 809.7656 31.4626 809.4483 29.642 809.092 27.5056 808.7521 25.1757 808.4841 22.7696 808.3444 20.3997 808.3931 18.1697 808.7054 16.1661 809.4129 14.4555 810.7552 13.2165 810.7582 13.2225 812.4915 12.836 814.3293 13.0876 816.2692 13.761 818.3089 14.7424 820.4129 15.9432 822.5294 17.278 824.599 18.6608 826.5584 20.0046 828.3401 21.2208 829.8702 22.2173 831.0528 22.8944 831.0528 22.8944 831.8741 23.2477 832.3251 23.3604 832.3208 23.3789 831.9363 23.7121 831.8556 24.2101 831.9191 24.3625 831.9095 24.3574 831.8508 24.3327 831.7661 24.3284 831.6106 24.3807 831.3291 24.5968 831.3291 24.5968 830.6056 25.2724 829.6886 26.069 828.6242 26.9692 827.4677 27.9444 826.2781 28.9627 825.1159 29.9906 824.0434 30.9921 823.1255 31.9272 822.4322 32.7439 822.0397 33.3511 821.9685 33.5171 821.9751 33.5171 821.8805 33.1985 822.2954 33.3965 823.2182 33.6389 824.4387 33.8128 825.8032 33.8972 827.1768 33.8873 828.4256 33.7848 829.3981 33.603 829.8721 33.4236 829.6523 33.8301 829.7438 34.3507 829.7368 34.3577 829.1546 33.961 827.9679 33.3589 826.3538 32.6559 824.4316 31.8769 822.3033 31.0327 820.0647 30.13 817.8078 29.1735 815.622 28.1658 813.5929 27.1057 811.8001 25.9828 810.3157 24.763 810.3087 24.7701 809.2281 23.5513 808.4246 22.3148 807.8876 21.0676 807.6066 19.8288 807.5624 18.6271 807.7228 17.491 808.0477 16.4394 808.496 15.4807 809.0307 14.6169 809.6189 13.8472 810.2314 13.171 812.2358 15.1754 811.7583 15.6765 811.311 16.2329 810.9191 16.8333 810.6045 17.466 810.3844 18.1221 810.2723 18.799 810.2826 19.5049 810.4376 20.2571 810.7726 21.0736 811.3316 21.9626 812.1585 22.9202 812.1515 22.9272 813.294 23.8838 814.862 24.8865 816.7424 25.89 818.8294 26.8734 821.0233 27.8245 823.2282 28.7348 825.3509 29.5982 827.3019 30.4106 828.9978 31.1719 830.3725 31.8959 831.4181 32.6764 831.411 32.6835 831.9603 34.2031 831.0684 35.4091 829.9692 35.8291 828.6963 36.047 827.2564 36.1443 825.727 36.1344 824.203 36.019 822.7784 35.7933 821.5285 35.4361 820.4719 34.8348 819.8359 33.5171 819.8425 33.5171 820.131 32.415 820.7377 31.4599 821.5631 30.4854 822.5636 29.4657 823.6893 28.4144 824.8851 27.3567 826.0935 26.3223 827.2551 25.3427 828.3089 24.4516 829.1904 23.6859 829.8258 23.0935 829.8258 23.0935 830.6343 22.4921 831.5143 22.2174 832.3561 22.2676 833.0604 22.5699 833.5957 23.0553 833.9318 23.7527 833.7966 24.7412 832.976 25.4014 832.0998 25.4744 831.1883 25.2601 830.102 24.7959 830.102 24.7959 828.7486 24.0233 827.154 22.9852 825.3533 21.7561 823.4032 20.4185 821.3672 19.0582 819.3126 17.7624 817.311 16.6197 815.4412 15.7191 813.7986 15.1462 812.5118 14.9619 811.709 15.124 811.7119 15.1299 811.2377 15.6095 810.8188 16.6966 810.5861 18.33 810.5622 20.3364 810.7131 22.5627 810.9901 24.8726 811.3406 27.1389 811.7109 29.2389 812.0476 31.0553 812.2988 32.4842 812.4125 33.5171 812.4224 33.5171 811.7434 34.8742 810.0533 34.5929 809.5217 33.8822 809.079 32.9826 808.6814 31.8629 808.3688 30.5544 808.1963 29.1005 808.2284 27.548 808.5396 25.9498 809.2118 24.3763 810.3157 22.9272 810.3087 22.9202 811.8173 21.6457 813.705 20.3937 815.8804 19.1545 818.2375 17.9462 820.6634 16.7958 823.0421 15.733 825.256 14.7891 827.1866 13.9959 828.7149 13.3856 829.7217 12.9906 830.5774 15.5906\"/>\n",
       "<polygon fill=\"rgba(0,0,0,1)\" points=\"860.0827 32.2494 861.0962 32.8223 861.8251 33.3588 862.3847 34.0226 862.4868 35.4494 861.3861 36.3349 860.6032 36.34 859.9599 36.1432 859.3451 35.7906 858.7745 35.2486 858.336 34.4786 858.1724 33.5171 858.1852 33.5171 858.198 32.9285 858.2108 32.2654 858.2236 31.5333 858.2364 30.7376 858.2492 29.8837 858.262 28.9772 858.2748 28.0235 858.2876 27.0279 858.3004 25.9961 858.3133 24.9333 858.3261 23.8451 858.3389 23.8451 858.3517 22.7115 858.3645 21.5307 858.3773 20.3354 858.3858 19.1582 858.3858 18.0318 858.3858 16.9891 858.3858 16.0626 858.3858 15.285 858.3858 14.6892 858.3858 14.3077 859.4488 13.1102 859.4488 13.1102 860.5044 13.9767 860.6321 14.3892 860.8056 15.0215 860.9974 15.8422 861.1796 16.8206 861.324 17.926 861.4016 19.129 861.3818 20.4 861.2323 21.7101 860.9176 23.0286 860.3996 24.3205 860.3996 24.3205 859.7788 25.4682 859.0817 26.5855 858.3139 27.6678 857.4807 28.7102 856.5876 29.7079 855.6396 30.6558 854.642 31.549 853.6047 32.3889 852.5291 33.1677 851.4172 33.8766 850.2733 34.5098 850.279 34.5213 849.1187 35.0933 847.9024 35.6406 846.6587 36.1362 845.4132 36.5531 844.187 36.8626 842.9922 37.0308 841.8289 37.0071 840.6994 36.6987 839.6969 35.9761 839.0495 34.8564 838.8413 33.5171 838.8285 33.5171 838.9693 31.9824 839.3637 30.1843 839.9703 28.1499 840.7576 25.9492 841.6948 23.6645 842.7522 21.3817 843.9008 19.187 845.1152 17.1649 846.3782 15.3954 847.6957 13.9504 849.1431 12.9055 850.4107 15.4409 849.5909 16.0238 848.5467 17.1403 847.419 18.6808 846.2791 20.5318 845.175 22.5881 844.1468 24.7488 843.2311 26.9149 842.4632 28.9871 841.8781 30.8621 841.5095 32.4248 841.3814 33.5171 841.3686 33.5171 841.4293 34.0852 841.5449 34.3281 841.7342 34.4775 842.1597 34.605 842.8494 34.6358 843.7402 34.5315 844.7666 34.296 845.8755 33.9499 847.0225 33.5191 848.1679 33.0308 849.2748 32.5128 849.2805 32.5243 850.313 31.9803 851.3265 31.363 852.3147 30.6776 853.2685 29.9262 854.1783 29.1117 855.0434 28.2466 855.8579 27.3367 856.6162 26.3881 857.3126 25.4066 857.9416 24.3984 858.498 23.3698 858.498 23.3698 858.8884 22.3945 859.1368 21.3513 859.2598 20.2707 859.2764 19.1873 859.2086 18.1376 859.0805 17.1576 858.9176 16.2829 858.746 15.5486 858.5925 14.9891 858.4841 14.6386 859.4488 15.2362 859.4488 15.2362 860.5118 14.3077 860.5118 14.6892 860.5118 15.285 860.5118 16.0626 860.5118 16.9891 860.5118 18.0318 860.5118 19.1582 860.5203 20.3354 860.5332 21.5307 860.546 22.7115 860.5588 23.8451 860.5716 23.8451 860.5844 24.9333 860.5972 25.9961 860.61 27.0279 860.6228 28.0235 860.6356 28.9772 860.6484 29.8837 860.6612 30.7376 860.674 31.5333 860.6868 32.2654 860.6996 32.9285 860.7125 33.5171 860.7253 33.5171 860.7433 33.5546 860.7772 33.584 860.8605 33.6415 860.9724 33.6885 861.0194 33.6916 860.7815 33.6967 859.9715 34.3824 860.001 35.4095 860.0156 35.4738 859.6181 35.211 858.815 34.7848\"/>\n",
       "<polygon fill=\"rgba(0,0,0,1)\" points=\"887.0525 32.8832 887.3225 32.1567 887.3336 30.8938 887.0094 29.2476 886.3486 27.37 885.382 25.3845 884.2315 23.3496 882.9586 21.3379 881.573 19.4575 880.1673 17.7643 878.8338 16.3114 877.6461 15.1754 879.6505 13.171 880.8208 14.5711 882.0852 16.2428 883.3972 18.1321 884.7293 20.1612 886.0542 22.2552 887.2617 24.3913 888.2935 26.5115 889.1514 28.5433 889.7464 30.4796 889.9574 32.3413 889.5879 34.1509\"/>\n",
       "<polygon fill=\"rgba(0,0,0,1)\" points=\"908.937 33.5171 908.5333 34.7514 906.1215 34.3562 905.8819 33.652 905.693 32.7872 905.5249 31.7087 905.3979 30.4535 905.3387 29.0715 905.3763 27.6144 905.5431 26.1337 905.8776 24.6786 906.4293 23.2999 906.4454 23.308 907.2493 22.0516 908.251 20.8946 909.387 19.8126 910.6004 18.794 911.8341 17.8355 913.0294 16.9392 914.1248 16.1111 915.0506 15.359 915.7281 14.7071 916.0835 14.2439 916.1286 14.1732 916.1286 14.1732 916.1215 14.2091 915.8615 13.951 915.2842 13.6014 914.4705 13.2784 913.5044 13.0391 912.4632 12.9187 911.4216 12.942 910.4518 13.1237 909.6179 13.4656 908.9571 13.9648 908.4705 14.6486 908.4705 14.6486 908.1583 15.7136 908.01 17.3623 908.0365 19.3993 908.2089 21.6708 908.4697 24.0435 908.7595 26.3942 909.0243 28.6057 909.2097 30.5707 909.2558 32.2119 909.0284 33.5931 907.5197 34.7182 907.5197 34.7362 905.973 33.9942 904.9101 32.7107 903.7825 30.9547 902.5802 28.8136 901.3473 26.4158 900.1383 23.9004 899.0105 21.4094 898.0214 19.0847 897.2278 17.0633 896.6812 15.4591 896.4304 14.1732 899.2651 14.1732 899.374 14.6968 899.8266 16.1264 900.5517 18.069 901.4811 20.344 902.5514 22.7944 903.7005 25.2675 904.8656 27.6112 905.9812 29.6703 906.9719 31.2787 907.7075 32.2297 907.5197 32.2979 907.5197 32.3159 906.8285 32.7217 906.9281 32.1045 906.9197 30.7083 906.778 28.8364 906.5524 26.6516 906.2972 24.2863 906.0675 21.863 905.9128 19.4984 905.8849 17.2989 906.0636 15.3506 906.5689 13.6978 906.5689 13.6978 907.4411 12.4742 908.5789 11.6108 909.8632 11.0808 911.2115 10.8264 912.5678 10.7953 913.8847 10.9474 915.1167 11.253 916.2214 11.6931 917.1629 12.2699 917.902 13.0473 918.2546 14.1732 918.2546 14.1732 917.94 15.2798 917.2962 16.1427 916.455 16.9551 915.4624 17.7944 914.3596 18.6739 913.1969 19.5906 912.0327 20.5397 910.9279 21.5121 909.9457 22.4938 909.149 23.4623 908.594 24.3823 908.6101 24.3904 908.2534 25.3697 908.0247 26.5125 907.9191 27.7494 907.9204 29.0102 908.0065 30.2259 908.152 31.3288 908.3291 32.2486 908.5034 32.9025 908.5909 33.1176 906.4152 32.9222 906.1024 33.5171\"/>\n",
       "<polygon fill=\"rgba(0,0,0,1)\" points=\"934.9738 33.5171 934.8691 33.1498 934.3261 31.8478 933.4517 30.0581 932.348 27.9449 931.1072 25.64 929.8185 23.2672 928.5693 20.9469 927.4457 18.7967 926.5315 16.9279 925.9033 15.4276 925.6359 14.1732 925.6562 14.1732 927.1153 12.9036 928.113 13.4933 928.9509 14.3591 929.9353 15.511 931.0419 16.8645 932.2183 18.3129 933.4051 19.7424 934.5377 21.0349 935.5406 22.0643 936.2931 22.6846 936.3911 22.7822 936.3911 22.7619 935.816 23.0526 935.8216 22.7662 935.766 21.8522 935.5816 20.6111 935.3123 19.2075 935.0114 17.7692 934.7322 16.4074 934.5274 15.2085 934.4692 14.1431 935.6304 12.6028 937.3933 13.171 935.3889 15.1754 936.3342 15.2859 937.1684 14.4177 937.1647 14.9256 937.287 15.972 937.4983 17.2989 937.7423 18.7636 937.9636 20.2485 938.1062 21.6525 938.105 22.9112 937.7836 24.0963 936.3911 24.9284 936.3911 24.9081 935.1302 24.4643 934.0842 23.6131 932.9689 22.4698 931.7834 21.1172 930.5722 19.6583 929.3906 18.2036 928.299 16.8684 927.365 15.7749 926.6842 15.0675 926.6827 14.9851 927.7822 14.1732 927.8024 14.1732 927.9856 14.6374 928.5927 15.9347 929.5242 17.7029 930.6824 19.7892 931.9765 22.0651 933.3183 24.4083 934.6209 26.6996 935.7989 28.8228 936.7702 30.6701 937.4625 32.1657 937.8084 33.5171\"/>\n",
       "<polygon fill=\"rgba(0,0,0,1)\" points=\"973.6667 32.8832 973.9367 32.1567 973.9478 30.8938 973.6236 29.2476 972.9627 27.37 971.9962 25.3845 970.8457 23.3496 969.5728 21.3379 968.1872 19.4575 966.7815 17.7643 965.448 16.3114 964.2603 15.1754 966.2647 13.171 967.435 14.5711 968.6993 16.2428 970.0113 18.1321 971.3434 20.1612 972.6684 22.2552 973.8759 24.3913 974.9077 26.5115 975.7656 28.5433 976.3606 30.4796 976.5716 32.3413 976.2021 34.1509\"/>\n",
       "<polygon fill=\"rgba(0,0,0,1)\" points=\"1003.1719 15.4409 1002.5245 15.2858 1001.3141 15.4305 999.7007 15.9615 997.8377 16.8253 995.8315 17.9356 993.7663 19.2023 991.7159 20.5357 989.7492 21.8478 987.9305 23.0524 986.3175 24.0663 984.9464 24.814 984.9373 24.7959 983.9419 25.2698 983.1948 25.5782 982.6246 25.7541 981.8966 25.7618 981.211 24.1564 981.6383 23.6804 982.0436 23.4216 982.5286 23.1903 983.0998 22.9887 983.748 22.8411 984.4619 22.7822 984.4619 22.7619 985.2024 22.7874 985.9467 22.8886 986.7107 23.0281 987.5003 23.1772 988.3146 23.3109 989.1489 23.4058 989.9977 23.4402 990.8563 23.3943 991.7233 23.2494 992.6021 22.9852 993.5 22.5775 994.7677 25.1128 993.4893 25.6134 992.2425 25.9124 991.0458 26.04 989.9133 26.0305 988.8546 25.9195 987.876 25.7419 986.9826 25.5304 986.1808 25.3162 985.4806 25.1286 984.8987 24.9938 984.4619 24.9284 984.4619 24.9081 984.0859 24.94 983.6986 25.0286 983.3433 25.154 983.0653 25.286 982.9256 25.3724 983.0804 25.1689 982.4493 23.7089 982.1573 23.6802 982.4591 23.5836 983.0745 23.3288 983.9866 22.8944 983.9775 22.8763 985.1425 22.1743 986.6541 21.1536 988.4179 19.9129 990.3606 18.5436 992.4159 17.1339 994.5217 15.77 996.6212 14.5368 998.6677 13.5185 1000.6368 12.8033 1002.551 12.512 1004.4396 12.9055\"/>\n",
       "<polygon fill=\"rgba(0,0,0,1)\" points=\"1032.6772 12.7559 1033.7449 15.1248 1033.3389 15.7577 1032.7154 16.6998 1031.9057 17.8651 1030.9404 19.1683 1029.8484 20.525 1028.6558 21.8519 1027.3826 23.0674 1026.035 24.0902 1024.5915 24.827 1023.0052 25.1216 1023.0052 25.1088 1021.3437 24.7285 1019.821 23.8555 1018.3519 22.6658 1016.9326 21.267 1015.5973 19.7632 1014.3939 18.2614 1013.3752 16.8693 1012.5934 15.6903 1012.0861 14.7933 1012.3457 13.026 1014.1272 13.3793 1014.1182 13.3884 1014.923 14.2113 1016.1947 15.5011 1017.8406 17.1651 1019.7711 19.1077 1021.8966 21.2332 1024.1184 23.455 1026.3438 25.6804 1028.4802 27.8168 1030.435 29.7716 1032.1154 31.452 1033.4288 32.7654 1033.4288 32.7654 1034.3393 33.6329 1034.9432 34.1331 1035.1849 34.2919 1034.4622 34.3615 1033.9674 35.4299 1033.9688 35.4633 1033.7994 35.2509 1033.5244 34.9891 1033.2017 34.7607 1032.8963 34.6197 1032.6772 34.5801 1032.6772 34.5801 1031.9977 34.5801 1031.0985 34.5801 1030.0394 34.5801 1028.8803 34.5801 1027.6813 34.5801 1026.5023 34.5801 1025.4032 34.5801 1024.444 34.5886 1023.6847 34.6014 1023.1851 34.6142 1023.0052 32.4071 1023.0052 32.3943 1023.6876 32.5896 1024.1599 32.7986 1024.8823 33.0957 1025.7907 33.4262 1026.8188 33.7357 1027.8959 33.9718 1028.9451 34.0867 1029.8816 34.046 1030.6257 33.8444 1031.1563 33.4999 1031.5469 32.9519 1031.5355 32.9462 1031.8741 31.8725 1032.1177 30.2259 1032.235 28.1988 1032.2398 25.9412 1032.1556 23.5863 1032.0084 21.2608 1031.8249 19.0882 1031.6324 17.1906 1031.4579 15.6892 1031.3286 14.7049 1032.6772 12.7559 1032.6772 15.5906 1034.1165 14.3609 1034.2235 15.375 1034.376 16.9111 1034.5467 18.8503 1034.7085 21.074 1034.8338 23.4645 1034.8949 25.9057 1034.8633 28.2841 1034.7081 30.4935 1034.3885 32.4439 1033.8189 34.0879 1033.8074 34.0822 1032.8391 35.3509 1031.5713 36.1327 1030.1972 36.4761 1028.8156 36.5081 1027.4667 36.3323 1026.1859 36.0234 1025.0158 35.6426 1024.0058 35.2464 1023.2095 34.8895 1022.6826 34.6262 1023.0052 34.6398 1023.0052 34.627 1023.1851 32.4199 1023.6847 32.4327 1024.444 32.4455 1025.4032 32.4541 1026.5023 32.4541 1027.6813 32.4541 1028.8803 32.4541 1030.0394 32.4541 1031.0985 32.4541 1031.9977 32.4541 1032.6772 32.4541 1032.6772 32.4541 1033.548 32.5961 1034.2781 32.9274 1034.882 33.353 1035.3699 33.8179 1035.7455 34.2958 1036.0194 34.8742 1035.4701 36.2333 1034.3114 36.2302 1033.6811 35.844 1032.9225 35.2179 1031.9255 34.2687 1031.9255 34.2687 1030.6121 32.9553 1028.9317 31.2748 1026.9769 29.3201 1024.8405 27.1837 1022.6151 24.9583 1020.3933 22.7365 1018.2678 20.611 1016.3252 18.6805 1014.6612 17.0346 1013.3714 15.7629 1012.5485 14.9581 1012.5394 14.9671 1013.6815 14.8627 1014.141 13.7675 1014.5529 14.4437 1015.2898 15.5101 1016.2694 16.8067 1017.4241 18.2079 1018.6865 19.5926 1019.985 20.8389 1021.2337 21.822 1022.3088 22.4205 1023.0052 22.5815 1023.0052 22.5687 1023.6862 22.4127 1024.6043 21.9143 1025.6475 21.0913 1026.7287 20.0251 1027.7888 18.8087 1028.7823 17.5348 1029.6699 16.2947 1030.4153 15.1783 1030.9835 14.2746 1031.3406 13.6722 1032.6772 15.5906\"/>\n",
       "<polygon fill=\"rgba(0,0,0,1)\" points=\"1061.5486 32.0997 1060.9764 32.3014 1061.3081 31.6537 1061.7271 30.3086 1062.0957 28.504 1062.3665 26.3991 1062.5075 24.1315 1062.4914 21.8337 1062.2954 19.6396 1061.9048 17.6887 1061.3275 16.1295 1060.6236 15.0982 1060.6307 15.0911 1059.6957 14.4127 1058.4173 13.9441 1056.8294 13.6938 1055.0119 13.6506 1053.0495 13.7799 1051.021 14.035 1048.9991 14.365 1047.0515 14.7169 1045.2402 15.0374 1043.6168 15.2725 1042.2047 15.3621 1042.2047 15.3521 1041.251 15.3422 1040.5697 15.3323 1040.1337 15.3223 1039.9157 15.3124 1039.8885 13.044 1040.0247 13.0539 1040.2972 13.0639 1040.6787 13.0738 1041.142 13.0837 1041.6597 13.0937 1042.2047 13.1036 1042.2047 13.1102 1042.7701 13.071 1043.6289 12.958 1044.6763 12.7963 1045.841 12.6138 1047.0608 12.4382 1048.2792 12.2975 1049.4461 12.2206 1050.5264 12.2419 1051.5208 12.4249 1052.4627 12.9819 1052.9396 14.1732 1052.9396 14.1732 1052.4635 15.4354 1051.5845 16.3757 1050.4323 17.3263 1049.0814 18.3248 1047.6319 19.355 1046.1945 20.3875 1044.8874 21.3853 1043.8376 22.2984 1043.1877 23.0324 1043.0333 23.3189 1042.9564 23.0935 1042.9564 23.0935 1043.342 23.2167 1044.6617 23.355 1046.5571 23.3284 1048.8144 23.1678 1051.2659 22.9244 1053.7579 22.6522 1056.1439 22.4054 1058.2861 22.2387 1060.0702 22.2108 1061.4969 22.4339 1062.6115 23.8451 1062.6182 23.8451 1062.0361 25.2391 1060.9127 26.4023 1059.3281 27.6913 1057.3633 29.0767 1055.1238 30.4858 1052.721 31.8374 1050.2661 33.0479 1047.8656 34.0328 1045.611 34.7054 1043.5536 34.9603 1041.6775 34.5715 1041.6731 34.5804 1040.3068 33.3798 1039.568 31.7436 1039.246 29.8649 1039.1964 27.7928 1039.3373 25.5827 1039.6062 23.3081 1039.9459 21.0528 1040.3008 18.907 1040.6153 16.9669 1040.834 15.3406 1040.9066 14.1732 1040.8967 14.1732 1040.8505 13.4203 1040.79 13.1466 1041.0291 13.4635 1042.1413 13.665 1042.6205 13.3382 1042.6809 13.2543 1042.6869 13.276 1042.6919 13.2404 1042.6121 13.0424 1042.3544 12.8111 1042.2047 12.7559 1042.2047 15.5906 1041.1467 15.3537 1040.3258 14.65 1039.9735 13.798 1039.9422 13.0358 1040.0935 12.3672 1040.4264 11.7383 1041.2508 11.1208 1042.7263 11.395 1043.2924 12.2569 1043.4681 13.1095 1043.5128 14.1732 1043.5028 14.1732 1043.3938 15.6327 1043.1402 17.3673 1042.8007 19.3367 1042.4289 21.4636 1042.0783 23.6591 1041.8021 25.8281 1041.6524 27.8691 1041.6755 29.67 1041.8985 31.1013 1042.2859 32.0266 1042.7364 32.4537 1042.7319 32.4626 1043.5736 32.6225 1045.1131 32.4414 1047.095 31.8677 1049.3306 30.9705 1051.6718 29.8375 1053.985 28.5586 1056.1418 27.2246 1058.0138 25.9285 1059.4667 24.7723 1060.3416 23.9009 1060.4789 23.8451 1060.4856 23.8451 1060.79 24.4389 1059.9822 24.335 1058.4018 24.3616 1056.3439 24.5219 1053.9884 24.7656 1051.4918 25.0384 1049.002 25.2855 1046.6595 25.4519 1044.591 25.4798 1042.8768 25.2911 1041.4531 24.5968 1041.4531 24.5968 1040.9183 23.1034 1041.4361 21.8275 1042.3594 20.7703 1043.5551 19.7286 1044.9366 18.6736 1046.4023 17.6206 1047.8412 16.598 1049.1354 15.6417 1050.156 14.8011 1050.7484 14.1791 1050.8136 14.1732 1050.8136 14.1732 1050.9309 14.4562 1050.8736 14.45 1050.3493 14.3605 1049.5112 14.3456 1048.4799 14.414 1047.3403 14.5458 1046.1621 14.7154 1045.0087 14.8962 1043.9379 15.0614 1042.9982 15.1847 1042.2047 15.2362 1042.2047 15.2428 1041.6597 15.2528 1041.142 15.2627 1040.6787 15.2726 1040.2972 15.2826 1040.0247 15.2925 1039.8885 15.3025 1039.9157 13.0341 1040.1337 13.0241 1040.5697 13.0142 1041.251 13.0043 1042.2047 12.9943 1042.2047 12.9844 1043.3287 12.8923 1044.8299 12.6551 1046.6011 12.3216 1048.563 11.9468 1050.6468 11.5864 1052.7893 11.2966 1054.9325 11.1352 1057.0245 11.1647 1059.0191 11.4594 1060.8654 12.1171 1062.4665 13.2553 1062.4735 13.2483 1063.6771 14.9347 1064.4623 16.9725 1064.9437 19.258 1065.1837 21.7 1065.2221 24.1983 1065.0906 26.6467 1064.8164 28.9381 1064.422 30.9704 1063.9145 32.6626 1063.2107 34.0134 1061.5486 34.9344\"/>\n",
       "<polygon fill=\"rgba(0,0,0,1)\" points=\"1089.1523 32.8832 1089.4222 32.1567 1089.4334 30.8938 1089.1092 29.2476 1088.4483 27.37 1087.4818 25.3845 1086.3313 23.3496 1085.0584 21.3379 1083.6728 19.4575 1082.267 17.7643 1080.9335 16.3114 1079.7458 15.1754 1081.7502 13.171 1082.9206 14.5711 1084.1849 16.2428 1085.4969 18.1321 1086.829 20.1612 1088.1539 22.2552 1089.3615 24.3913 1090.3933 26.5115 1091.2511 28.5433 1091.8462 30.4796 1092.0571 32.3413 1091.6876 34.1509\"/>\n",
       "<polygon fill=\"rgba(0,0,0,1)\" points=\"1099.9475 34.9344 1098.4738 34.2964 1097.7866 33.2363 1097.4225 32.0678 1097.2134 30.7743 1097.1225 29.3894 1097.1405 27.9735 1097.2671 26.5945 1097.5101 25.3153 1097.9018 24.1772 1098.5867 23.1823 1099.9475 22.626 1099.9475 22.644 1101.1126 22.9918 1101.9859 23.6652 1102.7925 24.5262 1103.611 25.5408 1104.4625 26.6662 1105.3507 27.8509 1106.2722 29.0384 1107.2241 30.1653 1108.1981 31.1653 1109.165 31.9842 1110.0948 32.5663 1110.0948 32.5663 1111.1364 33.0252 1112.2327 33.3962 1113.3473 33.6757 1114.4429 33.8617 1115.4814 33.9539 1116.4219 33.9542 1117.219 33.8688 1117.8187 33.7162 1118.1613 33.5486 1118.2397 33.4793 1118.2283 33.5171 1118.2283 33.5171 1118.1935 33.5355 1117.7417 33.0594 1116.8983 32.3915 1115.7824 31.628 1114.5024 30.7903 1113.1535 29.8824 1111.8213 28.9055 1110.5867 27.8515 1109.5297 26.6944 1108.7481 25.3775 1108.4183 23.8451 1108.4003 23.8451 1108.6079 22.3326 1109.1662 20.8263 1109.9834 19.3258 1110.9974 17.8578 1112.153 16.4642 1113.3987 15.1932 1114.6888 14.0951 1115.9933 13.2203 1117.3244 12.6278 1118.7855 12.465 1120.2935 13.171 1118.2891 15.1754 1118.4383 15.242 1118.101 15.279 1117.3138 15.6057 1116.3002 16.2497 1115.1924 17.1499 1114.08 18.237 1113.0375 19.4412 1112.133 20.6909 1111.4315 21.9082 1110.9906 22.9997 1110.8386 23.8451 1110.8205 23.8451 1110.9412 24.4891 1111.395 25.2978 1112.1837 26.2044 1113.2309 27.1414 1114.442 28.0721 1115.7237 28.9772 1116.9869 29.8471 1118.1528 30.6751 1119.1551 31.4713 1119.9387 32.3214 1120.3543 33.5171 1120.3543 33.5171 1120.0741 34.554 1119.3895 35.284 1118.5404 35.7159 1117.585 35.963 1116.5291 36.0774 1115.3841 36.0777 1114.1699 35.9701 1112.9111 35.7564 1111.635 35.4364 1110.3696 35.0081 1109.144 34.4678 1109.144 34.4678 1107.8975 33.691 1106.7389 32.7115 1105.6491 31.5933 1104.61 30.4021 1103.624 29.1916 1102.6992 28.0183 1101.843 26.9455 1101.0701 26.0416 1100.4125 25.3839 1099.9596 25.0582 1099.9475 25.0463 1099.9475 25.0643 1100.3092 24.9586 1100.1948 25.199 1099.9869 25.9066 1099.8303 26.9091 1099.757 28.0734 1099.775 29.2881 1099.8839 30.4465 1100.0745 31.4347 1100.31 32.1119 1100.422 32.2872 1099.9475 32.0997\"/>\n",
       "<polygon fill=\"rgba(0,0,0,1)\" points=\"1148.1627 12.7559 1148.2991 15.6247 1147.3075 15.9927 1145.7984 16.5741 1143.8921 17.336 1141.7097 18.2451 1139.3724 19.2678 1137.0023 20.3701 1134.7233 21.5162 1132.6622 22.6677 1130.953 23.7774 1129.7438 24.7701 1129.7368 24.763 1129.024 25.672 1128.5699 26.6963 1128.3361 27.8158 1128.2955 28.9811 1128.4137 30.1251 1128.6461 31.1746 1128.9389 32.0532 1129.2228 32.6723 1129.3452 32.8809 1128.1274 32.7994 1127.6301 33.5171 1127.64 33.5171 1127.5721 32.8314 1127.3509 31.4626 1127.0336 29.642 1126.6773 27.5056 1126.3374 25.1757 1126.0694 22.7696 1125.9297 20.3997 1125.9784 18.1697 1126.2907 16.1661 1126.9982 14.4555 1128.3406 13.2165 1128.3435 13.2225 1130.0768 12.836 1131.9146 13.0876 1133.8545 13.761 1135.8942 14.7424 1137.9982 15.9432 1140.1147 17.278 1142.1843 18.6608 1144.1437 20.0046 1145.9254 21.2208 1147.4555 22.2173 1148.6381 22.8944 1148.6381 22.8944 1149.4594 23.2477 1149.9104 23.3604 1149.9061 23.3789 1149.5216 23.7121 1149.4409 24.2101 1149.5044 24.3625 1149.4948 24.3574 1149.4361 24.3327 1149.3514 24.3284 1149.1959 24.3807 1148.9144 24.5968 1148.9144 24.5968 1148.1909 25.2724 1147.2739 26.069 1146.2095 26.9692 1145.053 27.9444 1143.8634 28.9627 1142.7012 29.9906 1141.6287 30.9921 1140.7108 31.9272 1140.0175 32.7439 1139.6251 33.3511 1139.5538 33.5171 1139.5604 33.5171 1139.4658 33.1985 1139.8807 33.3965 1140.8035 33.6389 1142.024 33.8128 1143.3885 33.8972 1144.7621 33.8873 1146.0109 33.7848 1146.9834 33.603 1147.4574 33.4236 1147.2376 33.8301 1147.3291 34.3507 1147.3221 34.3577 1146.7399 33.961 1145.5532 33.3589 1143.9391 32.6559 1142.0169 31.8769 1139.8886 31.0327 1137.65 30.13 1135.3931 29.1735 1133.2073 28.1658 1131.1782 27.1057 1129.3854 25.9828 1127.901 24.763 1127.894 24.7701 1126.8134 23.5513 1126.0099 22.3148 1125.4729 21.0676 1125.1919 19.8288 1125.1477 18.6271 1125.3081 17.491 1125.633 16.4394 1126.0814 15.4807 1126.616 14.6169 1127.2042 13.8472 1127.8167 13.171 1129.8211 15.1754 1129.3436 15.6765 1128.8963 16.2329 1128.5045 16.8333 1128.1898 17.466 1127.9697 18.1221 1127.8576 18.799 1127.8679 19.5049 1128.0229 20.2571 1128.3579 21.0736 1128.9169 21.9626 1129.7438 22.9202 1129.7368 22.9272 1130.8793 23.8838 1132.4473 24.8865 1134.3277 25.89 1136.4147 26.8734 1138.6086 27.8245 1140.8135 28.7348 1142.9362 29.5982 1144.8872 30.4106 1146.5831 31.1719 1147.9578 31.8959 1149.0034 32.6764 1148.9963 32.6835 1149.5456 34.2031 1148.6537 35.4091 1147.5545 35.8291 1146.2816 36.047 1144.8417 36.1443 1143.3123 36.1344 1141.7883 36.019 1140.3637 35.7933 1139.1138 35.4361 1138.0572 34.8348 1137.4212 33.5171 1137.4278 33.5171 1137.7163 32.415 1138.323 31.4599 1139.1484 30.4854 1140.1489 29.4657 1141.2746 28.4144 1142.4704 27.3567 1143.6788 26.3223 1144.8404 25.3427 1145.8942 24.4516 1146.7757 23.6859 1147.4111 23.0935 1147.4111 23.0935 1148.2196 22.4921 1149.0996 22.2174 1149.9414 22.2676 1150.6457 22.5699 1151.181 23.0553 1151.5171 23.7527 1151.3819 24.7412 1150.5613 25.4014 1149.6851 25.4744 1148.7736 25.2601 1147.6873 24.7959 1147.6873 24.7959 1146.3339 24.0233 1144.7393 22.9852 1142.9386 21.7561 1140.9885 20.4185 1138.9525 19.0582 1136.8979 17.7624 1134.8963 16.6197 1133.0265 15.7191 1131.3839 15.1462 1130.0971 14.9619 1129.2943 15.124 1129.2972 15.1299 1128.823 15.6095 1128.4041 16.6966 1128.1714 18.33 1128.1475 20.3364 1128.2984 22.5627 1128.5754 24.8726 1128.9259 27.1389 1129.2962 29.2389 1129.6329 31.0553 1129.8841 32.4842 1129.9978 33.5171 1130.0077 33.5171 1129.3287 34.8742 1127.6386 34.5929 1127.107 33.8822 1126.6643 32.9826 1126.2667 31.8629 1125.9541 30.5544 1125.7816 29.1005 1125.8137 27.548 1126.1249 25.9498 1126.7971 24.3763 1127.901 22.9272 1127.894 22.9202 1129.4026 21.6457 1131.2903 20.3937 1133.4657 19.1545 1135.8228 17.9462 1138.2487 16.7958 1140.6274 15.733 1142.8413 14.7891 1144.7719 13.9959 1146.3002 13.3856 1147.307 12.9906 1148.1627 15.5906\"/>\n",
       "<polygon fill=\"rgba(0,0,0,1)\" points=\"1167.3622 32.0997 1167.8618 32.1767 1168.5835 32.3055 1169.6526 32.4794 1170.953 32.671 1172.3676 32.8529 1173.7761 32.998 1175.0513 33.08 1176.0425 33.0778 1176.4945 33.0247 1175.9988 33.7184 1176.1315 34.4196 1176.1406 34.4106 1175.4684 33.8373 1174.2526 32.9684 1172.6405 31.9216 1170.7389 30.7685 1168.6462 29.5734 1166.4588 28.3981 1164.2732 27.3043 1162.1876 26.3539 1160.3059 25.6089 1158.7479 25.1314 1157.6903 24.9679 1157.6903 24.9551 1157.2422 25.0646 1156.7584 25.5033 1156.2843 26.343 1155.9321 27.4826 1155.7533 28.777 1155.7532 30.0815 1155.9264 31.2532 1156.2381 32.138 1156.5706 32.5919 1156.7767 32.6864 1157.2149 32.5663 1157.2149 32.5663 1158.3992 31.7712 1160.138 30.304 1162.2267 28.3495 1164.5273 26.0669 1166.9138 23.6081 1169.2636 21.1225 1171.4557 18.7583 1173.3694 16.6634 1174.8843 14.9854 1175.8804 13.8716 1177.0341 13.1102 1177.0341 13.1102 1177.5036 15.2889 1176.4993 16.5306 1174.9742 18.3841 1173.0476 20.6756 1170.8386 23.2314 1168.4655 25.8787 1166.0454 28.4454 1163.6977 30.7681 1161.5216 32.6807 1159.5745 34.0297 1157.6903 34.627 1157.6903 34.6398 1155.9483 33.883 1155.115 32.3115 1154.7884 30.4003 1154.7364 28.1794 1154.8731 25.7368 1155.1377 23.1965 1155.4741 20.696 1155.8271 18.379 1156.1416 16.3947 1156.3607 14.9049 1156.4267 14.1732 1156.4138 14.1732 1156.9535 14.9692 1158.2825 14.8755 1158.1777 15.0657 1157.902 15.6746 1157.6155 16.544 1157.3884 17.5833 1157.2745 18.7143 1157.3175 19.8628 1157.5499 20.9609 1157.9959 21.9598 1158.6925 22.8429 1156.6881 24.8473 1155.568 23.3725 1154.8877 21.7736 1154.5751 20.1539 1154.5454 18.5847 1154.7222 17.1179 1155.0401 15.7991 1155.4439 14.6702 1155.8949 13.7603 1156.444 13.0313 1158.2454 12.7377 1158.9667 14.1732 1158.9539 14.1732 1158.8383 15.251 1158.585 16.795 1158.2454 18.7746 1157.8718 21.0575 1157.5179 23.4983 1157.2374 25.9465 1157.0835 28.2454 1157.1041 30.2246 1157.3226 31.6779 1157.6156 32.3409 1157.6903 32.3943 1157.6903 32.4071 1158.5238 32.1033 1160.1737 30.9817 1162.234 29.2028 1164.5224 26.9621 1166.8983 24.4421 1169.2414 21.8283 1171.4287 19.2975 1173.3389 17.0256 1174.8512 15.1876 1175.8452 13.9587 1177.0341 15.2362 1177.0341 15.2362 1177.4684 15.2851 1176.4662 16.4058 1174.9437 18.0922 1173.0206 20.1974 1170.8163 22.5747 1168.4501 25.0777 1166.0406 27.5602 1163.705 29.8774 1161.5573 31.8869 1159.6991 33.4535 1158.1657 34.4678 1158.1657 34.4678 1156.6055 34.8055 1155.213 34.2279 1154.3465 33.1085 1153.8588 31.748 1153.6324 30.231 1153.6323 28.6325 1153.8531 27.0383 1154.3003 25.5329 1155.0251 24.1999 1156.1401 23.1671 1157.6903 22.7352 1157.6903 22.7224 1159.2596 22.9186 1161.0624 23.4403 1163.0901 24.214 1165.2774 25.1819 1167.5425 26.2863 1169.7987 27.4691 1171.957 28.6719 1173.9285 29.837 1175.6264 30.9084 1176.9721 31.838 1177.9276 32.6235 1177.9367 32.6145 1178.5272 34.2241 1177.3594 35.481 1176.2382 35.7003 1174.9839 35.7345 1173.5705 35.6711 1172.076 35.5437 1170.602 35.3805 1169.2574 35.2087 1168.1538 35.0556 1167.4039 34.9482 1167.3622 34.9344\"/>\n",
       "<polygon fill=\"rgba(0,0,0,1)\" points=\"1197.6509 33.5171 1197.2472 34.7514 1194.8354 34.3562 1194.5958 33.652 1194.4069 32.7872 1194.2388 31.7087 1194.1118 30.4535 1194.0526 29.0715 1194.0902 27.6144 1194.257 26.1337 1194.5915 24.6786 1195.1432 23.2999 1195.1593 23.308 1195.9632 22.0516 1196.9649 20.8946 1198.1009 19.8126 1199.3143 18.794 1200.548 17.8355 1201.7433 16.9392 1202.8388 16.1111 1203.7645 15.359 1204.442 14.7071 1204.7974 14.2439 1204.8425 14.1732 1204.8425 14.1732 1204.8354 14.2091 1204.5754 13.951 1203.9981 13.6014 1203.1844 13.2784 1202.2183 13.0391 1201.1771 12.9187 1200.1355 12.942 1199.1657 13.1237 1198.3318 13.4656 1197.671 13.9648 1197.1844 14.6486 1197.1844 14.6486 1196.8722 15.7136 1196.7239 17.3623 1196.7504 19.3993 1196.9228 21.6708 1197.1836 24.0435 1197.4734 26.3942 1197.7382 28.6057 1197.9236 30.5707 1197.9697 32.2119 1197.7423 33.5931 1196.2336 34.7182 1196.2336 34.7362 1194.6869 33.9942 1193.624 32.7107 1192.4964 30.9547 1191.2941 28.8136 1190.0612 26.4158 1188.8522 23.9004 1187.7244 21.4094 1186.7353 19.0847 1185.9417 17.0633 1185.3951 15.4591 1185.1444 14.1732 1187.979 14.1732 1188.0879 14.6968 1188.5406 16.1264 1189.2656 18.069 1190.195 20.344 1191.2653 22.7944 1192.4144 25.2675 1193.5795 27.6112 1194.6952 29.6703 1195.6858 31.2787 1196.4214 32.2297 1196.2336 32.2979 1196.2336 32.3159 1195.5424 32.7217 1195.642 32.1045 1195.6336 30.7083 1195.4919 28.8364 1195.2663 26.6516 1195.0111 24.2863 1194.7814 21.863 1194.6268 19.4984 1194.5988 17.2989 1194.7775 15.3506 1195.2828 13.6978 1195.2828 13.6978 1196.1551 12.4742 1197.2928 11.6108 1198.5771 11.0808 1199.9254 10.8264 1201.2817 10.7953 1202.5986 10.9474 1203.8306 11.253 1204.9353 11.6931 1205.8768 12.2699 1206.6159 13.0473 1206.9685 14.1732 1206.9685 14.1732 1206.6539 15.2798 1206.0101 16.1427 1205.1689 16.9551 1204.1763 17.7944 1203.0735 18.6739 1201.9108 19.5906 1200.7466 20.5397 1199.6419 21.5121 1198.6596 22.4938 1197.8629 23.4623 1197.3079 24.3823 1197.324 24.3904 1196.9673 25.3697 1196.7386 26.5125 1196.633 27.7494 1196.6343 29.0102 1196.7204 30.2259 1196.8659 31.3288 1197.043 32.2486 1197.2173 32.9025 1197.3048 33.1176 1195.1292 32.9222 1194.8163 33.5171\"/>\n",
       "<polygon fill=\"rgba(0,0,0,1)\" points=\"1223.6877 33.5171 1223.583 33.1498 1223.04 31.8478 1222.1656 30.0581 1221.0619 27.9449 1219.8212 25.64 1218.5324 23.2672 1217.2832 20.9469 1216.1596 18.7967 1215.2454 16.9279 1214.6172 15.4276 1214.3498 14.1732 1214.3701 14.1732 1215.8292 12.9036 1216.8269 13.4933 1217.6648 14.3591 1218.6492 15.511 1219.7558 16.8645 1220.9322 18.3129 1222.119 19.7424 1223.2516 21.0349 1224.2545 22.0643 1225.007 22.6846 1225.105 22.7822 1225.105 22.7619 1224.53 23.0526 1224.5356 22.7662 1224.4799 21.8522 1224.2955 20.6111 1224.0262 19.2075 1223.7253 17.7692 1223.4461 16.4074 1223.2413 15.2085 1223.1831 14.1431 1224.3444 12.6028 1226.1072 13.171 1224.1028 15.1754 1225.0481 15.2859 1225.8824 14.4177 1225.8786 14.9256 1226.0009 15.972 1226.2122 17.2989 1226.4562 18.7636 1226.6775 20.2485 1226.8201 21.6525 1226.8189 22.9112 1226.4975 24.0963 1225.105 24.9284 1225.105 24.9081 1223.8441 24.4643 1222.7981 23.6131 1221.6828 22.4698 1220.4973 21.1172 1219.2861 19.6583 1218.1045 18.2036 1217.0129 16.8684 1216.0789 15.7749 1215.3981 15.0675 1215.3967 14.9851 1216.4961 14.1732 1216.5163 14.1732 1216.6995 14.6374 1217.3066 15.9347 1218.2381 17.7029 1219.3963 19.7892 1220.6904 22.0651 1222.0322 24.4083 1223.3348 26.6996 1224.5128 28.8228 1225.4841 30.6701 1226.1765 32.1657 1226.5223 33.5171\"/>\n",
       "</svg>"
      ],
      "text/plain": [
       "<IPython.core.display.SVG object>"
      ]
     },
     "metadata": {},
     "output_type": "display_data"
    }
   ],
   "source": [
    "size = 275\n",
    "d = document(400, 75, 'mm')\n",
    "page = d.addpage()\n",
    "figure = shape().nostroke().fill(rgba(0, 0, 0, 255))\n",
    "grid_n = len(alpha_s)\n",
    "grid_size = size / grid_n\n",
    "for i in range(len(pline_final1)):\n",
    "    char_plines = pline_final1[i]\n",
    "    char_pline = char_plines.scale(grid_size*0.67).translate(1+i*grid_size, 5)\n",
    "    poly = char_pline.fancy_curve(samples_per=12, thicknesses=[1, 0.75, 0.75, 1], tightness=-0.25)\n",
    "    poly = figure.polygon(poly)\n",
    "    page.place(poly)\n",
    "\n",
    "show(page)"
   ]
  },
  {
   "cell_type": "code",
   "execution_count": 36,
   "metadata": {},
   "outputs": [],
   "source": [
    "def make_char3(a):\n",
    "    pts = []\n",
    "    for i in range(int(t_normal(a+2, a+3, 8, 2))):\n",
    "        x = (random.choice([0, 0.5, 1]))\n",
    "        y = (random.choice([0, 0.5, 1]))\n",
    "        pts.append([x, y])\n",
    "    return Polyline(pts)"
   ]
  },
  {
   "cell_type": "code",
   "execution_count": 37,
   "metadata": {},
   "outputs": [],
   "source": [
    "char_plines = [make_char3(i) for i in (alpha_s2)]\n",
    "pline_final3 = [char_plines[item] for item in numbers1]"
   ]
  },
  {
   "cell_type": "code",
   "execution_count": 38,
   "metadata": {},
   "outputs": [
    {
     "data": {
      "image/svg+xml": [
       "<svg height=\"212.5984pt\" version=\"1.1\" width=\"1133.8583pt\" xmlns=\"http://www.w3.org/2000/svg\" xmlns:xlink=\"http://www.w3.org/1999/xlink\">\n",
       "<title>Untitled</title>\n",
       "<path d=\"M2.8346,23.8451 C4.4466,20.6212,15.7305,12.5612,22.1785,14.1732 M22.1785,14.1732 C28.6264,15.7852,39.9103,31.9051,41.5223,33.5171 M41.5223,33.5171 C43.1343,35.129,30.2384,27.0691,31.8504,23.8451\" fill=\"none\" stroke=\"rgba(0,0,0,1)\" stroke-miterlimit=\"10\"/>\n",
       "<path d=\"M31.706,14.1732 C33.318,15.7852,47.8259,31.9051,51.0499,33.5171 M51.0499,33.5171 C54.2738,35.129,51.0499,25.4571,51.0499,23.8451 M51.0499,23.8451 C51.0499,22.2332,47.8259,23.8451,51.0499,23.8451 M51.0499,23.8451 C54.2738,23.8451,68.7817,25.4571,70.3937,23.8451 M70.3937,23.8451 C72.0057,22.2332,59.1098,12.5612,60.7218,14.1732 M60.7218,14.1732 C62.3338,15.7852,76.8416,31.9051,80.0656,33.5171 M80.0656,33.5171 C83.2896,35.129,80.0656,25.4571,80.0656,23.8451\" fill=\"none\" stroke=\"rgba(0,0,0,1)\" stroke-miterlimit=\"10\"/>\n",
       "<path d=\"M70.2493,23.8451 C68.6374,23.8451,71.8613,31.9051,70.2493,33.5171 M70.2493,33.5171 C68.6374,35.129,60.5774,35.129,60.5774,33.5171 M60.5774,33.5171 C60.5774,31.9051,70.2493,27.0691,70.2493,23.8451 M70.2493,23.8451 C70.2493,20.6212,54.1295,12.5612,60.5774,14.1732 M60.5774,14.1732 C67.0254,15.7852,102.4891,31.9051,108.937,33.5171 M108.937,33.5171 C115.385,35.129,100.8771,23.8451,99.2651,23.8451 M99.2651,23.8451 C97.6531,23.8451,100.8771,31.9051,99.2651,33.5171 M99.2651,33.5171 C97.6531,35.129,89.5932,35.129,89.5932,33.5171 M89.5932,33.5171 C89.5932,31.9051,99.2651,27.0691,99.2651,23.8451\" fill=\"none\" stroke=\"rgba(0,0,0,1)\" stroke-miterlimit=\"10\"/>\n",
       "<path d=\"M89.4488,23.8451 C94.2848,23.8451,123.3005,23.8451,128.1365,23.8451\" fill=\"none\" stroke=\"rgba(0,0,0,1)\" stroke-miterlimit=\"10\"/>\n",
       "<path d=\"M137.664,23.8451 C134.4401,23.8451,113.4843,15.7852,118.3202,14.1732 M118.3202,14.1732 C123.1562,12.5612,158.6199,12.5612,166.6798,14.1732 M166.6798,14.1732 C174.7397,15.7852,169.9038,23.8451,166.6798,23.8451\" fill=\"none\" stroke=\"rgba(0,0,0,1)\" stroke-miterlimit=\"10\"/>\n",
       "<path d=\"M166.5354,23.8451 C169.7594,25.4571,166.5354,31.9051,166.5354,33.5171 M166.5354,33.5171 C166.5354,35.129,166.5354,33.5171,166.5354,33.5171 M166.5354,33.5171 C166.5354,33.5171,164.9234,35.129,166.5354,33.5171 M166.5354,33.5171 C168.1474,31.9051,171.3714,25.4571,176.2073,23.8451 M176.2073,23.8451 C181.0433,22.2332,192.3272,22.2332,195.5512,23.8451 M195.5512,23.8451 C198.7752,25.4571,195.5512,31.9051,195.5512,33.5171 M195.5512,33.5171 C195.5512,35.129,195.5512,33.5171,195.5512,33.5171\" fill=\"none\" stroke=\"rgba(0,0,0,1)\" stroke-miterlimit=\"10\"/>\n",
       "<path d=\"M176.063,23.8451 C179.287,20.6212,193.7948,12.5612,195.4068,14.1732 M195.4068,14.1732 C197.0188,15.7852,184.1229,30.2931,185.7349,33.5171 M185.7349,33.5171 C187.3469,36.741,201.8548,35.129,205.0787,33.5171 M205.0787,33.5171 C208.3027,31.9051,201.8548,27.0691,205.0787,23.8451 M205.0787,23.8451 C208.3027,20.6212,222.8106,12.5612,224.4226,14.1732\" fill=\"none\" stroke=\"rgba(0,0,0,1)\" stroke-miterlimit=\"10\"/>\n",
       "<path d=\"M224.2782,23.8451 C221.0542,23.8451,200.0984,15.7852,204.9344,14.1732 M204.9344,14.1732 C209.7703,12.5612,245.234,12.5612,253.294,14.1732 M253.294,14.1732 C261.3539,15.7852,256.5179,23.8451,253.294,23.8451\" fill=\"none\" stroke=\"rgba(0,0,0,1)\" stroke-miterlimit=\"10\"/>\n",
       "<path d=\"M233.8058,23.8451 C238.6417,23.8451,267.6575,23.8451,272.4934,23.8451\" fill=\"none\" stroke=\"rgba(0,0,0,1)\" stroke-miterlimit=\"10\"/>\n",
       "<path d=\"M262.6772,23.8451 C265.9011,20.6212,280.409,12.5612,282.021,14.1732 M282.021,14.1732 C283.633,15.7852,270.7371,30.2931,272.3491,33.5171 M272.3491,33.5171 C273.9611,36.741,288.4689,35.129,291.6929,33.5171 M291.6929,33.5171 C294.9169,31.9051,288.4689,27.0691,291.6929,23.8451 M291.6929,23.8451 C294.9169,20.6212,309.4248,12.5612,311.0367,14.1732\" fill=\"none\" stroke=\"rgba(0,0,0,1)\" stroke-miterlimit=\"10\"/>\n",
       "<path d=\"M310.8924,23.8451 C307.6684,23.8451,286.7126,15.7852,291.5486,14.1732 M291.5486,14.1732 C296.3845,12.5612,331.8482,12.5612,339.9081,14.1732 M339.9081,14.1732 C347.9681,15.7852,343.1321,23.8451,339.9081,23.8451\" fill=\"none\" stroke=\"rgba(0,0,0,1)\" stroke-miterlimit=\"10\"/>\n",
       "<path d=\"M320.4199,23.8451 C325.2559,23.8451,354.2717,23.8451,359.1076,23.8451\" fill=\"none\" stroke=\"rgba(0,0,0,1)\" stroke-miterlimit=\"10\"/>\n",
       "<path d=\"M368.6352,33.5171 C368.6352,33.5171,358.9633,36.741,358.9633,33.5171 M358.9633,33.5171 C358.9633,30.2931,363.7992,14.1732,368.6352,14.1732 M368.6352,14.1732 C373.4711,14.1732,383.143,30.2931,387.979,33.5171 M387.979,33.5171 C392.815,36.741,397.6509,33.5171,397.6509,33.5171 M397.6509,33.5171 C397.6509,33.5171,387.979,36.741,387.979,33.5171\" fill=\"none\" stroke=\"rgba(0,0,0,1)\" stroke-miterlimit=\"10\"/>\n",
       "<path d=\"M397.5066,14.1732 C397.5066,14.1732,399.1185,22.2332,397.5066,23.8451 M397.5066,23.8451 C395.8946,25.4571,382.9987,23.8451,387.8346,23.8451 M387.8346,23.8451 C392.6706,23.8451,420.0744,25.4571,426.5223,23.8451 M426.5223,23.8451 C432.9703,22.2332,426.5223,14.1732,426.5223,14.1732 M426.5223,14.1732 C426.5223,14.1732,428.1343,22.2332,426.5223,23.8451\" fill=\"none\" stroke=\"rgba(0,0,0,1)\" stroke-miterlimit=\"10\"/>\n",
       "<path d=\"M426.378,23.8451 C429.6019,25.4571,426.378,31.9051,426.378,33.5171 M426.378,33.5171 C426.378,35.129,426.378,33.5171,426.378,33.5171 M426.378,33.5171 C426.378,33.5171,424.766,35.129,426.378,33.5171 M426.378,33.5171 C427.9899,31.9051,431.2139,25.4571,436.0499,23.8451 M436.0499,23.8451 C440.8858,22.2332,452.1697,22.2332,455.3937,23.8451 M455.3937,23.8451 C458.6177,25.4571,455.3937,31.9051,455.3937,33.5171 M455.3937,33.5171 C455.3937,35.129,455.3937,33.5171,455.3937,33.5171\" fill=\"none\" stroke=\"rgba(0,0,0,1)\" stroke-miterlimit=\"10\"/>\n",
       "<path d=\"M435.9055,23.8451 C439.1295,20.6212,453.6374,12.5612,455.2493,14.1732 M455.2493,14.1732 C456.8613,15.7852,443.9654,30.2931,445.5774,33.5171 M445.5774,33.5171 C447.1894,36.741,461.6973,35.129,464.9213,33.5171 M464.9213,33.5171 C468.1452,31.9051,461.6973,27.0691,464.9213,23.8451 M464.9213,23.8451 C468.1452,20.6212,482.6531,12.5612,484.2651,14.1732\" fill=\"none\" stroke=\"rgba(0,0,0,1)\" stroke-miterlimit=\"10\"/>\n",
       "<path d=\"M484.1207,23.8451 C480.8968,23.8451,459.9409,15.7852,464.7769,14.1732 M464.7769,14.1732 C469.6129,12.5612,505.0766,12.5612,513.1365,14.1732 M513.1365,14.1732 C521.1964,15.7852,516.3605,23.8451,513.1365,23.8451\" fill=\"none\" stroke=\"rgba(0,0,0,1)\" stroke-miterlimit=\"10\"/>\n",
       "<path d=\"M493.6483,23.8451 C498.4843,23.8451,527.5,23.8451,532.336,23.8451\" fill=\"none\" stroke=\"rgba(0,0,0,1)\" stroke-miterlimit=\"10\"/>\n",
       "<path d=\"M541.8635,33.5171 C541.8635,33.5171,532.1916,36.741,532.1916,33.5171 M532.1916,33.5171 C532.1916,30.2931,537.0276,14.1732,541.8635,14.1732 M541.8635,14.1732 C546.6995,14.1732,556.3714,30.2931,561.2073,33.5171 M561.2073,33.5171 C566.0433,36.741,570.8793,33.5171,570.8793,33.5171 M570.8793,33.5171 C570.8793,33.5171,561.2073,36.741,561.2073,33.5171\" fill=\"none\" stroke=\"rgba(0,0,0,1)\" stroke-miterlimit=\"10\"/>\n",
       "<path d=\"M551.3911,23.8451 C553.0031,20.6212,564.287,12.5612,570.7349,14.1732 M570.7349,14.1732 C577.1829,15.7852,588.4668,31.9051,590.0787,33.5171 M590.0787,33.5171 C591.6907,35.129,578.7948,27.0691,580.4068,23.8451\" fill=\"none\" stroke=\"rgba(0,0,0,1)\" stroke-miterlimit=\"10\"/>\n",
       "<path d=\"M599.6063,23.8451 C602.8303,25.4571,599.6063,31.9051,599.6063,33.5171 M599.6063,33.5171 C599.6063,35.129,599.6063,33.5171,599.6063,33.5171 M599.6063,33.5171 C599.6063,33.5171,597.9943,35.129,599.6063,33.5171 M599.6063,33.5171 C601.2183,31.9051,604.4423,25.4571,609.2782,23.8451 M609.2782,23.8451 C614.1142,22.2332,625.3981,22.2332,628.622,23.8451 M628.622,23.8451 C631.846,25.4571,628.622,31.9051,628.622,33.5171 M628.622,33.5171 C628.622,35.129,628.622,33.5171,628.622,33.5171\" fill=\"none\" stroke=\"rgba(0,0,0,1)\" stroke-miterlimit=\"10\"/>\n",
       "<path d=\"M628.4777,33.5171 C625.2537,30.2931,610.7458,14.1732,609.1339,14.1732 M609.1339,14.1732 C607.5219,14.1732,618.8058,33.5171,618.8058,33.5171 M618.8058,33.5171 C618.8058,33.5171,602.6859,14.1732,609.1339,14.1732 M609.1339,14.1732 C615.5818,14.1732,649.4335,30.2931,657.4934,33.5171 M657.4934,33.5171 C665.5534,36.741,660.7174,36.741,657.4934,33.5171 M657.4934,33.5171 C654.2695,30.2931,639.7616,14.1732,638.1496,14.1732 M638.1496,14.1732 C636.5376,14.1732,647.8215,33.5171,647.8215,33.5171\" fill=\"none\" stroke=\"rgba(0,0,0,1)\" stroke-miterlimit=\"10\"/>\n",
       "<path d=\"M657.3491,33.5171 C657.3491,33.5171,647.6772,36.741,647.6772,33.5171 M647.6772,33.5171 C647.6772,30.2931,652.5131,14.1732,657.3491,14.1732 M657.3491,14.1732 C662.185,14.1732,671.857,30.2931,676.6929,33.5171 M676.6929,33.5171 C681.5289,36.741,686.3648,33.5171,686.3648,33.5171 M686.3648,33.5171 C686.3648,33.5171,676.6929,36.741,676.6929,33.5171\" fill=\"none\" stroke=\"rgba(0,0,0,1)\" stroke-miterlimit=\"10\"/>\n",
       "<path d=\"M666.8766,23.8451 C671.7126,23.8451,700.7283,23.8451,705.5643,23.8451\" fill=\"none\" stroke=\"rgba(0,0,0,1)\" stroke-miterlimit=\"10\"/>\n",
       "<path d=\"M715.0919,14.1732 C715.0919,12.5612,715.0919,14.1732,715.0919,14.1732 M715.0919,14.1732 C715.0919,14.1732,715.0919,10.9493,715.0919,14.1732 M715.0919,14.1732 C715.0919,17.3972,710.2559,31.9051,715.0919,33.5171 M715.0919,33.5171 C719.9278,35.129,739.2717,27.0691,744.1076,23.8451 M744.1076,23.8451 C748.9436,20.6212,744.1076,15.7852,744.1076,14.1732 M744.1076,14.1732 C744.1076,12.5612,744.1076,14.1732,744.1076,14.1732 M744.1076,14.1732 C744.1076,14.1732,744.1076,10.9493,744.1076,14.1732\" fill=\"none\" stroke=\"rgba(0,0,0,1)\" stroke-miterlimit=\"10\"/>\n",
       "<path d=\"M743.9633,23.8451 C747.1872,25.4571,743.9633,31.9051,743.9633,33.5171 M743.9633,33.5171 C743.9633,35.129,743.9633,33.5171,743.9633,33.5171 M743.9633,33.5171 C743.9633,33.5171,742.3513,35.129,743.9633,33.5171 M743.9633,33.5171 C745.5752,31.9051,748.7992,25.4571,753.6352,23.8451 M753.6352,23.8451 C758.4711,22.2332,769.755,22.2332,772.979,23.8451 M772.979,23.8451 C776.203,25.4571,772.979,31.9051,772.979,33.5171 M772.979,33.5171 C772.979,35.129,772.979,33.5171,772.979,33.5171\" fill=\"none\" stroke=\"rgba(0,0,0,1)\" stroke-miterlimit=\"10\"/>\n",
       "<path d=\"M753.4908,23.8451 C756.7148,20.6212,771.2227,12.5612,772.8346,14.1732 M772.8346,14.1732 C774.4466,15.7852,761.5507,30.2931,763.1627,33.5171 M763.1627,33.5171 C764.7747,36.741,779.2826,35.129,782.5066,33.5171 M782.5066,33.5171 C785.7305,31.9051,779.2826,27.0691,782.5066,23.8451 M782.5066,23.8451 C785.7305,20.6212,800.2384,12.5612,801.8504,14.1732\" fill=\"none\" stroke=\"rgba(0,0,0,1)\" stroke-miterlimit=\"10\"/>\n",
       "<path d=\"M801.706,23.8451 C798.4821,23.8451,777.5262,15.7852,782.3622,14.1732 M782.3622,14.1732 C787.1982,12.5612,822.6619,12.5612,830.7218,14.1732 M830.7218,14.1732 C838.7817,15.7852,833.9458,23.8451,830.7218,23.8451\" fill=\"none\" stroke=\"rgba(0,0,0,1)\" stroke-miterlimit=\"10\"/>\n",
       "<path d=\"M820.9055,33.5171 C822.5175,31.9051,822.5175,25.4571,820.9055,23.8451 M820.9055,23.8451 C819.2935,22.2332,809.6216,23.8451,811.2336,23.8451 M811.2336,23.8451 C812.8456,23.8451,828.9654,22.2332,830.5774,23.8451 M830.5774,23.8451 C832.1894,25.4571,819.2935,31.9051,820.9055,33.5171 M820.9055,33.5171 C822.5175,35.129,835.4134,33.5171,840.2493,33.5171 M840.2493,33.5171 C845.0853,33.5171,848.3093,35.129,849.9213,33.5171 M849.9213,33.5171 C851.5332,31.9051,851.5332,25.4571,849.9213,23.8451 M849.9213,23.8451 C848.3093,22.2332,838.6374,23.8451,840.2493,23.8451 M840.2493,23.8451 C841.8613,23.8451,857.9812,22.2332,859.5932,23.8451\" fill=\"none\" stroke=\"rgba(0,0,0,1)\" stroke-miterlimit=\"10\"/>\n",
       "<path d=\"M859.4488,33.5171 C856.2248,30.2931,841.717,14.1732,840.105,14.1732 M840.105,14.1732 C838.493,14.1732,849.7769,33.5171,849.7769,33.5171 M849.7769,33.5171 C849.7769,33.5171,833.657,14.1732,840.105,14.1732 M840.105,14.1732 C846.5529,14.1732,880.4046,30.2931,888.4646,33.5171 M888.4646,33.5171 C896.5245,36.741,891.6885,36.741,888.4646,33.5171 M888.4646,33.5171 C885.2406,30.2931,870.7327,14.1732,869.1207,14.1732 M869.1207,14.1732 C867.5087,14.1732,878.7927,33.5171,878.7927,33.5171\" fill=\"none\" stroke=\"rgba(0,0,0,1)\" stroke-miterlimit=\"10\"/>\n",
       "<path d=\"M868.9764,23.8451 C873.8123,23.8451,902.8281,23.8451,907.664,23.8451\" fill=\"none\" stroke=\"rgba(0,0,0,1)\" stroke-miterlimit=\"10\"/>\n",
       "<path d=\"M897.8478,23.8451 C901.0717,20.6212,915.5796,12.5612,917.1916,14.1732 M917.1916,14.1732 C918.8036,15.7852,905.9077,30.2931,907.5197,33.5171 M907.5197,33.5171 C909.1317,36.741,923.6395,35.129,926.8635,33.5171 M926.8635,33.5171 C930.0875,31.9051,923.6395,27.0691,926.8635,23.8451 M926.8635,23.8451 C930.0875,20.6212,944.5954,12.5612,946.2073,14.1732\" fill=\"none\" stroke=\"rgba(0,0,0,1)\" stroke-miterlimit=\"10\"/>\n",
       "<path d=\"M946.063,23.8451 C942.839,23.8451,921.8832,15.7852,926.7192,14.1732 M926.7192,14.1732 C931.5551,12.5612,967.0188,12.5612,975.0787,14.1732 M975.0787,14.1732 C983.1387,15.7852,978.3027,23.8451,975.0787,23.8451\" fill=\"none\" stroke=\"rgba(0,0,0,1)\" stroke-miterlimit=\"10\"/>\n",
       "<path d=\"M955.5906,23.8451 C960.4265,23.8451,989.4423,23.8451,994.2782,23.8451\" fill=\"none\" stroke=\"rgba(0,0,0,1)\" stroke-miterlimit=\"10\"/>\n",
       "<path d=\"M984.4619,23.8451 C986.0739,20.6212,997.3578,12.5612,1003.8058,14.1732 M1003.8058,14.1732 C1010.2537,15.7852,1021.5376,31.9051,1023.1496,33.5171 M1023.1496,33.5171 C1024.7616,35.129,1011.8657,27.0691,1013.4777,23.8451\" fill=\"none\" stroke=\"rgba(0,0,0,1)\" stroke-miterlimit=\"10\"/>\n",
       "<path d=\"M1013.3333,14.1732 C1014.9453,15.7852,1029.4532,31.9051,1032.6772,33.5171 M1032.6772,33.5171 C1035.9011,35.129,1032.6772,25.4571,1032.6772,23.8451 M1032.6772,23.8451 C1032.6772,22.2332,1029.4532,23.8451,1032.6772,23.8451 M1032.6772,23.8451 C1035.9011,23.8451,1050.409,25.4571,1052.021,23.8451 M1052.021,23.8451 C1053.633,22.2332,1040.7371,12.5612,1042.3491,14.1732 M1042.3491,14.1732 C1043.9611,15.7852,1058.4689,31.9051,1061.6929,33.5171 M1061.6929,33.5171 C1064.9169,35.129,1061.6929,25.4571,1061.6929,23.8451\" fill=\"none\" stroke=\"rgba(0,0,0,1)\" stroke-miterlimit=\"10\"/>\n",
       "<path d=\"M1051.8766,23.8451 C1050.2647,23.8451,1053.4886,31.9051,1051.8766,33.5171 M1051.8766,33.5171 C1050.2647,35.129,1042.2047,35.129,1042.2047,33.5171 M1042.2047,33.5171 C1042.2047,31.9051,1051.8766,27.0691,1051.8766,23.8451 M1051.8766,23.8451 C1051.8766,20.6212,1035.7568,12.5612,1042.2047,14.1732 M1042.2047,14.1732 C1048.6527,15.7852,1084.1164,31.9051,1090.5643,33.5171 M1090.5643,33.5171 C1097.0122,35.129,1082.5044,23.8451,1080.8924,23.8451 M1080.8924,23.8451 C1079.2804,23.8451,1082.5044,31.9051,1080.8924,33.5171 M1080.8924,33.5171 C1079.2804,35.129,1071.2205,35.129,1071.2205,33.5171 M1071.2205,33.5171 C1071.2205,31.9051,1080.8924,27.0691,1080.8924,23.8451\" fill=\"none\" stroke=\"rgba(0,0,0,1)\" stroke-miterlimit=\"10\"/>\n",
       "<path d=\"M1071.0761,23.8451 C1075.9121,23.8451,1104.9278,23.8451,1109.7638,23.8451\" fill=\"none\" stroke=\"rgba(0,0,0,1)\" stroke-miterlimit=\"10\"/>\n",
       "<path d=\"M1119.2913,14.1732 C1119.2913,14.1732,1120.9033,22.2332,1119.2913,23.8451 M1119.2913,23.8451 C1117.6794,25.4571,1104.7835,23.8451,1109.6194,23.8451 M1109.6194,23.8451 C1114.4554,23.8451,1141.8591,25.4571,1148.3071,23.8451 M1148.3071,23.8451 C1154.755,22.2332,1148.3071,14.1732,1148.3071,14.1732 M1148.3071,14.1732 C1148.3071,14.1732,1149.9191,22.2332,1148.3071,23.8451\" fill=\"none\" stroke=\"rgba(0,0,0,1)\" stroke-miterlimit=\"10\"/>\n",
       "<path d=\"M1138.4908,33.5171 C1140.1028,31.9051,1140.1028,25.4571,1138.4908,23.8451 M1138.4908,23.8451 C1136.8788,22.2332,1127.2069,23.8451,1128.8189,23.8451 M1128.8189,23.8451 C1130.4309,23.8451,1146.5507,22.2332,1148.1627,23.8451 M1148.1627,23.8451 C1149.7747,25.4571,1136.8788,31.9051,1138.4908,33.5171 M1138.4908,33.5171 C1140.1028,35.129,1152.9987,33.5171,1157.8346,33.5171 M1157.8346,33.5171 C1162.6706,33.5171,1165.8946,35.129,1167.5066,33.5171 M1167.5066,33.5171 C1169.1185,31.9051,1169.1185,25.4571,1167.5066,23.8451 M1167.5066,23.8451 C1165.8946,22.2332,1156.2227,23.8451,1157.8346,23.8451 M1157.8346,23.8451 C1159.4466,23.8451,1175.5665,22.2332,1177.1785,23.8451\" fill=\"none\" stroke=\"rgba(0,0,0,1)\" stroke-miterlimit=\"10\"/>\n",
       "<path d=\"M1177.0341,23.8451 C1180.2581,25.4571,1177.0341,31.9051,1177.0341,33.5171 M1177.0341,33.5171 C1177.0341,35.129,1177.0341,33.5171,1177.0341,33.5171 M1177.0341,33.5171 C1177.0341,33.5171,1175.4221,35.129,1177.0341,33.5171 M1177.0341,33.5171 C1178.6461,31.9051,1181.8701,25.4571,1186.706,23.8451 M1186.706,23.8451 C1191.542,22.2332,1202.8259,22.2332,1206.0499,23.8451 M1206.0499,23.8451 C1209.2738,25.4571,1206.0499,31.9051,1206.0499,33.5171 M1206.0499,33.5171 C1206.0499,35.129,1206.0499,33.5171,1206.0499,33.5171\" fill=\"none\" stroke=\"rgba(0,0,0,1)\" stroke-miterlimit=\"10\"/>\n",
       "<path d=\"M1186.5617,23.8451 C1189.7857,20.6212,1204.2935,12.5612,1205.9055,14.1732 M1205.9055,14.1732 C1207.5175,15.7852,1194.6216,30.2931,1196.2336,33.5171 M1196.2336,33.5171 C1197.8456,36.741,1212.3535,35.129,1215.5774,33.5171 M1215.5774,33.5171 C1218.8014,31.9051,1212.3535,27.0691,1215.5774,23.8451 M1215.5774,23.8451 C1218.8014,20.6212,1233.3093,12.5612,1234.9213,14.1732\" fill=\"none\" stroke=\"rgba(0,0,0,1)\" stroke-miterlimit=\"10\"/>\n",
       "<path d=\"M1234.7769,23.8451 C1231.5529,23.8451,1210.5971,15.7852,1215.4331,14.1732 M1215.4331,14.1732 C1220.269,12.5612,1255.7327,12.5612,1263.7927,14.1732 M1263.7927,14.1732 C1271.8526,15.7852,1267.0166,23.8451,1263.7927,23.8451\" fill=\"none\" stroke=\"rgba(0,0,0,1)\" stroke-miterlimit=\"10\"/>\n",
       "</svg>"
      ],
      "text/plain": [
       "<IPython.core.display.SVG object>"
      ]
     },
     "metadata": {},
     "output_type": "display_data"
    }
   ],
   "source": [
    "size = 275\n",
    "d = document(400, 75, 'mm')\n",
    "page = d.addpage()\n",
    "curve_fig = shape().stroke(rgba(0, 0, 0, 255)).nofill()\n",
    "grid_n = len(alpha_s)\n",
    "grid_size = size / grid_n\n",
    "for i in range(len(pline_final3)):\n",
    "    char_pline = pline_final3[i] + pline_final3[i].translate(1.5, 0)\n",
    "    char_pline = char_pline.scale(grid_size*0.67).translate(1+i*grid_size, 5)\n",
    "    page.place(curve_fig.path(char_pline.smooth_path()))\n",
    "    \n",
    "show(page)"
   ]
  },
  {
   "cell_type": "code",
   "execution_count": 39,
   "metadata": {},
   "outputs": [],
   "source": [
    "char_plines = [make_char3(i) for i in (alpha_s2)]\n",
    "pline_final4 = [char_plines[item] for item in numbers2]"
   ]
  },
  {
   "cell_type": "code",
   "execution_count": 40,
   "metadata": {},
   "outputs": [
    {
     "data": {
      "image/svg+xml": [
       "<svg height=\"212.5984pt\" version=\"1.1\" width=\"1417.3228pt\" xmlns=\"http://www.w3.org/2000/svg\" xmlns:xlink=\"http://www.w3.org/1999/xlink\">\n",
       "<title>Untitled</title>\n",
       "<path d=\"M22.1785,23.8451 C23.7905,25.4571,22.1785,35.129,22.1785,33.5171 M22.1785,33.5171 C22.1785,31.9051,18.9545,15.7852,22.1785,14.1732 M22.1785,14.1732 C25.4024,12.5612,36.6864,22.2332,41.5223,23.8451 M41.5223,23.8451 C46.3583,25.4571,49.5822,22.2332,51.1942,23.8451 M51.1942,23.8451 C52.8062,25.4571,51.1942,35.129,51.1942,33.5171\" fill=\"none\" stroke=\"rgba(0,0,0,1)\" stroke-miterlimit=\"10\"/>\n",
       "<path d=\"M31.706,33.5171 C31.706,33.5171,34.93,25.4571,41.378,23.8451 M41.378,23.8451 C47.8259,22.2332,67.1697,22.2332,70.3937,23.8451 M70.3937,23.8451 C73.6177,25.4571,60.7218,33.5171,60.7218,33.5171\" fill=\"none\" stroke=\"rgba(0,0,0,1)\" stroke-miterlimit=\"10\"/>\n",
       "<path d=\"M70.2493,23.8451 C75.0853,23.8451,94.4291,33.5171,99.2651,33.5171\" fill=\"none\" stroke=\"rgba(0,0,0,1)\" stroke-miterlimit=\"10\"/>\n",
       "<path d=\"M89.4488,23.8451 C92.6728,20.6212,105.5687,12.5612,108.7927,14.1732 M108.7927,14.1732 C112.0166,15.7852,112.0166,30.2931,108.7927,33.5171 M108.7927,33.5171 C105.5687,36.741,87.8368,33.5171,89.4488,33.5171 M89.4488,33.5171 C91.0608,33.5171,113.6286,35.129,118.4646,33.5171 M118.4646,33.5171 C123.3005,31.9051,115.2406,27.0691,118.4646,23.8451 M118.4646,23.8451 C121.6885,20.6212,134.5844,12.5612,137.8084,14.1732 M137.8084,14.1732 C141.0324,15.7852,141.0324,30.2931,137.8084,33.5171\" fill=\"none\" stroke=\"rgba(0,0,0,1)\" stroke-miterlimit=\"10\"/>\n",
       "<path d=\"M137.664,33.5171 C139.276,35.129,131.2161,23.8451,127.9921,23.8451 M127.9921,23.8451 C124.7682,23.8451,118.3202,33.5171,118.3202,33.5171 M118.3202,33.5171 C118.3202,33.5171,124.7682,27.0691,127.9921,23.8451 M127.9921,23.8451 C131.2161,20.6212,134.4401,15.7852,137.664,14.1732 M137.664,14.1732 C140.888,12.5612,142.5,10.9493,147.336,14.1732 M147.336,14.1732 C152.1719,17.3972,165.0678,31.9051,166.6798,33.5171 M166.6798,33.5171 C168.2918,35.129,160.2318,23.8451,157.0079,23.8451 M157.0079,23.8451 C153.7839,23.8451,147.336,33.5171,147.336,33.5171 M147.336,33.5171 C147.336,33.5171,153.7839,27.0691,157.0079,23.8451\" fill=\"none\" stroke=\"rgba(0,0,0,1)\" stroke-miterlimit=\"10\"/>\n",
       "<path d=\"M147.1916,33.5171 C145.5796,36.741,148.8036,36.741,156.8635,33.5171 M156.8635,33.5171 C164.9234,30.2931,192.3272,14.1732,195.5512,14.1732 M195.5512,14.1732 C198.7752,14.1732,177.8193,30.2931,176.2073,33.5171\" fill=\"none\" stroke=\"rgba(0,0,0,1)\" stroke-miterlimit=\"10\"/>\n",
       "<path d=\"M195.4068,14.1732 C195.4068,15.7852,182.5109,23.8451,185.7349,23.8451 M185.7349,23.8451 C188.9589,23.8451,208.3027,15.7852,214.7507,14.1732 M214.7507,14.1732 C221.1986,12.5612,224.4226,12.5612,224.4226,14.1732\" fill=\"none\" stroke=\"rgba(0,0,0,1)\" stroke-miterlimit=\"10\"/>\n",
       "<path d=\"M214.6063,33.5171 C212.9943,33.5171,204.9344,33.5171,204.9344,33.5171 M204.9344,33.5171 C204.9344,33.5171,208.1584,33.5171,214.6063,33.5171 M214.6063,33.5171 C221.0542,33.5171,238.7861,33.5171,243.622,33.5171 M243.622,33.5171 C248.458,33.5171,245.234,33.5171,243.622,33.5171 M243.622,33.5171 C242.0101,33.5171,233.9501,33.5171,233.9501,33.5171\" fill=\"none\" stroke=\"rgba(0,0,0,1)\" stroke-miterlimit=\"10\"/>\n",
       "<path d=\"M253.1496,14.1732 C249.9256,14.1732,235.4178,23.8451,233.8058,23.8451 M233.8058,23.8451 C232.1938,23.8451,235.4178,14.1732,243.4777,14.1732 M243.4777,14.1732 C251.5376,14.1732,275.7174,23.8451,282.1654,23.8451 M282.1654,23.8451 C288.6133,23.8451,285.3893,14.1732,282.1654,14.1732 M282.1654,14.1732 C278.9414,14.1732,264.4335,23.8451,262.8215,23.8451\" fill=\"none\" stroke=\"rgba(0,0,0,1)\" stroke-miterlimit=\"10\"/>\n",
       "<path d=\"M262.6772,33.5171 C261.0652,36.741,264.2892,36.741,272.3491,33.5171 M272.3491,33.5171 C280.409,30.2931,307.8128,14.1732,311.0367,14.1732 M311.0367,14.1732 C314.2607,14.1732,293.3049,30.2931,291.6929,33.5171\" fill=\"none\" stroke=\"rgba(0,0,0,1)\" stroke-miterlimit=\"10\"/>\n",
       "<path d=\"M291.5486,23.8451 C293.1605,27.0691,307.6684,33.5171,310.8924,33.5171 M310.8924,33.5171 C314.1164,33.5171,310.8924,23.8451,310.8924,23.8451 M310.8924,23.8451 C310.8924,23.8451,310.8924,35.129,310.8924,33.5171 M310.8924,33.5171 C310.8924,31.9051,307.6684,17.3972,310.8924,14.1732 M310.8924,14.1732 C314.1164,10.9493,328.6242,12.5612,330.2362,14.1732 M330.2362,14.1732 C331.8482,15.7852,318.9523,20.6212,320.5643,23.8451 M320.5643,23.8451 C322.1763,27.0691,336.6842,33.5171,339.9081,33.5171 M339.9081,33.5171 C343.1321,33.5171,339.9081,23.8451,339.9081,23.8451 M339.9081,23.8451 C339.9081,23.8451,339.9081,35.129,339.9081,33.5171\" fill=\"none\" stroke=\"rgba(0,0,0,1)\" stroke-miterlimit=\"10\"/>\n",
       "<path d=\"M330.0919,23.8451 C334.9278,23.8451,354.2717,33.5171,359.1076,33.5171\" fill=\"none\" stroke=\"rgba(0,0,0,1)\" stroke-miterlimit=\"10\"/>\n",
       "<path d=\"M358.9633,23.8451 C363.7992,23.8451,383.143,33.5171,387.979,33.5171\" fill=\"none\" stroke=\"rgba(0,0,0,1)\" stroke-miterlimit=\"10\"/>\n",
       "<path d=\"M378.1627,23.8451 C381.3867,20.6212,394.2826,12.5612,397.5066,14.1732 M397.5066,14.1732 C400.7305,15.7852,400.7305,30.2931,397.5066,33.5171 M397.5066,33.5171 C394.2826,36.741,376.5507,33.5171,378.1627,33.5171 M378.1627,33.5171 C379.7747,33.5171,402.3425,35.129,407.1785,33.5171 M407.1785,33.5171 C412.0144,31.9051,403.9545,27.0691,407.1785,23.8451 M407.1785,23.8451 C410.4024,20.6212,423.2983,12.5612,426.5223,14.1732 M426.5223,14.1732 C429.7463,15.7852,429.7463,30.2931,426.5223,33.5171\" fill=\"none\" stroke=\"rgba(0,0,0,1)\" stroke-miterlimit=\"10\"/>\n",
       "<path d=\"M426.378,33.5171 C427.9899,35.129,419.93,23.8451,416.706,23.8451 M416.706,23.8451 C413.4821,23.8451,407.0341,33.5171,407.0341,33.5171 M407.0341,33.5171 C407.0341,33.5171,413.4821,27.0691,416.706,23.8451 M416.706,23.8451 C419.93,20.6212,423.154,15.7852,426.378,14.1732 M426.378,14.1732 C429.6019,12.5612,431.2139,10.9493,436.0499,14.1732 M436.0499,14.1732 C440.8858,17.3972,453.7817,31.9051,455.3937,33.5171 M455.3937,33.5171 C457.0057,35.129,448.9458,23.8451,445.7218,23.8451 M445.7218,23.8451 C442.4978,23.8451,436.0499,33.5171,436.0499,33.5171 M436.0499,33.5171 C436.0499,33.5171,442.4978,27.0691,445.7218,23.8451\" fill=\"none\" stroke=\"rgba(0,0,0,1)\" stroke-miterlimit=\"10\"/>\n",
       "<path d=\"M435.9055,33.5171 C434.2935,36.741,437.5175,36.741,445.5774,33.5171 M445.5774,33.5171 C453.6374,30.2931,481.0411,14.1732,484.2651,14.1732 M484.2651,14.1732 C487.4891,14.1732,466.5332,30.2931,464.9213,33.5171\" fill=\"none\" stroke=\"rgba(0,0,0,1)\" stroke-miterlimit=\"10\"/>\n",
       "<path d=\"M484.1207,33.5171 C485.7327,35.129,477.6728,23.8451,474.4488,23.8451 M474.4488,23.8451 C471.2248,23.8451,464.7769,33.5171,464.7769,33.5171 M464.7769,33.5171 C464.7769,33.5171,471.2248,27.0691,474.4488,23.8451 M474.4488,23.8451 C477.6728,20.6212,480.8968,15.7852,484.1207,14.1732 M484.1207,14.1732 C487.3447,12.5612,488.9567,10.9493,493.7927,14.1732 M493.7927,14.1732 C498.6286,17.3972,511.5245,31.9051,513.1365,33.5171 M513.1365,33.5171 C514.7485,35.129,506.6885,23.8451,503.4646,23.8451 M503.4646,23.8451 C500.2406,23.8451,493.7927,33.5171,493.7927,33.5171 M493.7927,33.5171 C493.7927,33.5171,500.2406,27.0691,503.4646,23.8451\" fill=\"none\" stroke=\"rgba(0,0,0,1)\" stroke-miterlimit=\"10\"/>\n",
       "<path d=\"M503.3202,33.5171 C501.7082,33.5171,493.6483,33.5171,493.6483,33.5171 M493.6483,33.5171 C493.6483,33.5171,496.8723,33.5171,503.3202,33.5171 M503.3202,33.5171 C509.7682,33.5171,527.5,33.5171,532.336,33.5171 M532.336,33.5171 C537.1719,33.5171,533.9479,33.5171,532.336,33.5171 M532.336,33.5171 C530.724,33.5171,522.664,33.5171,522.664,33.5171\" fill=\"none\" stroke=\"rgba(0,0,0,1)\" stroke-miterlimit=\"10\"/>\n",
       "<path d=\"M541.8635,14.1732 C538.6395,14.1732,524.1317,23.8451,522.5197,23.8451 M522.5197,23.8451 C520.9077,23.8451,524.1317,14.1732,532.1916,14.1732 M532.1916,14.1732 C540.2515,14.1732,564.4313,23.8451,570.8793,23.8451 M570.8793,23.8451 C577.3272,23.8451,574.1032,14.1732,570.8793,14.1732 M570.8793,14.1732 C567.6553,14.1732,553.1474,23.8451,551.5354,23.8451\" fill=\"none\" stroke=\"rgba(0,0,0,1)\" stroke-miterlimit=\"10\"/>\n",
       "<path d=\"M551.3911,33.5171 C549.7791,36.741,553.0031,36.741,561.063,33.5171 M561.063,33.5171 C569.1229,30.2931,596.5267,14.1732,599.7507,14.1732 M599.7507,14.1732 C602.9746,14.1732,582.0188,30.2931,580.4068,33.5171\" fill=\"none\" stroke=\"rgba(0,0,0,1)\" stroke-miterlimit=\"10\"/>\n",
       "<path d=\"M580.2625,23.8451 C581.8745,27.0691,596.3823,33.5171,599.6063,33.5171 M599.6063,33.5171 C602.8303,33.5171,599.6063,23.8451,599.6063,23.8451 M599.6063,23.8451 C599.6063,23.8451,599.6063,35.129,599.6063,33.5171 M599.6063,33.5171 C599.6063,31.9051,596.3823,17.3972,599.6063,14.1732 M599.6063,14.1732 C602.8303,10.9493,617.3381,12.5612,618.9501,14.1732 M618.9501,14.1732 C620.5621,15.7852,607.6662,20.6212,609.2782,23.8451 M609.2782,23.8451 C610.8902,27.0691,625.3981,33.5171,628.622,33.5171 M628.622,33.5171 C631.846,33.5171,628.622,23.8451,628.622,23.8451 M628.622,23.8451 C628.622,23.8451,628.622,35.129,628.622,33.5171\" fill=\"none\" stroke=\"rgba(0,0,0,1)\" stroke-miterlimit=\"10\"/>\n",
       "<path d=\"M618.8058,23.8451 C623.6417,23.8451,642.9856,33.5171,647.8215,33.5171\" fill=\"none\" stroke=\"rgba(0,0,0,1)\" stroke-miterlimit=\"10\"/>\n",
       "<path d=\"M647.6772,23.8451 C652.5131,23.8451,671.857,33.5171,676.6929,33.5171\" fill=\"none\" stroke=\"rgba(0,0,0,1)\" stroke-miterlimit=\"10\"/>\n",
       "<path d=\"M676.5486,33.5171 C676.5486,30.2931,686.2205,17.3972,686.2205,14.1732 M686.2205,14.1732 C686.2205,10.9493,678.1605,14.1732,676.5486,14.1732 M676.5486,14.1732 C674.9366,14.1732,670.1006,10.9493,676.5486,14.1732 M676.5486,14.1732 C682.9965,17.3972,710.4003,30.2931,715.2362,33.5171 M715.2362,33.5171 C720.0722,36.741,705.5643,36.741,705.5643,33.5171 M705.5643,33.5171 C705.5643,30.2931,715.2362,17.3972,715.2362,14.1732 M715.2362,14.1732 C715.2362,10.9493,707.1763,14.1732,705.5643,14.1732\" fill=\"none\" stroke=\"rgba(0,0,0,1)\" stroke-miterlimit=\"10\"/>\n",
       "<path d=\"M695.748,33.5171 C695.748,33.5171,698.972,25.4571,705.4199,23.8451 M705.4199,23.8451 C711.8679,22.2332,731.2117,22.2332,734.4357,23.8451 M734.4357,23.8451 C737.6597,25.4571,724.7638,33.5171,724.7638,33.5171\" fill=\"none\" stroke=\"rgba(0,0,0,1)\" stroke-miterlimit=\"10\"/>\n",
       "<path d=\"M724.6194,23.8451 C726.2314,27.0691,740.7393,33.5171,743.9633,33.5171 M743.9633,33.5171 C747.1872,33.5171,743.9633,23.8451,743.9633,23.8451 M743.9633,23.8451 C743.9633,23.8451,743.9633,35.129,743.9633,33.5171 M743.9633,33.5171 C743.9633,31.9051,740.7393,17.3972,743.9633,14.1732 M743.9633,14.1732 C747.1872,10.9493,761.6951,12.5612,763.3071,14.1732 M763.3071,14.1732 C764.9191,15.7852,752.0232,20.6212,753.6352,23.8451 M753.6352,23.8451 C755.2472,27.0691,769.755,33.5171,772.979,33.5171 M772.979,33.5171 C776.203,33.5171,772.979,23.8451,772.979,23.8451 M772.979,23.8451 C772.979,23.8451,772.979,35.129,772.979,33.5171\" fill=\"none\" stroke=\"rgba(0,0,0,1)\" stroke-miterlimit=\"10\"/>\n",
       "<path d=\"M763.1627,23.8451 C767.9987,23.8451,787.3425,33.5171,792.1785,33.5171\" fill=\"none\" stroke=\"rgba(0,0,0,1)\" stroke-miterlimit=\"10\"/>\n",
       "<path d=\"M782.3622,23.8451 C785.5862,20.6212,798.4821,12.5612,801.706,14.1732 M801.706,14.1732 C804.93,15.7852,804.93,30.2931,801.706,33.5171 M801.706,33.5171 C798.4821,36.741,780.7502,33.5171,782.3622,33.5171 M782.3622,33.5171 C783.9742,33.5171,806.542,35.129,811.378,33.5171 M811.378,33.5171 C816.2139,31.9051,808.154,27.0691,811.378,23.8451 M811.378,23.8451 C814.6019,20.6212,827.4978,12.5612,830.7218,14.1732 M830.7218,14.1732 C833.9458,15.7852,833.9458,30.2931,830.7218,33.5171\" fill=\"none\" stroke=\"rgba(0,0,0,1)\" stroke-miterlimit=\"10\"/>\n",
       "<path d=\"M820.9055,33.5171 C820.9055,30.2931,830.5774,17.3972,830.5774,14.1732 M830.5774,14.1732 C830.5774,10.9493,822.5175,14.1732,820.9055,14.1732 M820.9055,14.1732 C819.2935,14.1732,814.4576,10.9493,820.9055,14.1732 M820.9055,14.1732 C827.3535,17.3972,854.7572,30.2931,859.5932,33.5171 M859.5932,33.5171 C864.4291,36.741,849.9213,36.741,849.9213,33.5171 M849.9213,33.5171 C849.9213,30.2931,859.5932,17.3972,859.5932,14.1732 M859.5932,14.1732 C859.5932,10.9493,851.5332,14.1732,849.9213,14.1732\" fill=\"none\" stroke=\"rgba(0,0,0,1)\" stroke-miterlimit=\"10\"/>\n",
       "<path d=\"M859.4488,33.5171 C859.4488,36.741,859.4488,35.129,859.4488,33.5171 M859.4488,33.5171 C859.4488,31.9051,862.6728,25.4571,859.4488,23.8451 M859.4488,23.8451 C856.2248,22.2332,835.269,25.4571,840.105,23.8451 M840.105,23.8451 C844.9409,22.2332,880.4046,12.5612,888.4646,14.1732 M888.4646,14.1732 C896.5245,15.7852,888.4646,30.2931,888.4646,33.5171 M888.4646,33.5171 C888.4646,36.741,888.4646,35.129,888.4646,33.5171 M888.4646,33.5171 C888.4646,31.9051,891.6885,25.4571,888.4646,23.8451\" fill=\"none\" stroke=\"rgba(0,0,0,1)\" stroke-miterlimit=\"10\"/>\n",
       "<path d=\"M888.3202,33.5171 C891.5442,33.5171,888.3202,17.3972,888.3202,14.1732 M888.3202,14.1732 C888.3202,10.9493,886.7082,14.1732,888.3202,14.1732 M888.3202,14.1732 C889.9322,14.1732,893.1562,10.9493,897.9921,14.1732 M897.9921,14.1732 C902.8281,17.3972,914.112,33.5171,917.336,33.5171 M917.336,33.5171 C920.5599,33.5171,917.336,17.3972,917.336,14.1732\" fill=\"none\" stroke=\"rgba(0,0,0,1)\" stroke-miterlimit=\"10\"/>\n",
       "<path d=\"M907.5197,14.1732 C907.5197,15.7852,907.5197,23.8451,907.5197,23.8451 M907.5197,23.8451 C907.5197,23.8451,902.6837,15.7852,907.5197,14.1732 M907.5197,14.1732 C912.3556,12.5612,931.6995,14.1732,936.5354,14.1732 M936.5354,14.1732 C941.3714,14.1732,936.5354,12.5612,936.5354,14.1732 M936.5354,14.1732 C936.5354,15.7852,936.5354,23.8451,936.5354,23.8451\" fill=\"none\" stroke=\"rgba(0,0,0,1)\" stroke-miterlimit=\"10\"/>\n",
       "<path d=\"M926.7192,23.8451 C929.9431,20.6212,942.839,12.5612,946.063,14.1732 M946.063,14.1732 C949.287,15.7852,949.287,30.2931,946.063,33.5171 M946.063,33.5171 C942.839,36.741,925.1072,33.5171,926.7192,33.5171 M926.7192,33.5171 C928.3311,33.5171,950.899,35.129,955.7349,33.5171 M955.7349,33.5171 C960.5709,31.9051,952.5109,27.0691,955.7349,23.8451 M955.7349,23.8451 C958.9589,20.6212,971.8548,12.5612,975.0787,14.1732 M975.0787,14.1732 C978.3027,15.7852,978.3027,30.2931,975.0787,33.5171\" fill=\"none\" stroke=\"rgba(0,0,0,1)\" stroke-miterlimit=\"10\"/>\n",
       "<path d=\"M974.9344,23.8451 C976.5464,25.4571,974.9344,35.129,974.9344,33.5171 M974.9344,33.5171 C974.9344,31.9051,971.7104,15.7852,974.9344,14.1732 M974.9344,14.1732 C978.1584,12.5612,989.4423,22.2332,994.2782,23.8451 M994.2782,23.8451 C999.1142,25.4571,1002.3381,22.2332,1003.9501,23.8451 M1003.9501,23.8451 C1005.5621,25.4571,1003.9501,35.129,1003.9501,33.5171\" fill=\"none\" stroke=\"rgba(0,0,0,1)\" stroke-miterlimit=\"10\"/>\n",
       "<path d=\"M984.4619,33.5171 C982.85,36.741,986.0739,36.741,994.1339,33.5171 M994.1339,33.5171 C1002.1938,30.2931,1029.5976,14.1732,1032.8215,14.1732 M1032.8215,14.1732 C1036.0455,14.1732,1015.0897,30.2931,1013.4777,33.5171\" fill=\"none\" stroke=\"rgba(0,0,0,1)\" stroke-miterlimit=\"10\"/>\n",
       "<path d=\"M1032.6772,33.5171 C1034.2892,35.129,1026.2292,23.8451,1023.0052,23.8451 M1023.0052,23.8451 C1019.7813,23.8451,1013.3333,33.5171,1013.3333,33.5171 M1013.3333,33.5171 C1013.3333,33.5171,1019.7813,27.0691,1023.0052,23.8451 M1023.0052,23.8451 C1026.2292,20.6212,1029.4532,15.7852,1032.6772,14.1732 M1032.6772,14.1732 C1035.9011,12.5612,1037.5131,10.9493,1042.3491,14.1732 M1042.3491,14.1732 C1047.185,17.3972,1060.0809,31.9051,1061.6929,33.5171 M1061.6929,33.5171 C1063.3049,35.129,1055.245,23.8451,1052.021,23.8451 M1052.021,23.8451 C1048.797,23.8451,1042.3491,33.5171,1042.3491,33.5171 M1042.3491,33.5171 C1042.3491,33.5171,1048.797,27.0691,1052.021,23.8451\" fill=\"none\" stroke=\"rgba(0,0,0,1)\" stroke-miterlimit=\"10\"/>\n",
       "<path d=\"M1051.8766,23.8451 C1056.7126,23.8451,1076.0564,33.5171,1080.8924,33.5171\" fill=\"none\" stroke=\"rgba(0,0,0,1)\" stroke-miterlimit=\"10\"/>\n",
       "<path d=\"M1080.748,23.8451 C1085.584,23.8451,1104.9278,33.5171,1109.7638,33.5171\" fill=\"none\" stroke=\"rgba(0,0,0,1)\" stroke-miterlimit=\"10\"/>\n",
       "<path d=\"M1099.9475,23.8451 C1103.1715,20.6212,1116.0674,12.5612,1119.2913,14.1732 M1119.2913,14.1732 C1122.5153,15.7852,1122.5153,30.2931,1119.2913,33.5171 M1119.2913,33.5171 C1116.0674,36.741,1098.3355,33.5171,1099.9475,33.5171 M1099.9475,33.5171 C1101.5595,33.5171,1124.1273,35.129,1128.9633,33.5171 M1128.9633,33.5171 C1133.7992,31.9051,1125.7393,27.0691,1128.9633,23.8451 M1128.9633,23.8451 C1132.1872,20.6212,1145.0831,12.5612,1148.3071,14.1732 M1148.3071,14.1732 C1151.5311,15.7852,1151.5311,30.2931,1148.3071,33.5171\" fill=\"none\" stroke=\"rgba(0,0,0,1)\" stroke-miterlimit=\"10\"/>\n",
       "<path d=\"M1138.4908,23.8451 C1138.4908,23.8451,1130.4309,15.7852,1128.8189,14.1732 M1128.8189,14.1732 C1127.2069,12.5612,1123.9829,14.1732,1128.8189,14.1732 M1128.8189,14.1732 C1133.6549,14.1732,1151.3867,12.5612,1157.8346,14.1732 M1157.8346,14.1732 C1164.2826,15.7852,1167.5066,23.8451,1167.5066,23.8451 M1167.5066,23.8451 C1167.5066,23.8451,1159.4466,15.7852,1157.8346,14.1732\" fill=\"none\" stroke=\"rgba(0,0,0,1)\" stroke-miterlimit=\"10\"/>\n",
       "<path d=\"M1157.6903,33.5171 C1156.0783,36.741,1159.3023,36.741,1167.3622,33.5171 M1167.3622,33.5171 C1175.4221,30.2931,1202.8259,14.1732,1206.0499,14.1732 M1206.0499,14.1732 C1209.2738,14.1732,1188.318,30.2931,1186.706,33.5171\" fill=\"none\" stroke=\"rgba(0,0,0,1)\" stroke-miterlimit=\"10\"/>\n",
       "<path d=\"M1186.5617,33.5171 C1184.9497,36.741,1188.1737,36.741,1196.2336,33.5171 M1196.2336,33.5171 C1204.2935,30.2931,1231.6973,14.1732,1234.9213,14.1732 M1234.9213,14.1732 C1238.1452,14.1732,1217.1894,30.2931,1215.5774,33.5171\" fill=\"none\" stroke=\"rgba(0,0,0,1)\" stroke-miterlimit=\"10\"/>\n",
       "<path d=\"M1234.7769,23.8451 C1236.3889,25.4571,1234.7769,35.129,1234.7769,33.5171 M1234.7769,33.5171 C1234.7769,31.9051,1231.5529,15.7852,1234.7769,14.1732 M1234.7769,14.1732 C1238.0009,12.5612,1249.2848,22.2332,1254.1207,23.8451 M1254.1207,23.8451 C1258.9567,25.4571,1262.1807,22.2332,1263.7927,23.8451 M1263.7927,23.8451 C1265.4046,25.4571,1263.7927,35.129,1263.7927,33.5171\" fill=\"none\" stroke=\"rgba(0,0,0,1)\" stroke-miterlimit=\"10\"/>\n",
       "</svg>"
      ],
      "text/plain": [
       "<IPython.core.display.SVG object>"
      ]
     },
     "metadata": {},
     "output_type": "display_data"
    }
   ],
   "source": [
    "size = 275\n",
    "d = document(500, 75, 'mm')\n",
    "page = d.addpage()\n",
    "curve_fig = shape().stroke(rgba(0, 0, 0, 255)).nofill()\n",
    "grid_n = len(alpha_s)\n",
    "grid_size = size / grid_n\n",
    "for i in range(len(pline_final3)):\n",
    "    char_pline = pline_final4[i] + pline_final4[i].translate(1.5, 0)\n",
    "    char_pline = char_pline.scale(grid_size*0.67).translate(1+i*grid_size, 5)\n",
    "    page.place(curve_fig.path(char_pline.smooth_path()))\n",
    "    \n",
    "show(page)"
   ]
  }
 ],
 "metadata": {
  "kernelspec": {
   "display_name": "Python 3",
   "language": "python",
   "name": "python3"
  },
  "language_info": {
   "codemirror_mode": {
    "name": "ipython",
    "version": 3
   },
   "file_extension": ".py",
   "mimetype": "text/x-python",
   "name": "python",
   "nbconvert_exporter": "python",
   "pygments_lexer": "ipython3",
   "version": "3.7.4"
  }
 },
 "nbformat": 4,
 "nbformat_minor": 2
}
