{
 "cells": [
  {
   "cell_type": "markdown",
   "metadata": {},
   "source": [
    "## Final Project Proposal"
   ]
  },
  {
   "cell_type": "markdown",
   "metadata": {},
   "source": [
    "Throughout this course, I have been focused on the abstraction of the text, figuring out the ways to yet retain the rhythmical tension created by repeating pattern of texts.\n",
    "\n",
    "As a continuation of week <a href=\"https://github.com/TTurbo0824/material-of-language/blob/master/Week06_Assignment.ipynb\">6</a>, <a href=\"https://github.com/TTurbo0824/material-of-language/blob/master/Week07_Assignment.ipynb\">7</a> and\n",
    "<a href=\"https://github.com/aparrish/material-of-language/blob/master/interactive-widgets.ipynb\">8</a> assignment, I would like to keep investigating such abstraction, turning text into a pure visual form, which is not readillegible to human eyes.\n",
    "\n",
    "I will use the lyrics from <i>Rain in Spain</i> or other tougue twisters as a subject of abstraction.\n"
   ]
  },
  {
   "cell_type": "markdown",
   "metadata": {},
   "source": [
    "For interaction, I currently plan to add slider bar or other interactive tools introduced in Allison's notebook\n",
    "<a href=\"https://github.com/aparrish/material-of-language/blob/master/interactive-widgets.ipynb\">Interactive Widgets</a> to allow users to alter the degree of abstraction."
   ]
  },
  {
   "cell_type": "markdown",
   "metadata": {},
   "source": [
    "In assignment 6, I laid out each word manually with photoshop; for the final project, my plan is to align them more elegantly with a proper line of code."
   ]
  },
  {
   "cell_type": "markdown",
   "metadata": {},
   "source": [
    "<i>Final result of week 6 assignment, manually modified with photoshop</i>\n",
    "<img src=\"https://raw.githubusercontent.com/TTurbo0824/material-of-language/master/img/wk6_1.jpg\">"
   ]
  },
  {
   "cell_type": "markdown",
   "metadata": {},
   "source": [
    "In terms of visual design, I'm more intrigued by a more rigid execution something like I experiment in week 7 assignment."
   ]
  },
  {
   "cell_type": "markdown",
   "metadata": {},
   "source": [
    "<img src=\"https://raw.githubusercontent.com/TTurbo0824/material-of-language/master/img/wk11_1.jpg\">"
   ]
  },
  {
   "cell_type": "markdown",
   "metadata": {},
   "source": [
    "<hr class=\"solid\">"
   ]
  },
  {
   "cell_type": "code",
   "execution_count": 10,
   "metadata": {},
   "outputs": [],
   "source": [
    "# From week 6 assignment\n",
    "\n",
    "def make_char(a):\n",
    "    pts = []\n",
    "    for i in range(int(t_normal(2*a+3, 2*a+4, 8, 2))):\n",
    "        x = (choice([0, 0.5, 1]))\n",
    "        y = (choice([0, 0.5, 1]))\n",
    "        pts.append([x, y])\n",
    "    return Polyline(pts)"
   ]
  },
  {
   "cell_type": "markdown",
   "metadata": {},
   "source": [
    "The above function currently determines the number of points that corresponds to the number of strokes each alphabet letter has. One idea is to replace the fixed number (i.e. 3 in 2*a+3) with a variable that can be transformed in the slider widget. Thus the users can witness the changes in complexity in form. "
   ]
  }
 ],
 "metadata": {
  "kernelspec": {
   "display_name": "Python 3",
   "language": "python",
   "name": "python3"
  },
  "language_info": {
   "codemirror_mode": {
    "name": "ipython",
    "version": 3
   },
   "file_extension": ".py",
   "mimetype": "text/x-python",
   "name": "python",
   "nbconvert_exporter": "python",
   "pygments_lexer": "ipython3",
   "version": "3.7.4"
  }
 },
 "nbformat": 4,
 "nbformat_minor": 2
}
