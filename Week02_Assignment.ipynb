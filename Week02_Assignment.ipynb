{
 "cells": [
  {
   "cell_type": "markdown",
   "metadata": {},
   "source": [
    "# Week 02 Assignment\n",
    "By KJ Ha"
   ]
  },
  {
   "cell_type": "markdown",
   "metadata": {},
   "source": [
    "<i>Hysteria</i> by T. S. Eliot & <i>Infant Joy</i> by William Blake"
   ]
  },
  {
   "cell_type": "markdown",
   "metadata": {},
   "source": [
    "Read `hysteria.txt` and `infant_joy.txt` files into variables called `text_1` and `text_2`"
   ]
  },
  {
   "cell_type": "code",
   "execution_count": 220,
   "metadata": {},
   "outputs": [],
   "source": [
    "text_1 = open('hysteria.txt').read()\n",
    "text_2 = open('infant_joy.txt').read()"
   ]
  },
  {
   "cell_type": "code",
   "execution_count": 221,
   "metadata": {},
   "outputs": [
    {
     "name": "stdout",
     "output_type": "stream",
     "text": [
      "As she laughed I was aware of becoming involved in her laughter and being part of it, until her teeth were only accidental stars with a talent for squad-drill. I was drawn in by short gasps, inhaled at each momentary recovery, lost finally in the dark caverns of her throat, bruised by the ripple of unseen muscles. An elderly waiter with trembling hands was hurriedly spreading a pink and white checked cloth over the rusty green iron table, saying: “If the lady and gentleman wish to take their tea in the garden, if the lady and gentleman wish to take their tea in the garden ...” I decided that if the shaking of her breasts could be stopped, some of the fragments of the afternoon might be collected, and I concentrated my attention with careful subtlety to this end.\n"
     ]
    }
   ],
   "source": [
    "print(text_1)"
   ]
  },
  {
   "cell_type": "code",
   "execution_count": 222,
   "metadata": {},
   "outputs": [
    {
     "name": "stdout",
     "output_type": "stream",
     "text": [
      "I have no name \n",
      "I am but two days old.— \n",
      "What shall I call thee?\n",
      "I happy am \n",
      "Joy is my name,— \n",
      "Sweet joy befall thee!\n",
      "\n",
      "Pretty joy!\n",
      "Sweet joy but two days old,\n",
      "Sweet joy I call thee; \n",
      "Thou dost smile. \n",
      "I sing the while \n",
      "Sweet joy befall thee. \n"
     ]
    }
   ],
   "source": [
    "print(text_2)"
   ]
  },
  {
   "cell_type": "markdown",
   "metadata": {},
   "source": [
    "Combine two text files"
   ]
  },
  {
   "cell_type": "code",
   "execution_count": 223,
   "metadata": {
    "scrolled": true
   },
   "outputs": [
    {
     "data": {
      "text/plain": [
       "'As she laughed I was aware of becoming involved in her laughter and being part of it, until her teeth were only accidental stars with a talent for squad-drill. I was drawn in by short gasps, inhaled at each momentary recovery, lost finally in the dark caverns of her throat, bruised by the ripple of unseen muscles. An elderly waiter with trembling hands was hurriedly spreading a pink and white checked cloth over the rusty green iron table, saying: “If the lady and gentleman wish to take their tea in the garden, if the lady and gentleman wish to take their tea in the garden ...” I decided that if the shaking of her breasts could be stopped, some of the fragments of the afternoon might be collected, and I concentrated my attention with careful subtlety to this end.I have no name \\nI am but two days old.— \\nWhat shall I call thee?\\nI happy am \\nJoy is my name,— \\nSweet joy befall thee!\\n\\nPretty joy!\\nSweet joy but two days old,\\nSweet joy I call thee; \\nThou dost smile. \\nI sing the while \\nSweet joy befall thee. '"
      ]
     },
     "execution_count": 223,
     "metadata": {},
     "output_type": "execute_result"
    }
   ],
   "source": [
    "text = text_1 + text_2\n",
    "text"
   ]
  },
  {
   "cell_type": "code",
   "execution_count": 224,
   "metadata": {},
   "outputs": [
    {
     "data": {
      "text/plain": [
       "1014"
      ]
     },
     "execution_count": 224,
     "metadata": {},
     "output_type": "execute_result"
    }
   ],
   "source": [
    "len(text)"
   ]
  },
  {
   "cell_type": "code",
   "execution_count": 225,
   "metadata": {},
   "outputs": [],
   "source": [
    "message_1 = text_1.split()"
   ]
  },
  {
   "cell_type": "code",
   "execution_count": 226,
   "metadata": {
    "scrolled": true
   },
   "outputs": [
    {
     "name": "stdout",
     "output_type": "stream",
     "text": [
      "['As', 'she', 'laughed', 'I', 'was', 'aware', 'of', 'becoming', 'involved', 'in', 'her', 'laughter', 'and', 'being', 'part', 'of', 'it,', 'until', 'her', 'teeth', 'were', 'only', 'accidental', 'stars', 'with', 'a', 'talent', 'for', 'squad-drill.', 'I', 'was', 'drawn', 'in', 'by', 'short', 'gasps,', 'inhaled', 'at', 'each', 'momentary', 'recovery,', 'lost', 'finally', 'in', 'the', 'dark', 'caverns', 'of', 'her', 'throat,', 'bruised', 'by', 'the', 'ripple', 'of', 'unseen', 'muscles.', 'An', 'elderly', 'waiter', 'with', 'trembling', 'hands', 'was', 'hurriedly', 'spreading', 'a', 'pink', 'and', 'white', 'checked', 'cloth', 'over', 'the', 'rusty', 'green', 'iron', 'table,', 'saying:', '“If', 'the', 'lady', 'and', 'gentleman', 'wish', 'to', 'take', 'their', 'tea', 'in', 'the', 'garden,', 'if', 'the', 'lady', 'and', 'gentleman', 'wish', 'to', 'take', 'their', 'tea', 'in', 'the', 'garden', '...”', 'I', 'decided', 'that', 'if', 'the', 'shaking', 'of', 'her', 'breasts', 'could', 'be', 'stopped,', 'some', 'of', 'the', 'fragments', 'of', 'the', 'afternoon', 'might', 'be', 'collected,', 'and', 'I', 'concentrated', 'my', 'attention', 'with', 'careful', 'subtlety', 'to', 'this', 'end.'] 139\n"
     ]
    }
   ],
   "source": [
    "print(message_1, len(message_1))"
   ]
  },
  {
   "cell_type": "code",
   "execution_count": 227,
   "metadata": {},
   "outputs": [
    {
     "name": "stdout",
     "output_type": "stream",
     "text": [
      "As 2\n",
      "she 3\n",
      "laughed 7\n",
      "I 1\n",
      "was 3\n",
      "aware 5\n",
      "of 2\n",
      "becoming 8\n",
      "involved 8\n",
      "in 2\n",
      "her 3\n",
      "laughter 8\n",
      "and 3\n",
      "being 5\n",
      "part 4\n",
      "of 2\n",
      "it, 3\n",
      "until 5\n",
      "her 3\n",
      "teeth 5\n",
      "were 4\n",
      "only 4\n",
      "accidental 10\n",
      "stars 5\n",
      "with 4\n",
      "a 1\n",
      "talent 6\n",
      "for 3\n",
      "squad-drill. 12\n",
      "I 1\n",
      "was 3\n",
      "drawn 5\n",
      "in 2\n",
      "by 2\n",
      "short 5\n",
      "gasps, 6\n",
      "inhaled 7\n",
      "at 2\n",
      "each 4\n",
      "momentary 9\n",
      "recovery, 9\n",
      "lost 4\n",
      "finally 7\n",
      "in 2\n",
      "the 3\n",
      "dark 4\n",
      "caverns 7\n",
      "of 2\n",
      "her 3\n",
      "throat, 7\n",
      "bruised 7\n",
      "by 2\n",
      "the 3\n",
      "ripple 6\n",
      "of 2\n",
      "unseen 6\n",
      "muscles. 8\n",
      "An 2\n",
      "elderly 7\n",
      "waiter 6\n",
      "with 4\n",
      "trembling 9\n",
      "hands 5\n",
      "was 3\n",
      "hurriedly 9\n",
      "spreading 9\n",
      "a 1\n",
      "pink 4\n",
      "and 3\n",
      "white 5\n",
      "checked 7\n",
      "cloth 5\n",
      "over 4\n",
      "the 3\n",
      "rusty 5\n",
      "green 5\n",
      "iron 4\n",
      "table, 6\n",
      "saying: 7\n",
      "“If 3\n",
      "the 3\n",
      "lady 4\n",
      "and 3\n",
      "gentleman 9\n",
      "wish 4\n",
      "to 2\n",
      "take 4\n",
      "their 5\n",
      "tea 3\n",
      "in 2\n",
      "the 3\n",
      "garden, 7\n",
      "if 2\n",
      "the 3\n",
      "lady 4\n",
      "and 3\n",
      "gentleman 9\n",
      "wish 4\n",
      "to 2\n",
      "take 4\n",
      "their 5\n",
      "tea 3\n",
      "in 2\n",
      "the 3\n",
      "garden 6\n",
      "...” 4\n",
      "I 1\n",
      "decided 7\n",
      "that 4\n",
      "if 2\n",
      "the 3\n",
      "shaking 7\n",
      "of 2\n",
      "her 3\n",
      "breasts 7\n",
      "could 5\n",
      "be 2\n",
      "stopped, 8\n",
      "some 4\n",
      "of 2\n",
      "the 3\n",
      "fragments 9\n",
      "of 2\n",
      "the 3\n",
      "afternoon 9\n",
      "might 5\n",
      "be 2\n",
      "collected, 10\n",
      "and 3\n",
      "I 1\n",
      "concentrated 12\n",
      "my 2\n",
      "attention 9\n",
      "with 4\n",
      "careful 7\n",
      "subtlety 8\n",
      "to 2\n",
      "this 4\n",
      "end. 4\n"
     ]
    }
   ],
   "source": [
    "for item in message_1:\n",
    "    print(item, len(item))"
   ]
  },
  {
   "cell_type": "markdown",
   "metadata": {},
   "source": [
    "Only print the items that have an even number of characters "
   ]
  },
  {
   "cell_type": "code",
   "execution_count": 228,
   "metadata": {},
   "outputs": [
    {
     "name": "stdout",
     "output_type": "stream",
     "text": [
      "As\n",
      "of\n",
      "becoming\n",
      "involved\n",
      "in\n",
      "laughter\n",
      "part\n",
      "of\n",
      "were\n",
      "only\n",
      "accidental\n",
      "with\n",
      "talent\n",
      "squad-drill.\n",
      "in\n",
      "by\n",
      "gasps,\n",
      "at\n",
      "each\n",
      "lost\n",
      "in\n",
      "dark\n",
      "of\n",
      "by\n",
      "ripple\n",
      "of\n",
      "unseen\n",
      "muscles.\n",
      "An\n",
      "waiter\n",
      "with\n",
      "pink\n",
      "over\n",
      "iron\n",
      "table,\n",
      "lady\n",
      "wish\n",
      "to\n",
      "take\n",
      "in\n",
      "if\n",
      "lady\n",
      "wish\n",
      "to\n",
      "take\n",
      "in\n",
      "garden\n",
      "...”\n",
      "that\n",
      "if\n",
      "of\n",
      "be\n",
      "stopped,\n",
      "some\n",
      "of\n",
      "of\n",
      "be\n",
      "collected,\n",
      "concentrated\n",
      "my\n",
      "with\n",
      "subtlety\n",
      "to\n",
      "this\n",
      "end.\n"
     ]
    }
   ],
   "source": [
    "for item in message_1:\n",
    "    if len(item)%2==0:\n",
    "        print(item)"
   ]
  },
  {
   "cell_type": "code",
   "execution_count": 229,
   "metadata": {},
   "outputs": [],
   "source": [
    "message_2 = text_2.split()"
   ]
  },
  {
   "cell_type": "markdown",
   "metadata": {},
   "source": [
    "Only print the items that have an odd number of characters "
   ]
  },
  {
   "cell_type": "code",
   "execution_count": 230,
   "metadata": {},
   "outputs": [
    {
     "name": "stdout",
     "output_type": "stream",
     "text": [
      "I\n",
      "I\n",
      "but\n",
      "two\n",
      "old.—\n",
      "shall\n",
      "I\n",
      "thee?\n",
      "I\n",
      "happy\n",
      "Joy\n",
      "Sweet\n",
      "joy\n",
      "thee!\n",
      "Sweet\n",
      "joy\n",
      "but\n",
      "two\n",
      "Sweet\n",
      "joy\n",
      "I\n",
      "thee;\n",
      "I\n",
      "the\n",
      "while\n",
      "Sweet\n",
      "joy\n",
      "thee.\n"
     ]
    }
   ],
   "source": [
    "for item in message_2:\n",
    "    if len(item)%2==1:\n",
    "        print(item)"
   ]
  },
  {
   "cell_type": "markdown",
   "metadata": {},
   "source": [
    "## Simple exercises"
   ]
  },
  {
   "cell_type": "code",
   "execution_count": 231,
   "metadata": {},
   "outputs": [],
   "source": [
    "import random, math, textwrap, string"
   ]
  },
  {
   "cell_type": "code",
   "execution_count": 232,
   "metadata": {},
   "outputs": [
    {
     "name": "stdout",
     "output_type": "stream",
     "text": [
      "['in', 'Sweet', 'to', 'of', 'waiter', 'the', 'I', 'bruised', 'saying:', 'gasps,', 'call', 'end.I', 'be', 'thee?', 'was', 'I', 'my', 'An', 'joy', 'gentleman', 'and', 'drawn', 'old.—', 'ripple', 'fragments', 'hurriedly', 'and', 'the', 'tea', 'be', 'in', 'tea', 'was', 'were', 'thee;', 'happy', 'could', 'my', 'the', 'the', 'and', 'of', 'decided', 'by', 'recovery,', 'muscles.', 'the', 'breasts', 'until', 'days', 'in', 'Pretty', 'part', 'spreading', 'momentary', 'unseen', 'name', 'laughed', 'I', 'Sweet', 'her', 'careful', 'lady', 'accidental', 'it,', 'with', 'their', 'Sweet', 'might', 'wish', 'joy!', 'finally', 'squad-drill.', 'in', 'over', 'the', 'sing', 'her', 'thee!', 'a', 'dost', 'stopped,', 'the', 'elderly', 'but', '...”', 'shall', 'concentrated', 'Joy', 'of', 'to', 'that', 'I', 'garden,', 'collected,', 'lady', 'her', 'name,—', 'I', 'teeth', 'is', 'of', 'this', 'the', 'while', 'am', 'befall', 'two', 'Thou', 'dark', 'and', 'talent', 'for', 'thee.', 'joy', 'I', 'pink', 'was', 'in', 'Sweet', 'by', 'the', 'each', 'no', 'the']\n"
     ]
    }
   ],
   "source": [
    "random_txt = random.sample(text.split(), 125)\n",
    "print(random_txt)"
   ]
  },
  {
   "cell_type": "code",
   "execution_count": 233,
   "metadata": {},
   "outputs": [
    {
     "name": "stdout",
     "output_type": "stream",
     "text": [
      "in Sweet to of waiter the I bruised saying: gasps, call end.I be thee? was I my An joy gentleman and drawn old.— ripple fragments hurriedly and the tea be in tea was were thee; happy could my the the and of decided by recovery, muscles. the breasts until days in Pretty part spreading momentary unseen name laughed I Sweet her careful lady accidental it, with their Sweet might wish joy! finally squad-drill. in over the sing her thee! a dost stopped, the elderly but ...” shall concentrated Joy of to that I garden, collected, lady her name,— I teeth is of this the while am befall two Thou dark and talent for thee. joy I pink was in Sweet by the each no the\n"
     ]
    }
   ],
   "source": [
    "join_txt = ' '.join(random_txt)\n",
    "print(join_txt)"
   ]
  },
  {
   "cell_type": "markdown",
   "metadata": {},
   "source": [
    "wrap_txt = textwrap.fill(join_txt, 50)\n",
    "print(wrap_txt.capitalize())"
   ]
  },
  {
   "cell_type": "markdown",
   "metadata": {},
   "source": [
    "Sorting words based on the number of characters"
   ]
  },
  {
   "cell_type": "code",
   "execution_count": 249,
   "metadata": {},
   "outputs": [
    {
     "name": "stdout",
     "output_type": "stream",
     "text": [
      "[2, 5, 2, 2, 6, 3, 1, 7, 7, 6, 4, 5, 2, 5, 3, 1, 2, 2, 3, 9, 3, 5, 5, 6, 9, 9, 3, 3, 3, 2, 2, 3, 3, 4, 5, 5, 5, 2, 3, 3, 3, 2, 7, 2, 9, 8, 3, 7, 5, 4, 2, 6, 4, 9, 9, 6, 4, 7, 1, 5, 3, 7, 4, 10, 3, 4, 5, 5, 5, 4, 4, 7, 12, 2, 4, 3, 4, 3, 5, 1, 4, 8, 3, 7, 3, 4, 5, 12, 3, 2, 2, 4, 1, 7, 10, 4, 3, 6, 1, 5, 2, 2, 4, 3, 5, 2, 6, 3, 4, 4, 3, 6, 3, 5, 3, 1, 4, 3, 2, 5, 2, 3, 4, 2, 3]\n"
     ]
    }
   ],
   "source": [
    "list(map(len, wrap_txt.split()))\n",
    "num_txt = [len(x) for x in wrap_txt.split()]\n",
    "print(num_txt)"
   ]
  },
  {
   "cell_type": "code",
   "execution_count": 250,
   "metadata": {},
   "outputs": [
    {
     "name": "stdout",
     "output_type": "stream",
     "text": [
      "  % Total    % Received % Xferd  Average Speed   Time    Time     Time  Current\n",
      "                                 Dload  Upload   Total   Spent    Left  Speed\n",
      "100 1646k  100 1646k    0     0  2048k      0 --:--:-- --:--:-- --:--:-- 2045k\n"
     ]
    }
   ],
   "source": [
    "!curl -L -O https://www.unicode.org/Public/9.0.0/ucd/UnicodeData.txt"
   ]
  },
  {
   "cell_type": "code",
   "execution_count": 251,
   "metadata": {},
   "outputs": [],
   "source": [
    "unicode = []\n",
    "for line in open(\"UnicodeData.txt\"):\n",
    "    line = line.strip()\n",
    "    fields = line.split(';')\n",
    "    row = {\n",
    "        'char': chr(int(fields[0], 16)),\n",
    "        'name': fields[1],\n",
    "        'category': fields[2]\n",
    "    }\n",
    "    unicode.append(row)"
   ]
  },
  {
   "cell_type": "code",
   "execution_count": 253,
   "metadata": {},
   "outputs": [
    {
     "name": "stdout",
     "output_type": "stream",
     "text": [
      "['፦', '∯', '𝤔', '𝤕', '𝨇', '𝨈', '𝨉', '💆', '🕐', '🕑', '🕒', '🕓', '🕔', '🕕', '🕖', '🕗', '🕘', '🕙', '🕚', '🕛', '🕜', '🕝', '🕞', '🕟', '🕠', '🕡', '🕢', '🕣', '🕤', '🕥', '🕦', '🕧', '😁', '😂', '😃', '😄', '😅', '😆', '😇', '😈', '😊', '😋', '😍', '😎', '😓', '😘', '😙', '😚', '😛', '😜', '😝', '😤', '😦', '😮', '😰', '😱', '😶', '😷', '😸', '😹', '😺', '😻', '😼', '😽', '🙄', '🙅', '🙆', '🤒', '🤕', '🤠', '🤦'] 71\n"
     ]
    }
   ],
   "source": [
    "faces = [row['char'] for row in unicode if 'FACE ' in row['name']]\n",
    "print(faces, len(faces))"
   ]
  },
  {
   "cell_type": "markdown",
   "metadata": {},
   "source": [
    "I'll only be using emojis with yellow faces. 😎"
   ]
  },
  {
   "cell_type": "code",
   "execution_count": 313,
   "metadata": {},
   "outputs": [
    {
     "name": "stdout",
     "output_type": "stream",
     "text": [
      "['😁', '😂', '😃', '😄', '😅', '😆', '😇', '😈', '😊', '😋', '😍', '😎', '😓', '😘', '😙', '😚', '😛', '😜', '😝', '😤', '😦', '😮', '😰', '😱', '😶', '😷', '😸', '😹', '😺', '😻', '😼', '😽', '🙄', '🙅', '🙆', '🤒', '🤕', '🤠']\n"
     ]
    }
   ],
   "source": [
    "s_faces = faces[32:70]\n",
    "print(s_faces)"
   ]
  },
  {
   "cell_type": "markdown",
   "metadata": {},
   "source": [
    "Based on the sorted text `num_txt`, translate the text into emojis.<br />Index of `s_faces` corresponds with the number of characters.<br />e.g. the second element in `s_faces` corresponds with the word who has two characters"
   ]
  },
  {
   "cell_type": "code",
   "execution_count": 317,
   "metadata": {},
   "outputs": [
    {
     "name": "stdout",
     "output_type": "stream",
     "text": [
      "😂 2\n",
      "😅 5\n",
      "😂 2\n",
      "😂 2\n",
      "😆 6\n",
      "😃 3\n",
      "😁 1\n",
      "😇 7\n",
      "😇 7\n",
      "😆 6\n",
      "😄 4\n",
      "😅 5\n",
      "😂 2\n",
      "😅 5\n",
      "😃 3\n",
      "😁 1\n",
      "😂 2\n",
      "😂 2\n",
      "😃 3\n",
      "😊 9\n",
      "😃 3\n",
      "😅 5\n",
      "😅 5\n",
      "😆 6\n",
      "😊 9\n",
      "😊 9\n",
      "😃 3\n",
      "😃 3\n",
      "😃 3\n",
      "😂 2\n",
      "😂 2\n",
      "😃 3\n",
      "😃 3\n",
      "😄 4\n",
      "😅 5\n",
      "😅 5\n",
      "😅 5\n",
      "😂 2\n",
      "😃 3\n",
      "😃 3\n",
      "😃 3\n",
      "😂 2\n",
      "😇 7\n",
      "😂 2\n",
      "😊 9\n",
      "😈 8\n",
      "😃 3\n",
      "😇 7\n",
      "😅 5\n",
      "😄 4\n",
      "😂 2\n",
      "😆 6\n",
      "😄 4\n",
      "😊 9\n",
      "😊 9\n",
      "😆 6\n",
      "😄 4\n",
      "😇 7\n",
      "😁 1\n",
      "😅 5\n",
      "😃 3\n",
      "😇 7\n",
      "😄 4\n",
      "😋 10\n",
      "😃 3\n",
      "😄 4\n",
      "😅 5\n",
      "😅 5\n",
      "😅 5\n",
      "😄 4\n",
      "😄 4\n",
      "😇 7\n",
      "😎 12\n",
      "😂 2\n",
      "😄 4\n",
      "😃 3\n",
      "😄 4\n",
      "😃 3\n",
      "😅 5\n",
      "😁 1\n",
      "😄 4\n",
      "😈 8\n",
      "😃 3\n",
      "😇 7\n",
      "😃 3\n",
      "😄 4\n",
      "😅 5\n",
      "😎 12\n",
      "😃 3\n",
      "😂 2\n",
      "😂 2\n",
      "😄 4\n",
      "😁 1\n",
      "😇 7\n",
      "😋 10\n",
      "😄 4\n",
      "😃 3\n",
      "😆 6\n",
      "😁 1\n",
      "😅 5\n",
      "😂 2\n",
      "😂 2\n",
      "😄 4\n",
      "😃 3\n",
      "😅 5\n",
      "😂 2\n",
      "😆 6\n",
      "😃 3\n",
      "😄 4\n",
      "😄 4\n",
      "😃 3\n",
      "😆 6\n",
      "😃 3\n",
      "😅 5\n",
      "😃 3\n",
      "😁 1\n",
      "😄 4\n",
      "😃 3\n",
      "😂 2\n",
      "😅 5\n",
      "😂 2\n",
      "😃 3\n",
      "😄 4\n",
      "😂 2\n",
      "😃 3\n"
     ]
    }
   ],
   "source": [
    "for item in num_txt:\n",
    "    item_new = s_faces[item-1]\n",
    "    print(item_new, item)"
   ]
  },
  {
   "cell_type": "code",
   "execution_count": 321,
   "metadata": {},
   "outputs": [
    {
     "name": "stdout",
     "output_type": "stream",
     "text": [
      "😂😅😂😂😆😃😁😇😇😆😄😅😂😅😃😁😂😂😃😊😃😅😅😆😊😊😃😃😃😂😂😃😃😄😅😅😅😂😃😃😃😂😇😂😊😈😃😇😅😄😂😆😄😊😊😆😄😇😁😅😃😇😄😋😃😄😅😅😅😄😄😇😎😂😄😃😄😃😅😁😄😈😃😇😃😄😅😎😃😂😂😄😁😇😋😄😃😆😁😅😂😂😄😃😅😂😆😃😄😄😃😆😃😅😃😁😄😃😂😅😂😃😄😂😃\n"
     ]
    }
   ],
   "source": [
    "item = [s_faces[item-1] for item in num_txt ]\n",
    "print(''.join(item))"
   ]
  }
 ],
 "metadata": {
  "kernelspec": {
   "display_name": "Python 3",
   "language": "python",
   "name": "python3"
  },
  "language_info": {
   "codemirror_mode": {
    "name": "ipython",
    "version": 3
   },
   "file_extension": ".py",
   "mimetype": "text/x-python",
   "name": "python",
   "nbconvert_exporter": "python",
   "pygments_lexer": "ipython3",
   "version": "3.7.4"
  }
 },
 "nbformat": 4,
 "nbformat_minor": 2
}
