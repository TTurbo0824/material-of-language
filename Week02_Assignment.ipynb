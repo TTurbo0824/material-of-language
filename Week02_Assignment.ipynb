#!/usr/bin/env python
# coding: utf-8

# # Week 02 Assignment
# By KJ Ha

# <i>Hysteria</i> by T. S. Eliot & <i>Infant Joy</i> by William Blake

# Read `hysteria.txt` and `infant_joy.txt` files into variables called `text_1` and `text_2`

# In[220]:


text_1 = open('hysteria.txt').read()
text_2 = open('infant_joy.txt').read()


# In[221]:


print(text_1)


# In[222]:


print(text_2)


# Combine two text files

# In[223]:


text = text_1 + text_2
text


# In[224]:


len(text)


# In[225]:


message_1 = text_1.split()


# In[226]:


print(message_1, len(message_1))


# In[227]:


for item in message_1:
    print(item, len(item))


# Only print the items that have an even number of characters 

# In[228]:


for item in message_1:
    if len(item)%2==0:
        print(item)


# In[229]:


message_2 = text_2.split()


# Only print the items that have an odd number of characters 

# In[230]:


for item in message_2:
    if len(item)%2==1:
        print(item)


# ## Simple exercises

# In[231]:


import random, math, textwrap, string


# In[232]:


random_txt = random.sample(text.split(), 125)
print(random_txt)


# In[233]:


join_txt = ' '.join(random_txt)
print(join_txt)


# wrap_txt = textwrap.fill(join_txt, 50)
# print(wrap_txt.capitalize())

# Sorting words based on the number of characters

# In[249]:


list(map(len, wrap_txt.split()))
num_txt = [len(x) for x in wrap_txt.split()]
print(num_txt)


# In[250]:


get_ipython().system('curl -L -O https://www.unicode.org/Public/9.0.0/ucd/UnicodeData.txt')


# In[251]:


unicode = []
for line in open("UnicodeData.txt"):
    line = line.strip()
    fields = line.split(';')
    row = {
        'char': chr(int(fields[0], 16)),
        'name': fields[1],
        'category': fields[2]
    }
    unicode.append(row)


# In[253]:


faces = [row['char'] for row in unicode if 'FACE ' in row['name']]
print(faces, len(faces))


# I'll only be using the emojis with yellow faces. 😎

# In[313]:


s_faces = faces[32:70]
print(s_faces)


# Based on the sorted text `num_txt`, translate the text into the emojis.<br />Index of `s_faces` corresponds with the number of characters.<br />e.g. the second element in `s_faces` corresponds with the word who has two characters

# In[317]:


for item in num_txt:
    item_new = s_faces[item-1]
    print(item_new, item)


# In[321]:


item = [s_faces[item-1] for item in num_txt ]
print(''.join(item))

