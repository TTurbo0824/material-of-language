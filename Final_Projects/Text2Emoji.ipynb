{
 "cells": [
  {
   "cell_type": "markdown",
   "metadata": {},
   "source": [
    "# Text2Emoji\n",
    "<br>\n",
    "\n",
    "\n",
    "by KJ Ha\n"
   ]
  },
  {
   "cell_type": "markdown",
   "metadata": {},
   "source": [
    "<i>Text2Emoji</i> offers an interactive interface to translate alphabet letters into emojis."
   ]
  },
  {
   "cell_type": "markdown",
   "metadata": {},
   "source": [
    "The below two blocks of code are the simplified version of the original code for faster computation. The rest of the notebook is dedicated to showing documentation of each step in detail."
   ]
  },
  {
   "cell_type": "code",
   "execution_count": 1,
   "metadata": {},
   "outputs": [],
   "source": [
    "import ipywidgets as widgets\n",
    "from IPython.display import display\n",
    "import random\n",
    "\n",
    "\n",
    "alpha = \"abcdefghijklmnopqrstuvwxyz.\"\n",
    "alpha_num = [alpha.index(alpha_num) + 1 for alpha_num in alpha]\n",
    "faces = \"😁😂😃😄😅😆😇😈😊😋😍😎😓😘😙😚😛😜😝😤😦😮😰😱😶😷😸\"\n",
    "\n",
    "def let2num(x):\n",
    "    for i in x:\n",
    "        number = ord(i) - 96\n",
    "        if (number < 0):\n",
    "            number = 27\n",
    "    return number\n",
    "\n",
    "def parsing_text(s):\n",
    "    text = ''\n",
    "    for item in s:\n",
    "        if (item.isalpha()) or (item == ' '):\n",
    "            text+=item\n",
    "    s = text\n",
    "    text_lower = text.lower()\n",
    "    \n",
    "    number = [let2num(line) for line in text_lower]\n",
    "    text_emoji = [faces[item-1] for item in number]\n",
    "    text_final = ''.join(text_emoji)\n",
    "    text_split = text_final.split('😸')\n",
    "    \n",
    "    text_emoji =' '.join(text_split)\n",
    "    return text_emoji"
   ]
  },
  {
   "cell_type": "code",
   "execution_count": 2,
   "metadata": {},
   "outputs": [
    {
     "data": {
      "application/vnd.jupyter.widget-view+json": {
       "model_id": "85a55fb443914a35951f62c26cf258e6",
       "version_major": 2,
       "version_minor": 0
      },
      "text/plain": [
       "interactive(children=(Text(value='', description='Enter text: ', placeholder='type something...'), Output()), …"
      ]
     },
     "metadata": {},
     "output_type": "display_data"
    }
   ],
   "source": [
    "text_input = widgets.Text(\n",
    "        description=\"Enter text: \",\n",
    "        placeholder=\"type something...\")\n",
    "\n",
    "p = widgets.interact(\n",
    "    parsing_text,\n",
    "    s = text_input\n",
    ")"
   ]
  },
  {
   "cell_type": "markdown",
   "metadata": {},
   "source": [
    "<hr class=\"solid\">"
   ]
  },
  {
   "cell_type": "markdown",
   "metadata": {},
   "source": [
    "### Documentation"
   ]
  },
  {
   "cell_type": "code",
   "execution_count": 3,
   "metadata": {},
   "outputs": [],
   "source": [
    "text1 = \"The rain in Spain stays mainly in the plain\"\n",
    "text2 = \"In Hertford, Hereford, and Hampshire, hurricanes hardly happen\""
   ]
  },
  {
   "cell_type": "code",
   "execution_count": 4,
   "metadata": {},
   "outputs": [],
   "source": [
    "# a string of alphabet letters + dot (.)\n",
    "# dot is a placeholder for any characters other than alphabet letters\n",
    "alpha = \"abcdefghijklmnopqrstuvwxyz.\""
   ]
  },
  {
   "cell_type": "code",
   "execution_count": 5,
   "metadata": {},
   "outputs": [
    {
     "name": "stdout",
     "output_type": "stream",
     "text": [
      "[1, 2, 3, 4, 5, 6, 7, 8, 9, 10, 11, 12, 13, 14, 15, 16, 17, 18, 19, 20, 21, 22, 23, 24, 25, 26, 27]\n"
     ]
    }
   ],
   "source": [
    "# indexing alpha\n",
    "alpha_num = [alpha.index(alpha_num) + 1 for alpha_num in alpha]\n",
    "print(alpha_num)"
   ]
  },
  {
   "cell_type": "code",
   "execution_count": 6,
   "metadata": {},
   "outputs": [
    {
     "name": "stdout",
     "output_type": "stream",
     "text": [
      "  % Total    % Received % Xferd  Average Speed   Time    Time     Time  Current\n",
      "                                 Dload  Upload   Total   Spent    Left  Speed\n",
      "100 1646k  100 1646k    0     0   538k      0  0:00:03  0:00:03 --:--:--  538k\n"
     ]
    }
   ],
   "source": [
    "# download UnicodeData database\n",
    "!curl -L -O https://www.unicode.org/Public/9.0.0/ucd/UnicodeData.txt"
   ]
  },
  {
   "cell_type": "code",
   "execution_count": 7,
   "metadata": {},
   "outputs": [],
   "source": [
    "unicode = []\n",
    "for line in open(\"UnicodeData.txt\"):\n",
    "    line = line.strip()\n",
    "    fields = line.split(';')\n",
    "    row = {\n",
    "        'char': chr(int(fields[0], 16)),\n",
    "        'name': fields[1],\n",
    "        'category': fields[2]\n",
    "    }\n",
    "    unicode.append(row)"
   ]
  },
  {
   "cell_type": "markdown",
   "metadata": {},
   "source": [
    "Since I plan to replace all the alphabet letters with the face emojis, I access only emojis that have the word 'FACE' in their names."
   ]
  },
  {
   "cell_type": "code",
   "execution_count": 8,
   "metadata": {},
   "outputs": [
    {
     "name": "stdout",
     "output_type": "stream",
     "text": [
      "['😁', '😂', '😃', '😄', '😅', '😆', '😇', '😈', '😊', '😋', '😍', '😎', '😓', '😘', '😙', '😚', '😛', '😜', '😝', '😤', '😦', '😮', '😰', '😱', '😶', '😷', '😸', '😹', '😺', '😻', '😼', '😽', '🙄', '🙅', '🙆', '🤒', '🤕', '🤠', '🤦']\n"
     ]
    }
   ],
   "source": [
    "emojis = [row['char'] for row in unicode if 'FACE ' in row['name']]\n",
    "face_emojis = emojis[32:71]\n",
    "print(face_emojis)"
   ]
  },
  {
   "cell_type": "code",
   "execution_count": 9,
   "metadata": {},
   "outputs": [
    {
     "name": "stdout",
     "output_type": "stream",
     "text": [
      "😁😂😃😄😅😆😇😈😊😋😍😎😓😘😙😚😛😜😝😤😦😮😰😱😶😷😸\n"
     ]
    }
   ],
   "source": [
    "# turning letters into numbers depending on their index numbers,\n",
    "# then convert those again into emojis at last\n",
    "# please find the block below for visual reference\n",
    "\n",
    "faces = [face_emojis[faces-1] for faces in alpha_num ]\n",
    "print(''.join(faces))"
   ]
  },
  {
   "cell_type": "code",
   "execution_count": 10,
   "metadata": {
    "scrolled": true
   },
   "outputs": [
    {
     "name": "stdout",
     "output_type": "stream",
     "text": [
      "😁 a\n",
      "😂 b\n",
      "😃 c\n",
      "😄 d\n",
      "😅 e\n",
      "😆 f\n",
      "😇 g\n",
      "😈 h\n",
      "😊 i\n",
      "😋 j\n",
      "😍 k\n",
      "😎 l\n",
      "😓 m\n",
      "😘 n\n",
      "😙 o\n",
      "😚 p\n",
      "😛 q\n",
      "😜 r\n",
      "😝 s\n",
      "😤 t\n",
      "😦 u\n",
      "😮 v\n",
      "😰 w\n",
      "😱 x\n",
      "😶 y\n",
      "😷 z\n",
      "😸 .\n"
     ]
    }
   ],
   "source": [
    "for i in range(0, len(alpha)):\n",
    "    print(faces[i], alpha[i])"
   ]
  },
  {
   "cell_type": "code",
   "execution_count": 11,
   "metadata": {},
   "outputs": [],
   "source": [
    "# turn letters in input text into corresponding index numbers\n",
    "def let2num(x):\n",
    "    for i in x:\n",
    "        number = ord(i) - 96\n",
    "        if (number < 0):\n",
    "            number = 27\n",
    "    return number"
   ]
  },
  {
   "cell_type": "code",
   "execution_count": 12,
   "metadata": {},
   "outputs": [],
   "source": [
    "def parsing_text(s):\n",
    "    text = ''\n",
    "    # if the entered character is not an alphabet, exclude it to prevent an error\n",
    "    for item in s:\n",
    "        if (item.isalpha()) or (item == ' '):\n",
    "            text+=item\n",
    "    s = text\n",
    "    \n",
    "    # transform all letters into lowercase letters\n",
    "    text_lower = text.lower()\n",
    "    \n",
    "    number = [let2num(line) for line in text_lower]\n",
    "    text_emoji = [faces[item-1] for item in number]\n",
    "    text_final = ''.join(text_emoji)\n",
    "    text_split = text_final.split('😸')\n",
    "    \n",
    "    return text_split"
   ]
  },
  {
   "cell_type": "markdown",
   "metadata": {},
   "source": [
    "<hr class=\"solid\">"
   ]
  },
  {
   "cell_type": "markdown",
   "metadata": {},
   "source": [
    "### Examples"
   ]
  },
  {
   "cell_type": "markdown",
   "metadata": {},
   "source": [
    "The below blocks are showing some examples of the transition between alphabet letters and emojis"
   ]
  },
  {
   "cell_type": "code",
   "execution_count": 13,
   "metadata": {},
   "outputs": [
    {
     "data": {
      "text/plain": [
       "['😈😅😎😎😙', '😰😙😜😎😄']"
      ]
     },
     "execution_count": 13,
     "metadata": {},
     "output_type": "execute_result"
    }
   ],
   "source": [
    "parsing_text(\"hello world\")"
   ]
  },
  {
   "cell_type": "code",
   "execution_count": 14,
   "metadata": {},
   "outputs": [
    {
     "data": {
      "text/plain": [
       "['😤😈😅', '😜😁😊😘', '😊😘', '😝😚😁😊😘', '😝😤😁😶😝', '😓😁😊😘😎😶', '😊😘', '😤😈😅', '😚😎😁😊😘']"
      ]
     },
     "execution_count": 14,
     "metadata": {},
     "output_type": "execute_result"
    }
   ],
   "source": [
    "# Converting text1: \"The rain in Spain stays mainly in the plain\"\n",
    "parsing_text(text1)"
   ]
  },
  {
   "cell_type": "code",
   "execution_count": 15,
   "metadata": {},
   "outputs": [
    {
     "data": {
      "text/plain": [
       "['😊😘',\n",
       " '😈😅😜😤😆😙😜😄',\n",
       " '😈😅😜😅😆😙😜😄',\n",
       " '😁😘😄',\n",
       " '😈😁😓😚😝😈😊😜😅',\n",
       " '😈😦😜😜😊😃😁😘😅😝',\n",
       " '😈😁😜😄😎😶',\n",
       " '😈😁😚😚😅😘']"
      ]
     },
     "execution_count": 15,
     "metadata": {},
     "output_type": "execute_result"
    }
   ],
   "source": [
    "# Converting text2: \"In Hertford, Hereford, and Hampshire, hurricanes hardly happen\"\n",
    "parsing_text(text2)"
   ]
  }
 ],
 "metadata": {
  "kernelspec": {
   "display_name": "Python 3",
   "language": "python",
   "name": "python3"
  },
  "language_info": {
   "codemirror_mode": {
    "name": "ipython",
    "version": 3
   },
   "file_extension": ".py",
   "mimetype": "text/x-python",
   "name": "python",
   "nbconvert_exporter": "python",
   "pygments_lexer": "ipython3",
   "version": "3.7.4"
  }
 },
 "nbformat": 4,
 "nbformat_minor": 2
}
