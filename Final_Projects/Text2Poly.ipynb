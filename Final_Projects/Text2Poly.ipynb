{
 "cells": [
  {
   "cell_type": "markdown",
   "metadata": {},
   "source": [
    "# Text2Poly\n",
    "<br>\n",
    "\n",
    "\n",
    "by KJ Ha"
   ]
  },
  {
   "cell_type": "markdown",
   "metadata": {},
   "source": [
    "<i>Text2Poly</i> offers an interactive interface to translate alphabet letters into polylines.\n"
   ]
  },
  {
   "cell_type": "code",
   "execution_count": 1,
   "metadata": {},
   "outputs": [
    {
     "name": "stdout",
     "output_type": "stream",
     "text": [
      "Requirement already satisfied: flat in /Users/kh/.pyenv/versions/3.7.3/lib/python3.7/site-packages (0.3.1)\n",
      "Collecting https://github.com/aparrish/bezmerizing/archive/master.zip\n",
      "  Using cached https://github.com/aparrish/bezmerizing/archive/master.zip (136 kB)\n",
      "Requirement already satisfied (use --upgrade to upgrade): bezmerizing==0.1.0 from https://github.com/aparrish/bezmerizing/archive/master.zip in /Users/kh/.pyenv/versions/3.7.3/lib/python3.7/site-packages\n",
      "Requirement already satisfied: flat>=0.0.3 in /Users/kh/.pyenv/versions/3.7.3/lib/python3.7/site-packages (from bezmerizing==0.1.0) (0.3.1)\n",
      "Requirement already satisfied: scipy>=1.1.0 in /Users/kh/.pyenv/versions/3.7.3/lib/python3.7/site-packages (from bezmerizing==0.1.0) (1.4.1)\n",
      "Requirement already satisfied: numpy>=1.13.3 in /Users/kh/.pyenv/versions/3.7.3/lib/python3.7/site-packages (from scipy>=1.1.0->bezmerizing==0.1.0) (1.18.1)\n",
      "Building wheels for collected packages: bezmerizing\n",
      "  Building wheel for bezmerizing (setup.py) ... \u001b[?25ldone\n",
      "\u001b[?25h  Created wheel for bezmerizing: filename=bezmerizing-0.1.0-py3-none-any.whl size=15815 sha256=e7c9770201e3029da9b92f2cd278a0f4cc04190cb7bf3bb1d2a679e790df0fba\n",
      "  Stored in directory: /private/var/folders/6w/w3z9b1j14r34h4x95lg1st3w0000gn/T/pip-ephem-wheel-cache-7ut2mg43/wheels/e8/d3/b9/3970f3e67639719f9cc128449564b328e71a0361da5121af6c\n",
      "Successfully built bezmerizing\n"
     ]
    }
   ],
   "source": [
    "!pip install flat\n",
    "!pip install https://github.com/aparrish/bezmerizing/archive/master.zip\n",
    "\n",
    "from flat import document, shape, rgba\n",
    "import numpy as np\n",
    "from numpy.random import uniform, normal, choice\n",
    "from IPython.display import SVG, display\n",
    "\n",
    "def show(page):\n",
    "    display(SVG(page.svg()))\n",
    "\n",
    "import ipywidgets as widgets\n",
    "from scipy.stats import truncnorm\n",
    "\n",
    "def t_normal(a, b, mu, sigma):\n",
    "    tn = truncnorm((a-mu)/sigma, (b-mu)/sigma, loc=mu, scale=sigma)\n",
    "    return tn.rvs(1)[0]\n",
    "\n",
    "from bezmerizing import Polyline\n",
    "\n",
    "# a string of alphabet letters + dot (.)\n",
    "# dot is a placeholder for any characters other than alphabet letters\n",
    "alpha = \".ABCDEFGHIJKLMNOPQRSTUVWXYZ\"\n",
    "\n",
    "# a list of number of the strokes each alphabet has \n",
    "alpha_s = [0, 3, 3, 1, 2, 4, 4, 2, 3, 3, 2, 3, 2, 4, 3, 1, 2, 2, 3, 1, 2, 1, 2, 4, 2, 3, 3]\n",
    "\n",
    "def make_char(a):\n",
    "    pts = []\n",
    "    for i in range(int(t_normal(4+a, 4+(a+1), 8, 2))):\n",
    "        x = (choice([0, 0.5, 1]))\n",
    "        y = (choice([0, 0.5, 1]))\n",
    "        pts.append([x, y])\n",
    "    return Polyline(pts)"
   ]
  },
  {
   "cell_type": "code",
   "execution_count": 2,
   "metadata": {
    "scrolled": true
   },
   "outputs": [
    {
     "name": "stdout",
     "output_type": "stream",
     "text": [
      ". 0\n",
      "A 3\n",
      "B 3\n",
      "C 1\n",
      "D 2\n",
      "E 4\n",
      "F 4\n",
      "G 2\n",
      "H 3\n",
      "I 3\n",
      "J 2\n",
      "K 3\n",
      "L 2\n",
      "M 4\n",
      "N 3\n",
      "O 1\n",
      "P 2\n",
      "Q 2\n",
      "R 3\n",
      "S 1\n",
      "T 2\n",
      "U 1\n",
      "V 2\n",
      "W 4\n",
      "X 2\n",
      "Y 3\n",
      "Z 3\n"
     ]
    }
   ],
   "source": [
    "for i in range(0, len(alpha)):\n",
    "    print(alpha[i], alpha_s[i])"
   ]
  },
  {
   "cell_type": "code",
   "execution_count": 3,
   "metadata": {},
   "outputs": [],
   "source": [
    "# creating polyline for each letter\n",
    "# the complexity (number of points) of the polyline is determined by the number of strokes\n",
    "char_plines = [make_char(i) for i in alpha_s]"
   ]
  },
  {
   "cell_type": "code",
   "execution_count": 4,
   "metadata": {
    "scrolled": true
   },
   "outputs": [
    {
     "name": "stdout",
     "output_type": "stream",
     "text": [
      ". 0 Polyline([[1.0000, 1.0000], [0.0000, 0.5000], [1.0000, 0.0000], [0.5000, 0.5000]])\n",
      "A 3 Polyline([[0.5000, 1.0000], [0.0000, 0.0000], [1.0000, 0.0000], [0.0000, 0.0000], [0.5000, 0.0000], [0.5000, 1.0000], [0.0000, 0.5000]])\n",
      "B 3 Polyline([[0.0000, 0.5000], [1.0000, 0.5000], [0.5000, 0.5000], [1.0000, 0.0000], [0.0000, 0.0000], [0.0000, 0.5000], [0.5000, 1.0000]])\n",
      "C 1 Polyline([[1.0000, 0.0000], [0.0000, 0.0000], [0.0000, 0.0000], [0.0000, 0.0000], [1.0000, 0.5000]])\n",
      "D 2 Polyline([[0.5000, 0.5000], [1.0000, 0.0000], [0.0000, 1.0000], [0.5000, 0.0000], [0.5000, 0.5000], [1.0000, 0.0000]])\n",
      "E 4 Polyline([[1.0000, 0.5000], [0.5000, 0.5000], [0.0000, 0.0000], [1.0000, 0.5000], [0.0000, 0.0000], [1.0000, 0.0000], [0.0000, 1.0000], [1.0000, 0.5000]])\n",
      "F 4 Polyline([[1.0000, 1.0000], [0.0000, 0.5000], [0.5000, 0.5000], [0.0000, 0.0000], [0.0000, 0.0000], [1.0000, 1.0000], [0.0000, 0.5000], [0.0000, 0.5000]])\n",
      "G 2 Polyline([[0.5000, 1.0000], [0.0000, 0.0000], [1.0000, 0.5000], [0.0000, 0.0000], [0.0000, 1.0000], [0.0000, 0.5000]])\n",
      "H 3 Polyline([[1.0000, 0.5000], [0.0000, 0.5000], [1.0000, 1.0000], [0.5000, 0.0000], [1.0000, 0.5000], [1.0000, 0.0000], [0.5000, 1.0000]])\n",
      "I 3 Polyline([[1.0000, 1.0000], [1.0000, 1.0000], [1.0000, 0.5000], [1.0000, 0.0000], [0.5000, 1.0000], [0.5000, 1.0000], [0.5000, 0.0000]])\n",
      "J 2 Polyline([[0.5000, 0.0000], [0.5000, 1.0000], [0.0000, 0.5000], [1.0000, 0.0000], [1.0000, 0.5000], [1.0000, 0.0000]])\n",
      "K 3 Polyline([[1.0000, 1.0000], [1.0000, 1.0000], [1.0000, 0.5000], [0.5000, 0.5000], [0.5000, 0.5000], [0.5000, 1.0000], [0.0000, 0.0000]])\n",
      "L 2 Polyline([[0.5000, 0.0000], [1.0000, 0.5000], [0.5000, 0.5000], [1.0000, 0.0000], [0.5000, 0.5000], [1.0000, 0.5000]])\n",
      "M 4 Polyline([[1.0000, 0.5000], [0.0000, 0.0000], [0.5000, 1.0000], [1.0000, 0.0000], [0.0000, 0.5000], [1.0000, 0.5000], [0.0000, 0.5000], [0.5000, 0.0000]])\n",
      "N 3 Polyline([[1.0000, 1.0000], [1.0000, 0.0000], [1.0000, 0.0000], [1.0000, 0.5000], [1.0000, 0.5000], [0.0000, 1.0000], [0.0000, 1.0000]])\n",
      "O 1 Polyline([[0.5000, 0.0000], [1.0000, 0.5000], [1.0000, 0.5000], [1.0000, 0.0000], [1.0000, 0.0000]])\n",
      "P 2 Polyline([[0.0000, 1.0000], [0.0000, 1.0000], [0.0000, 0.5000], [1.0000, 1.0000], [1.0000, 0.5000], [0.5000, 0.5000]])\n",
      "Q 2 Polyline([[0.5000, 1.0000], [0.5000, 0.0000], [1.0000, 0.0000], [1.0000, 0.0000], [0.5000, 1.0000], [1.0000, 0.5000]])\n",
      "R 3 Polyline([[0.0000, 0.5000], [0.5000, 0.5000], [1.0000, 0.0000], [0.0000, 1.0000], [0.0000, 0.5000], [1.0000, 0.5000], [0.5000, 1.0000]])\n",
      "S 1 Polyline([[0.0000, 0.0000], [0.5000, 0.5000], [0.5000, 1.0000], [0.0000, 1.0000], [1.0000, 1.0000]])\n",
      "T 2 Polyline([[0.5000, 0.5000], [0.5000, 1.0000], [1.0000, 1.0000], [1.0000, 0.5000], [1.0000, 1.0000], [0.0000, 0.5000]])\n",
      "U 1 Polyline([[0.5000, 1.0000], [0.5000, 1.0000], [1.0000, 1.0000], [1.0000, 1.0000], [1.0000, 0.0000]])\n",
      "V 2 Polyline([[1.0000, 0.0000], [0.0000, 0.5000], [0.0000, 1.0000], [1.0000, 0.5000], [1.0000, 0.5000], [0.5000, 0.0000]])\n",
      "W 4 Polyline([[1.0000, 1.0000], [1.0000, 0.0000], [0.5000, 0.5000], [0.5000, 0.0000], [0.5000, 0.0000], [1.0000, 1.0000], [0.5000, 1.0000], [0.0000, 1.0000]])\n",
      "X 2 Polyline([[0.0000, 1.0000], [1.0000, 1.0000], [0.5000, 0.0000], [0.0000, 1.0000], [1.0000, 0.0000], [0.0000, 1.0000]])\n",
      "Y 3 Polyline([[1.0000, 0.5000], [1.0000, 0.0000], [0.0000, 0.0000], [1.0000, 0.0000], [1.0000, 0.5000], [1.0000, 1.0000], [1.0000, 0.0000]])\n",
      "Z 3 Polyline([[1.0000, 0.5000], [1.0000, 1.0000], [0.0000, 0.5000], [0.0000, 0.5000], [0.0000, 0.5000], [0.5000, 0.5000], [1.0000, 0.0000]])\n"
     ]
    }
   ],
   "source": [
    "for i in range(0, len(alpha)):\n",
    "    print(alpha[i], alpha_s[i], char_plines[i])"
   ]
  },
  {
   "cell_type": "code",
   "execution_count": 3,
   "metadata": {},
   "outputs": [],
   "source": [
    "# turn letters in input text into corresponding index numbers\n",
    "def let2num(x):\n",
    "    y = []\n",
    "    for i in x:\n",
    "        number = ord(i) - 64\n",
    "        y.append(number)\n",
    "    return y\n",
    "\n",
    "def text2num(s):\n",
    "    text = ''\n",
    "    # if the entered character is not an alphabet, exclude it to prevent an error\n",
    "    for item in s:\n",
    "        if (item.isalpha()) or (item == ' '):\n",
    "            text+=item\n",
    "    s = text\n",
    "    \n",
    "    # transform all letters into uppercase letters\n",
    "    text_upper = text.upper()\n",
    "    text_split = text_upper.split()\n",
    "    number = [let2num(line) for line in text_split]\n",
    "\n",
    "    return number"
   ]
  },
  {
   "cell_type": "markdown",
   "metadata": {},
   "source": [
    "<hr class=\"solid\">"
   ]
  },
  {
   "cell_type": "markdown",
   "metadata": {},
   "source": [
    "### Interactive Widgets"
   ]
  },
  {
   "cell_type": "code",
   "execution_count": 4,
   "metadata": {},
   "outputs": [],
   "source": [
    "# visualize polyline for each alphabet letter\n",
    "\n",
    "def alpha_polyline(index, complexity):\n",
    "    grid_size = 45\n",
    "\n",
    "    size = 60\n",
    "    d = document(size, size, 'mm')\n",
    "    page = d.addpage()\n",
    "    figure = shape().stroke(rgba(0, 0, 0, 255)).width(2).join('round')\n",
    "\n",
    "    char_plines = [make_char(complexity) for index in alpha_s]\n",
    "    char_pline = char_plines[index]\n",
    "    curve = figure.polyline(\n",
    "        char_pline.scale(grid_size*0.67).translate(20, 20))\n",
    "    page.place(curve)\n",
    "    print(alpha[index])\n",
    "\n",
    "    show(page)"
   ]
  },
  {
   "cell_type": "markdown",
   "metadata": {},
   "source": [
    "The below block reveals the shape of the outcome polyline and its corresponding alphabet letter.<br>\n",
    "Use an index slider bar to navigate between alphabet letters. The users can also change a degree of complication by adjusting value of complexity slider bar."
   ]
  },
  {
   "cell_type": "code",
   "execution_count": 5,
   "metadata": {},
   "outputs": [
    {
     "data": {
      "application/vnd.jupyter.widget-view+json": {
       "model_id": "3787ad4425284bf2bb7ccefd8b76777d",
       "version_major": 2,
       "version_minor": 0
      },
      "text/plain": [
       "interactive(children=(IntSlider(value=1, description='index', max=26, min=1), IntSlider(value=3, description='…"
      ]
     },
     "metadata": {},
     "output_type": "display_data"
    },
    {
     "data": {
      "text/plain": [
       "<function __main__.alpha_polyline(index, complexity)>"
      ]
     },
     "execution_count": 5,
     "metadata": {},
     "output_type": "execute_result"
    }
   ],
   "source": [
    "widgets.interact(alpha_polyline,\n",
    "                 index = widgets.IntSlider(min=1, max=26, step=1, value=1),\n",
    "                 complexity = widgets.IntSlider(min=1, max=20, step=1, value=3))"
   ]
  },
  {
   "cell_type": "code",
   "execution_count": 6,
   "metadata": {},
   "outputs": [],
   "source": [
    "# visualize polyline for any input text\n",
    "\n",
    "def text_polyline(input_text, complexity):\n",
    "    text = text2num(input_text)\n",
    "\n",
    "    grid_size = 19\n",
    "\n",
    "    size = grid_size * (len(text)+1)\n",
    "    d = document(400, size, 'mm')\n",
    "    page = d.addpage()\n",
    "    figure = shape().stroke(rgba(0, 0, 0, 255)).width(2).join('round')\n",
    "    char_plines = [make_char(complexity) for ch in alpha_s]\n",
    "\n",
    "    for line, i in zip(text, range(len(text))):\n",
    "        for ch, j in zip(line, range(len(list(line)))):\n",
    "            char_pline = char_plines[ch]\n",
    "            curve = figure.polyline(\n",
    "                char_pline.scale(grid_size*0.67).translate(10+1.22*j*grid_size, 10+1.35*i*grid_size))\n",
    "            page.place(curve)\n",
    "\n",
    "    show(page)"
   ]
  },
  {
   "cell_type": "markdown",
   "metadata": {},
   "source": [
    "The below block automatically translate input text into the corresponding polyline.<br>\n",
    "Use the complexity slider bar to adjust a degree of complication."
   ]
  },
  {
   "cell_type": "code",
   "execution_count": 7,
   "metadata": {},
   "outputs": [
    {
     "data": {
      "application/vnd.jupyter.widget-view+json": {
       "model_id": "0f72a50780c0404d9850ea77f75d9f06",
       "version_major": 2,
       "version_minor": 0
      },
      "text/plain": [
       "interactive(children=(Text(value='Enter any text', description='input_text'), IntSlider(value=3, description='…"
      ]
     },
     "metadata": {},
     "output_type": "display_data"
    },
    {
     "data": {
      "text/plain": [
       "<function __main__.text_polyline(input_text, complexity)>"
      ]
     },
     "execution_count": 7,
     "metadata": {},
     "output_type": "execute_result"
    }
   ],
   "source": [
    "widgets.interact(text_polyline,\n",
    "                 input_text = \"Enter any text\",\n",
    "                 complexity = widgets.IntSlider(min=1, max=20, step=1, value=3))"
   ]
  },
  {
   "cell_type": "markdown",
   "metadata": {},
   "source": [
    "<hr class=\"solid\">"
   ]
  },
  {
   "cell_type": "markdown",
   "metadata": {},
   "source": [
    "### Examples"
   ]
  },
  {
   "cell_type": "markdown",
   "metadata": {},
   "source": [
    "The below blocks are showing some examples of the transition between text and polyline"
   ]
  },
  {
   "cell_type": "code",
   "execution_count": 8,
   "metadata": {},
   "outputs": [],
   "source": [
    "text1 = \"The rain in Spain stays mainly in the plain\"\n",
    "text2 = \"In Hertford, Hereford, and Hampshire, hurricanes hardly happen\""
   ]
  },
  {
   "cell_type": "code",
   "execution_count": 9,
   "metadata": {},
   "outputs": [
    {
     "data": {
      "image/svg+xml": [
       "<svg height=\"538.5827pt\" version=\"1.1\" width=\"1133.8583pt\" xmlns=\"http://www.w3.org/2000/svg\" xmlns:xlink=\"http://www.w3.org/1999/xlink\">\n",
       "<title>Untitled</title>\n",
       "<polyline fill=\"none\" points=\"28.3465 46.389 64.4315 28.3465 46.389 28.3465 28.3465 28.3465 64.4315 64.4315 28.3465 28.3465 64.4315 64.4315\" stroke=\"rgba(0,0,0,1)\" stroke-linejoin=\"round\" stroke-width=\"2\"/>\n",
       "<polyline fill=\"none\" points=\"94.0535 64.4315 112.0961 46.389 130.1386 28.3465 130.1386 28.3465 94.0535 28.3465 112.0961 46.389 94.0535 28.3465\" stroke=\"rgba(0,0,0,1)\" stroke-linejoin=\"round\" stroke-width=\"2\"/>\n",
       "<polyline fill=\"none\" points=\"177.8031 64.4315 177.8031 28.3465 195.8457 28.3465 195.8457 28.3465 195.8457 28.3465 159.7606 64.4315 177.8031 28.3465\" stroke=\"rgba(0,0,0,1)\" stroke-linejoin=\"round\" stroke-width=\"2\"/>\n",
       "<polyline fill=\"none\" points=\"46.389 119.0976 64.4315 101.0551 28.3465 119.0976 46.389 137.1402 28.3465 101.0551 64.4315 101.0551 28.3465 137.1402\" stroke=\"rgba(0,0,0,1)\" stroke-linejoin=\"round\" stroke-width=\"2\"/>\n",
       "<polyline fill=\"none\" points=\"94.0535 101.0551 130.1386 101.0551 94.0535 119.0976 130.1386 119.0976 112.0961 137.1402 112.0961 137.1402 130.1386 137.1402\" stroke=\"rgba(0,0,0,1)\" stroke-linejoin=\"round\" stroke-width=\"2\"/>\n",
       "<polyline fill=\"none\" points=\"177.8031 119.0976 195.8457 101.0551 177.8031 137.1402 195.8457 101.0551 177.8031 137.1402 177.8031 101.0551 159.7606 119.0976\" stroke=\"rgba(0,0,0,1)\" stroke-linejoin=\"round\" stroke-width=\"2\"/>\n",
       "<polyline fill=\"none\" points=\"225.4677 137.1402 261.5528 101.0551 243.5102 119.0976 243.5102 137.1402 243.5102 101.0551 243.5102 137.1402 261.5528 137.1402\" stroke=\"rgba(0,0,0,1)\" stroke-linejoin=\"round\" stroke-width=\"2\"/>\n",
       "<polyline fill=\"none\" points=\"46.389 191.8063 64.4315 173.7638 46.389 209.8488 64.4315 173.7638 46.389 209.8488 46.389 173.7638 28.3465 191.8063\" stroke=\"rgba(0,0,0,1)\" stroke-linejoin=\"round\" stroke-width=\"2\"/>\n",
       "<polyline fill=\"none\" points=\"94.0535 209.8488 130.1386 173.7638 112.0961 191.8063 112.0961 209.8488 112.0961 173.7638 112.0961 209.8488 130.1386 209.8488\" stroke=\"rgba(0,0,0,1)\" stroke-linejoin=\"round\" stroke-width=\"2\"/>\n",
       "<polyline fill=\"none\" points=\"28.3465 246.4724 46.389 264.515 46.389 246.4724 64.4315 282.5575 46.389 246.4724 46.389 264.515 28.3465 246.4724\" stroke=\"rgba(0,0,0,1)\" stroke-linejoin=\"round\" stroke-width=\"2\"/>\n",
       "<polyline fill=\"none\" points=\"94.0535 282.5575 130.1386 282.5575 130.1386 246.4724 130.1386 282.5575 130.1386 282.5575 112.0961 264.515 130.1386 246.4724\" stroke=\"rgba(0,0,0,1)\" stroke-linejoin=\"round\" stroke-width=\"2\"/>\n",
       "<polyline fill=\"none\" points=\"159.7606 246.4724 195.8457 246.4724 159.7606 264.515 195.8457 264.515 177.8031 282.5575 177.8031 282.5575 195.8457 282.5575\" stroke=\"rgba(0,0,0,1)\" stroke-linejoin=\"round\" stroke-width=\"2\"/>\n",
       "<polyline fill=\"none\" points=\"243.5102 264.515 261.5528 246.4724 243.5102 282.5575 261.5528 246.4724 243.5102 282.5575 243.5102 246.4724 225.4677 264.515\" stroke=\"rgba(0,0,0,1)\" stroke-linejoin=\"round\" stroke-width=\"2\"/>\n",
       "<polyline fill=\"none\" points=\"291.1748 282.5575 327.2598 246.4724 309.2173 264.515 309.2173 282.5575 309.2173 246.4724 309.2173 282.5575 327.2598 282.5575\" stroke=\"rgba(0,0,0,1)\" stroke-linejoin=\"round\" stroke-width=\"2\"/>\n",
       "<polyline fill=\"none\" points=\"28.3465 319.1811 46.389 337.2236 46.389 319.1811 64.4315 355.2661 46.389 319.1811 46.389 337.2236 28.3465 319.1811\" stroke=\"rgba(0,0,0,1)\" stroke-linejoin=\"round\" stroke-width=\"2\"/>\n",
       "<polyline fill=\"none\" points=\"94.0535 337.2236 130.1386 319.1811 112.0961 319.1811 94.0535 319.1811 130.1386 355.2661 94.0535 319.1811 130.1386 355.2661\" stroke=\"rgba(0,0,0,1)\" stroke-linejoin=\"round\" stroke-width=\"2\"/>\n",
       "<polyline fill=\"none\" points=\"159.7606 319.1811 195.8457 319.1811 159.7606 337.2236 195.8457 337.2236 177.8031 355.2661 177.8031 355.2661 195.8457 355.2661\" stroke=\"rgba(0,0,0,1)\" stroke-linejoin=\"round\" stroke-width=\"2\"/>\n",
       "<polyline fill=\"none\" points=\"225.4677 337.2236 243.5102 337.2236 261.5528 355.2661 261.5528 337.2236 261.5528 355.2661 261.5528 319.1811 225.4677 355.2661\" stroke=\"rgba(0,0,0,1)\" stroke-linejoin=\"round\" stroke-width=\"2\"/>\n",
       "<polyline fill=\"none\" points=\"291.1748 319.1811 309.2173 337.2236 309.2173 319.1811 327.2598 355.2661 309.2173 319.1811 309.2173 337.2236 291.1748 319.1811\" stroke=\"rgba(0,0,0,1)\" stroke-linejoin=\"round\" stroke-width=\"2\"/>\n",
       "<polyline fill=\"none\" points=\"64.4315 427.9748 64.4315 409.9323 64.4315 391.8898 64.4315 409.9323 46.389 427.9748 28.3465 409.9323 46.389 427.9748\" stroke=\"rgba(0,0,0,1)\" stroke-linejoin=\"round\" stroke-width=\"2\"/>\n",
       "<polyline fill=\"none\" points=\"94.0535 391.8898 130.1386 391.8898 94.0535 409.9323 130.1386 409.9323 112.0961 427.9748 112.0961 427.9748 130.1386 427.9748\" stroke=\"rgba(0,0,0,1)\" stroke-linejoin=\"round\" stroke-width=\"2\"/>\n",
       "<polyline fill=\"none\" points=\"177.8031 409.9323 195.8457 391.8898 177.8031 427.9748 195.8457 391.8898 177.8031 427.9748 177.8031 391.8898 159.7606 409.9323\" stroke=\"rgba(0,0,0,1)\" stroke-linejoin=\"round\" stroke-width=\"2\"/>\n",
       "<polyline fill=\"none\" points=\"225.4677 427.9748 261.5528 391.8898 243.5102 409.9323 243.5102 427.9748 243.5102 391.8898 243.5102 427.9748 261.5528 427.9748\" stroke=\"rgba(0,0,0,1)\" stroke-linejoin=\"round\" stroke-width=\"2\"/>\n",
       "<polyline fill=\"none\" points=\"309.2173 391.8898 291.1748 427.9748 291.1748 409.9323 309.2173 409.9323 309.2173 427.9748 309.2173 427.9748 291.1748 427.9748\" stroke=\"rgba(0,0,0,1)\" stroke-linejoin=\"round\" stroke-width=\"2\"/>\n",
       "<polyline fill=\"none\" points=\"356.8819 409.9323 374.9244 409.9323 392.9669 427.9748 392.9669 409.9323 392.9669 427.9748 392.9669 391.8898 356.8819 427.9748\" stroke=\"rgba(0,0,0,1)\" stroke-linejoin=\"round\" stroke-width=\"2\"/>\n",
       "<polyline fill=\"none\" points=\"46.389 482.6409 64.4315 464.5984 46.389 500.6835 64.4315 464.5984 46.389 500.6835 46.389 464.5984 28.3465 482.6409\" stroke=\"rgba(0,0,0,1)\" stroke-linejoin=\"round\" stroke-width=\"2\"/>\n",
       "<polyline fill=\"none\" points=\"94.0535 500.6835 130.1386 464.5984 112.0961 482.6409 112.0961 500.6835 112.0961 464.5984 112.0961 500.6835 130.1386 500.6835\" stroke=\"rgba(0,0,0,1)\" stroke-linejoin=\"round\" stroke-width=\"2\"/>\n",
       "<polyline fill=\"none\" points=\"28.3465 555.3496 64.4315 537.3071 46.389 537.3071 28.3465 537.3071 64.4315 573.3921 28.3465 537.3071 64.4315 573.3921\" stroke=\"rgba(0,0,0,1)\" stroke-linejoin=\"round\" stroke-width=\"2\"/>\n",
       "<polyline fill=\"none\" points=\"94.0535 573.3921 112.0961 555.3496 130.1386 537.3071 130.1386 537.3071 94.0535 537.3071 112.0961 555.3496 94.0535 537.3071\" stroke=\"rgba(0,0,0,1)\" stroke-linejoin=\"round\" stroke-width=\"2\"/>\n",
       "<polyline fill=\"none\" points=\"177.8031 573.3921 177.8031 537.3071 195.8457 537.3071 195.8457 537.3071 195.8457 537.3071 159.7606 573.3921 177.8031 537.3071\" stroke=\"rgba(0,0,0,1)\" stroke-linejoin=\"round\" stroke-width=\"2\"/>\n",
       "<polyline fill=\"none\" points=\"28.3465 646.1008 64.4315 646.1008 64.4315 610.0157 64.4315 646.1008 64.4315 646.1008 46.389 628.0583 64.4315 610.0157\" stroke=\"rgba(0,0,0,1)\" stroke-linejoin=\"round\" stroke-width=\"2\"/>\n",
       "<polyline fill=\"none\" points=\"112.0961 610.0157 94.0535 646.1008 94.0535 628.0583 112.0961 628.0583 112.0961 646.1008 112.0961 646.1008 94.0535 646.1008\" stroke=\"rgba(0,0,0,1)\" stroke-linejoin=\"round\" stroke-width=\"2\"/>\n",
       "<polyline fill=\"none\" points=\"159.7606 610.0157 195.8457 610.0157 159.7606 628.0583 195.8457 628.0583 177.8031 646.1008 177.8031 646.1008 195.8457 646.1008\" stroke=\"rgba(0,0,0,1)\" stroke-linejoin=\"round\" stroke-width=\"2\"/>\n",
       "<polyline fill=\"none\" points=\"243.5102 628.0583 261.5528 610.0157 243.5102 646.1008 261.5528 610.0157 243.5102 646.1008 243.5102 610.0157 225.4677 628.0583\" stroke=\"rgba(0,0,0,1)\" stroke-linejoin=\"round\" stroke-width=\"2\"/>\n",
       "<polyline fill=\"none\" points=\"291.1748 646.1008 327.2598 610.0157 309.2173 628.0583 309.2173 646.1008 309.2173 610.0157 309.2173 646.1008 327.2598 646.1008\" stroke=\"rgba(0,0,0,1)\" stroke-linejoin=\"round\" stroke-width=\"2\"/>\n",
       "</svg>"
      ],
      "text/plain": [
       "<IPython.core.display.SVG object>"
      ]
     },
     "metadata": {},
     "output_type": "display_data"
    },
    {
     "name": "stdout",
     "output_type": "stream",
     "text": [
      "The rain in Spain stays mainly in the plain\n"
     ]
    }
   ],
   "source": [
    "# The rain in Spain stays mainly in the plain\n",
    "text_polyline(text1, 3)\n",
    "print(text1)"
   ]
  },
  {
   "cell_type": "code",
   "execution_count": 10,
   "metadata": {},
   "outputs": [
    {
     "data": {
      "image/svg+xml": [
       "<svg height=\"484.7244pt\" version=\"1.1\" width=\"1133.8583pt\" xmlns=\"http://www.w3.org/2000/svg\" xmlns:xlink=\"http://www.w3.org/1999/xlink\">\n",
       "<title>Untitled</title>\n",
       "<polyline fill=\"none\" points=\"28.3465 28.3465 64.4315 28.3465 28.3465 64.4315 28.3465 28.3465 64.4315 28.3465 64.4315 64.4315 46.389 28.3465\" stroke=\"rgba(0,0,0,1)\" stroke-linejoin=\"round\" stroke-width=\"2\"/>\n",
       "<polyline fill=\"none\" points=\"130.1386 28.3465 112.0961 64.4315 112.0961 46.389 130.1386 46.389 130.1386 28.3465 130.1386 64.4315 130.1386 64.4315\" stroke=\"rgba(0,0,0,1)\" stroke-linejoin=\"round\" stroke-width=\"2\"/>\n",
       "<polyline fill=\"none\" points=\"64.4315 119.0976 64.4315 119.0976 46.389 119.0976 64.4315 119.0976 46.389 101.0551 46.389 137.1402 64.4315 101.0551\" stroke=\"rgba(0,0,0,1)\" stroke-linejoin=\"round\" stroke-width=\"2\"/>\n",
       "<polyline fill=\"none\" points=\"94.0535 101.0551 112.0961 119.0976 112.0961 119.0976 112.0961 119.0976 94.0535 119.0976 130.1386 119.0976 130.1386 119.0976\" stroke=\"rgba(0,0,0,1)\" stroke-linejoin=\"round\" stroke-width=\"2\"/>\n",
       "<polyline fill=\"none\" points=\"159.7606 137.1402 159.7606 119.0976 177.8031 119.0976 177.8031 101.0551 195.8457 101.0551 177.8031 137.1402 195.8457 119.0976\" stroke=\"rgba(0,0,0,1)\" stroke-linejoin=\"round\" stroke-width=\"2\"/>\n",
       "<polyline fill=\"none\" points=\"243.5102 119.0976 225.4677 137.1402 243.5102 137.1402 225.4677 101.0551 243.5102 101.0551 261.5528 119.0976 225.4677 137.1402\" stroke=\"rgba(0,0,0,1)\" stroke-linejoin=\"round\" stroke-width=\"2\"/>\n",
       "<polyline fill=\"none\" points=\"291.1748 137.1402 291.1748 119.0976 327.2598 119.0976 327.2598 137.1402 309.2173 119.0976 327.2598 101.0551 327.2598 119.0976\" stroke=\"rgba(0,0,0,1)\" stroke-linejoin=\"round\" stroke-width=\"2\"/>\n",
       "<polyline fill=\"none\" points=\"356.8819 101.0551 392.9669 137.1402 392.9669 119.0976 374.9244 101.0551 374.9244 101.0551 392.9669 119.0976 392.9669 119.0976\" stroke=\"rgba(0,0,0,1)\" stroke-linejoin=\"round\" stroke-width=\"2\"/>\n",
       "<polyline fill=\"none\" points=\"422.589 137.1402 422.589 119.0976 440.6315 119.0976 440.6315 101.0551 458.674 101.0551 440.6315 137.1402 458.674 119.0976\" stroke=\"rgba(0,0,0,1)\" stroke-linejoin=\"round\" stroke-width=\"2\"/>\n",
       "<polyline fill=\"none\" points=\"524.3811 101.0551 524.3811 101.0551 524.3811 101.0551 488.2961 137.1402 488.2961 101.0551 506.3386 101.0551 524.3811 119.0976\" stroke=\"rgba(0,0,0,1)\" stroke-linejoin=\"round\" stroke-width=\"2\"/>\n",
       "<polyline fill=\"none\" points=\"64.4315 191.8063 64.4315 191.8063 46.389 191.8063 64.4315 191.8063 46.389 173.7638 46.389 209.8488 64.4315 173.7638\" stroke=\"rgba(0,0,0,1)\" stroke-linejoin=\"round\" stroke-width=\"2\"/>\n",
       "<polyline fill=\"none\" points=\"94.0535 173.7638 112.0961 191.8063 112.0961 191.8063 112.0961 191.8063 94.0535 191.8063 130.1386 191.8063 130.1386 191.8063\" stroke=\"rgba(0,0,0,1)\" stroke-linejoin=\"round\" stroke-width=\"2\"/>\n",
       "<polyline fill=\"none\" points=\"159.7606 209.8488 159.7606 191.8063 177.8031 191.8063 177.8031 173.7638 195.8457 173.7638 177.8031 209.8488 195.8457 191.8063\" stroke=\"rgba(0,0,0,1)\" stroke-linejoin=\"round\" stroke-width=\"2\"/>\n",
       "<polyline fill=\"none\" points=\"225.4677 173.7638 243.5102 191.8063 243.5102 191.8063 243.5102 191.8063 225.4677 191.8063 261.5528 191.8063 261.5528 191.8063\" stroke=\"rgba(0,0,0,1)\" stroke-linejoin=\"round\" stroke-width=\"2\"/>\n",
       "<polyline fill=\"none\" points=\"291.1748 209.8488 291.1748 191.8063 327.2598 191.8063 327.2598 209.8488 309.2173 191.8063 327.2598 173.7638 327.2598 191.8063\" stroke=\"rgba(0,0,0,1)\" stroke-linejoin=\"round\" stroke-width=\"2\"/>\n",
       "<polyline fill=\"none\" points=\"356.8819 173.7638 392.9669 209.8488 392.9669 191.8063 374.9244 173.7638 374.9244 173.7638 392.9669 191.8063 392.9669 191.8063\" stroke=\"rgba(0,0,0,1)\" stroke-linejoin=\"round\" stroke-width=\"2\"/>\n",
       "<polyline fill=\"none\" points=\"422.589 209.8488 422.589 191.8063 440.6315 191.8063 440.6315 173.7638 458.674 173.7638 440.6315 209.8488 458.674 191.8063\" stroke=\"rgba(0,0,0,1)\" stroke-linejoin=\"round\" stroke-width=\"2\"/>\n",
       "<polyline fill=\"none\" points=\"524.3811 173.7638 524.3811 173.7638 524.3811 173.7638 488.2961 209.8488 488.2961 173.7638 506.3386 173.7638 524.3811 191.8063\" stroke=\"rgba(0,0,0,1)\" stroke-linejoin=\"round\" stroke-width=\"2\"/>\n",
       "<polyline fill=\"none\" points=\"64.4315 246.4724 46.389 264.515 46.389 264.515 28.3465 246.4724 46.389 246.4724 46.389 282.5575 64.4315 264.515\" stroke=\"rgba(0,0,0,1)\" stroke-linejoin=\"round\" stroke-width=\"2\"/>\n",
       "<polyline fill=\"none\" points=\"130.1386 246.4724 112.0961 282.5575 112.0961 264.515 130.1386 264.515 130.1386 246.4724 130.1386 282.5575 130.1386 282.5575\" stroke=\"rgba(0,0,0,1)\" stroke-linejoin=\"round\" stroke-width=\"2\"/>\n",
       "<polyline fill=\"none\" points=\"195.8457 246.4724 195.8457 246.4724 195.8457 246.4724 159.7606 282.5575 159.7606 246.4724 177.8031 246.4724 195.8457 264.515\" stroke=\"rgba(0,0,0,1)\" stroke-linejoin=\"round\" stroke-width=\"2\"/>\n",
       "<polyline fill=\"none\" points=\"64.4315 337.2236 64.4315 337.2236 46.389 337.2236 64.4315 337.2236 46.389 319.1811 46.389 355.2661 64.4315 319.1811\" stroke=\"rgba(0,0,0,1)\" stroke-linejoin=\"round\" stroke-width=\"2\"/>\n",
       "<polyline fill=\"none\" points=\"130.1386 319.1811 112.0961 337.2236 112.0961 337.2236 94.0535 319.1811 112.0961 319.1811 112.0961 355.2661 130.1386 337.2236\" stroke=\"rgba(0,0,0,1)\" stroke-linejoin=\"round\" stroke-width=\"2\"/>\n",
       "<polyline fill=\"none\" points=\"177.8031 355.2661 159.7606 337.2236 177.8031 355.2661 159.7606 319.1811 195.8457 337.2236 195.8457 319.1811 159.7606 319.1811\" stroke=\"rgba(0,0,0,1)\" stroke-linejoin=\"round\" stroke-width=\"2\"/>\n",
       "<polyline fill=\"none\" points=\"261.5528 337.2236 261.5528 337.2236 261.5528 355.2661 225.4677 319.1811 225.4677 319.1811 261.5528 319.1811 225.4677 319.1811\" stroke=\"rgba(0,0,0,1)\" stroke-linejoin=\"round\" stroke-width=\"2\"/>\n",
       "<polyline fill=\"none\" points=\"291.1748 355.2661 291.1748 337.2236 309.2173 355.2661 309.2173 337.2236 291.1748 319.1811 309.2173 319.1811 291.1748 337.2236\" stroke=\"rgba(0,0,0,1)\" stroke-linejoin=\"round\" stroke-width=\"2\"/>\n",
       "<polyline fill=\"none\" points=\"392.9669 337.2236 392.9669 337.2236 374.9244 337.2236 392.9669 337.2236 374.9244 319.1811 374.9244 355.2661 392.9669 319.1811\" stroke=\"rgba(0,0,0,1)\" stroke-linejoin=\"round\" stroke-width=\"2\"/>\n",
       "<polyline fill=\"none\" points=\"422.589 319.1811 458.674 319.1811 422.589 355.2661 422.589 319.1811 458.674 319.1811 458.674 355.2661 440.6315 319.1811\" stroke=\"rgba(0,0,0,1)\" stroke-linejoin=\"round\" stroke-width=\"2\"/>\n",
       "<polyline fill=\"none\" points=\"488.2961 355.2661 488.2961 337.2236 506.3386 337.2236 506.3386 319.1811 524.3811 319.1811 506.3386 355.2661 524.3811 337.2236\" stroke=\"rgba(0,0,0,1)\" stroke-linejoin=\"round\" stroke-width=\"2\"/>\n",
       "<polyline fill=\"none\" points=\"554.0031 319.1811 572.0457 337.2236 572.0457 337.2236 572.0457 337.2236 554.0031 337.2236 590.0882 337.2236 590.0882 337.2236\" stroke=\"rgba(0,0,0,1)\" stroke-linejoin=\"round\" stroke-width=\"2\"/>\n",
       "<polyline fill=\"none\" points=\"64.4315 409.9323 64.4315 409.9323 46.389 409.9323 64.4315 409.9323 46.389 391.8898 46.389 427.9748 64.4315 391.8898\" stroke=\"rgba(0,0,0,1)\" stroke-linejoin=\"round\" stroke-width=\"2\"/>\n",
       "<polyline fill=\"none\" points=\"130.1386 391.8898 130.1386 427.9748 112.0961 409.9323 112.0961 427.9748 94.0535 427.9748 130.1386 391.8898 130.1386 427.9748\" stroke=\"rgba(0,0,0,1)\" stroke-linejoin=\"round\" stroke-width=\"2\"/>\n",
       "<polyline fill=\"none\" points=\"159.7606 427.9748 159.7606 409.9323 177.8031 409.9323 177.8031 391.8898 195.8457 391.8898 177.8031 427.9748 195.8457 409.9323\" stroke=\"rgba(0,0,0,1)\" stroke-linejoin=\"round\" stroke-width=\"2\"/>\n",
       "<polyline fill=\"none\" points=\"225.4677 427.9748 225.4677 409.9323 243.5102 409.9323 243.5102 391.8898 261.5528 391.8898 243.5102 427.9748 261.5528 409.9323\" stroke=\"rgba(0,0,0,1)\" stroke-linejoin=\"round\" stroke-width=\"2\"/>\n",
       "<polyline fill=\"none\" points=\"291.1748 391.8898 327.2598 391.8898 291.1748 427.9748 291.1748 391.8898 327.2598 391.8898 327.2598 427.9748 309.2173 391.8898\" stroke=\"rgba(0,0,0,1)\" stroke-linejoin=\"round\" stroke-width=\"2\"/>\n",
       "<polyline fill=\"none\" points=\"356.8819 427.9748 356.8819 391.8898 356.8819 427.9748 374.9244 391.8898 374.9244 409.9323 392.9669 391.8898 356.8819 409.9323\" stroke=\"rgba(0,0,0,1)\" stroke-linejoin=\"round\" stroke-width=\"2\"/>\n",
       "<polyline fill=\"none\" points=\"458.674 391.8898 440.6315 409.9323 440.6315 409.9323 422.589 391.8898 440.6315 391.8898 440.6315 427.9748 458.674 409.9323\" stroke=\"rgba(0,0,0,1)\" stroke-linejoin=\"round\" stroke-width=\"2\"/>\n",
       "<polyline fill=\"none\" points=\"524.3811 391.8898 506.3386 427.9748 506.3386 409.9323 524.3811 409.9323 524.3811 391.8898 524.3811 427.9748 524.3811 427.9748\" stroke=\"rgba(0,0,0,1)\" stroke-linejoin=\"round\" stroke-width=\"2\"/>\n",
       "<polyline fill=\"none\" points=\"554.0031 391.8898 572.0457 409.9323 572.0457 409.9323 572.0457 409.9323 554.0031 409.9323 590.0882 409.9323 590.0882 409.9323\" stroke=\"rgba(0,0,0,1)\" stroke-linejoin=\"round\" stroke-width=\"2\"/>\n",
       "<polyline fill=\"none\" points=\"619.7102 427.9748 619.7102 409.9323 637.7528 427.9748 637.7528 409.9323 619.7102 391.8898 637.7528 391.8898 619.7102 409.9323\" stroke=\"rgba(0,0,0,1)\" stroke-linejoin=\"round\" stroke-width=\"2\"/>\n",
       "<polyline fill=\"none\" points=\"64.4315 482.6409 64.4315 482.6409 46.389 482.6409 64.4315 482.6409 46.389 464.5984 46.389 500.6835 64.4315 464.5984\" stroke=\"rgba(0,0,0,1)\" stroke-linejoin=\"round\" stroke-width=\"2\"/>\n",
       "<polyline fill=\"none\" points=\"130.1386 464.5984 112.0961 482.6409 112.0961 482.6409 94.0535 464.5984 112.0961 464.5984 112.0961 500.6835 130.1386 482.6409\" stroke=\"rgba(0,0,0,1)\" stroke-linejoin=\"round\" stroke-width=\"2\"/>\n",
       "<polyline fill=\"none\" points=\"159.7606 500.6835 159.7606 482.6409 177.8031 482.6409 177.8031 464.5984 195.8457 464.5984 177.8031 500.6835 195.8457 482.6409\" stroke=\"rgba(0,0,0,1)\" stroke-linejoin=\"round\" stroke-width=\"2\"/>\n",
       "<polyline fill=\"none\" points=\"261.5528 464.5984 261.5528 464.5984 261.5528 464.5984 225.4677 500.6835 225.4677 464.5984 243.5102 464.5984 261.5528 482.6409\" stroke=\"rgba(0,0,0,1)\" stroke-linejoin=\"round\" stroke-width=\"2\"/>\n",
       "<polyline fill=\"none\" points=\"291.1748 464.5984 327.2598 500.6835 327.2598 464.5984 327.2598 482.6409 327.2598 500.6835 327.2598 482.6409 327.2598 482.6409\" stroke=\"rgba(0,0,0,1)\" stroke-linejoin=\"round\" stroke-width=\"2\"/>\n",
       "<polyline fill=\"none\" points=\"392.9669 464.5984 392.9669 500.6835 374.9244 500.6835 356.8819 464.5984 356.8819 482.6409 374.9244 500.6835 356.8819 464.5984\" stroke=\"rgba(0,0,0,1)\" stroke-linejoin=\"round\" stroke-width=\"2\"/>\n",
       "<polyline fill=\"none\" points=\"64.4315 555.3496 64.4315 555.3496 46.389 555.3496 64.4315 555.3496 46.389 537.3071 46.389 573.3921 64.4315 537.3071\" stroke=\"rgba(0,0,0,1)\" stroke-linejoin=\"round\" stroke-width=\"2\"/>\n",
       "<polyline fill=\"none\" points=\"130.1386 537.3071 112.0961 555.3496 112.0961 555.3496 94.0535 537.3071 112.0961 537.3071 112.0961 573.3921 130.1386 555.3496\" stroke=\"rgba(0,0,0,1)\" stroke-linejoin=\"round\" stroke-width=\"2\"/>\n",
       "<polyline fill=\"none\" points=\"195.8457 555.3496 195.8457 555.3496 195.8457 573.3921 159.7606 537.3071 159.7606 537.3071 195.8457 537.3071 159.7606 537.3071\" stroke=\"rgba(0,0,0,1)\" stroke-linejoin=\"round\" stroke-width=\"2\"/>\n",
       "<polyline fill=\"none\" points=\"261.5528 555.3496 261.5528 555.3496 261.5528 573.3921 225.4677 537.3071 225.4677 537.3071 261.5528 537.3071 225.4677 537.3071\" stroke=\"rgba(0,0,0,1)\" stroke-linejoin=\"round\" stroke-width=\"2\"/>\n",
       "<polyline fill=\"none\" points=\"291.1748 537.3071 309.2173 555.3496 309.2173 555.3496 309.2173 555.3496 291.1748 555.3496 327.2598 555.3496 327.2598 555.3496\" stroke=\"rgba(0,0,0,1)\" stroke-linejoin=\"round\" stroke-width=\"2\"/>\n",
       "<polyline fill=\"none\" points=\"392.9669 537.3071 374.9244 573.3921 374.9244 555.3496 392.9669 555.3496 392.9669 537.3071 392.9669 573.3921 392.9669 573.3921\" stroke=\"rgba(0,0,0,1)\" stroke-linejoin=\"round\" stroke-width=\"2\"/>\n",
       "</svg>"
      ],
      "text/plain": [
       "<IPython.core.display.SVG object>"
      ]
     },
     "metadata": {},
     "output_type": "display_data"
    },
    {
     "name": "stdout",
     "output_type": "stream",
     "text": [
      "In Hertford, Hereford, and Hampshire, hurricanes hardly happen\n"
     ]
    }
   ],
   "source": [
    "# In Hertford, Hereford, and Hampshire, hurricanes hardly happen\n",
    "text_polyline(text2, 3)\n",
    "print(text2)"
   ]
  }
 ],
 "metadata": {
  "kernelspec": {
   "display_name": "Python 3",
   "language": "python",
   "name": "python3"
  },
  "language_info": {
   "codemirror_mode": {
    "name": "ipython",
    "version": 3
   },
   "file_extension": ".py",
   "mimetype": "text/x-python",
   "name": "python",
   "nbconvert_exporter": "python",
   "pygments_lexer": "ipython3",
   "version": "3.7.4"
  }
 },
 "nbformat": 4,
 "nbformat_minor": 2
}
